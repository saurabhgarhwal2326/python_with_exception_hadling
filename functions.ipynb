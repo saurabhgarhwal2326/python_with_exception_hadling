{
 "cells": [
  {
   "cell_type": "code",
   "execution_count": null,
   "metadata": {},
   "outputs": [],
   "source": [
    "def my_functions():\n",
    "    pass"
   ]
  },
  {
   "cell_type": "code",
   "execution_count": null,
   "metadata": {},
   "outputs": [],
   "source": [
    "def my_functions():\n",
    "    print(\"hello hii kesa ho\")\n",
    "my_functions()"
   ]
  },
  {
   "cell_type": "code",
   "execution_count": null,
   "metadata": {},
   "outputs": [],
   "source": [
    "def two_tabels():\n",
    "    # a=10\n",
    "    # b=20\n",
    "    a=int (input(\"enter password\"))\n",
    "    if a<5:\n",
    "        print(\"hii helllo\")\n",
    "    else:\n",
    "        print(\"helo\")\n",
    "two_tabels()"
   ]
  },
  {
   "cell_type": "code",
   "execution_count": null,
   "metadata": {},
   "outputs": [],
   "source": [
    "my_functions()"
   ]
  },
  {
   "cell_type": "code",
   "execution_count": null,
   "metadata": {},
   "outputs": [],
   "source": [
    "def two_tabels():\n",
    "    a=0\n",
    "    while a<20:\n",
    "        a+=2\n",
    "        print(a)\n",
    "two_tabels()"
   ]
  },
  {
   "cell_type": "code",
   "execution_count": null,
   "metadata": {},
   "outputs": [],
   "source": [
    "a=0\n",
    "while a<20:\n",
    "    a+=2\n",
    "    print(a)"
   ]
  },
  {
   "cell_type": "code",
   "execution_count": null,
   "metadata": {},
   "outputs": [],
   "source": [
    "def saurabh():\n",
    "    a=0\n",
    "    while a<20:\n",
    "        a+=1\n",
    "        print(a)\n",
    "saurabh()"
   ]
  },
  {
   "cell_type": "code",
   "execution_count": null,
   "metadata": {},
   "outputs": [],
   "source": [
    "def kiran():\n",
    "    a=0\n",
    "    while a<10:\n",
    "        a+=1\n",
    "        print(a)\n",
    "kiran()"
   ]
  },
  {
   "cell_type": "code",
   "execution_count": null,
   "metadata": {},
   "outputs": [],
   "source": [
    "def code():\n",
    "    a=0\n",
    "    while a<15:\n",
    "        a+=1\n",
    "        print(a)\n",
    "code()"
   ]
  },
  {
   "cell_type": "code",
   "execution_count": null,
   "metadata": {},
   "outputs": [],
   "source": [
    "def one():\n",
    "    a=10\n",
    "    b=100\n",
    "    if a<b:\n",
    "        print(\"govind\")\n",
    "    elif a>b: \n",
    "         print(\"saurab\")\n",
    "    elif a==b:\n",
    "        print(\"ankue\")     \n",
    "    elif b==a:\n",
    "        print (\"ramjit\")\n",
    "    else:\n",
    "        print(\"bhai tum sabhi glat ho \")    \n",
    "one()"
   ]
  },
  {
   "cell_type": "code",
   "execution_count": null,
   "metadata": {},
   "outputs": [],
   "source": [
    "a=100\n",
    "b=1000\n",
    "if a<b:\n",
    "    print(\"a b se bada h \")\n",
    "elif a>b:\n",
    "    print(\"b a se bada h \")\n",
    "elif a==b:\n",
    "    print(\"a b ke barabar h \")\n",
    "elif b==a:\n",
    "    print(\"b a ke barabar h \")\n",
    "else:\n",
    "    print(\"aap sab sahi ho\")"
   ]
  },
  {
   "cell_type": "code",
   "execution_count": null,
   "metadata": {},
   "outputs": [],
   "source": [
    "def saurabh_kiran():\n",
    "    a=40\n",
    "    b=20\n",
    "    if a>b:\n",
    "        print(\"a b se bada h \")\n",
    "    elif b>a:\n",
    "        print(\"b a se bada h \")\n",
    "    elif a==b:\n",
    "        print(\"a b ke equal h \")\n",
    "    elif b==a:\n",
    "        print(\"b a ke equal h\")\n",
    "    else:\n",
    "        print(\"aap sab sahi ho \")\n",
    "saurabh_kiran()"
   ]
  },
  {
   "cell_type": "code",
   "execution_count": null,
   "metadata": {},
   "outputs": [],
   "source": [
    "def two_number():\n",
    "    a=10\n",
    "    b=20\n",
    "    if a>b:\n",
    "        print(\"a b se bada h \")\n",
    "    elif b>a:\n",
    "        print(\"b a se bada h \")\n",
    "    elif a==b:\n",
    "        print(\"a b ke equal h \")\n",
    "    elif b==a:\n",
    "        print(\"b a ke equal h \")\n",
    "    else:\n",
    "        print(\"aap sab sahi ho \")\n",
    "two_number()\n"
   ]
  },
  {
   "cell_type": "code",
   "execution_count": null,
   "metadata": {},
   "outputs": [],
   "source": [
    "def three_tables():\n",
    "    a=0\n",
    "    while a<10:\n",
    "        a+=1\n",
    "        if a==5:\n",
    "            continue\n",
    "        elif a==7:\n",
    "            continue\n",
    "        print(a)\n",
    "three_tables()"
   ]
  },
  {
   "cell_type": "code",
   "execution_count": null,
   "metadata": {},
   "outputs": [],
   "source": [
    "a=0\n",
    "while a<10:\n",
    "    a+=1\n",
    "    if a==5:\n",
    "        continue\n",
    "    elif a==7:\n",
    "        continue\n",
    "    print(a)\n",
    "    "
   ]
  },
  {
   "cell_type": "code",
   "execution_count": null,
   "metadata": {},
   "outputs": [],
   "source": [
    "def tabels ():\n",
    "    a=0\n",
    "    while a<15:\n",
    "        a+=1\n",
    "        if a==8:\n",
    "            continue\n",
    "        elif a==12:\n",
    "            continue\n",
    "        print(a)\n",
    "        \n",
    "tabels()"
   ]
  },
  {
   "cell_type": "code",
   "execution_count": null,
   "metadata": {},
   "outputs": [],
   "source": [
    "def basic ():\n",
    "    a=0\n",
    "    while a<20:\n",
    "        a+=2\n",
    "        if a==6:\n",
    "            continue\n",
    "        elif a==16:\n",
    "            continue\n",
    "        print(a)\n",
    "basic()"
   ]
  },
  {
   "cell_type": "code",
   "execution_count": null,
   "metadata": {},
   "outputs": [],
   "source": [
    "a  =0\n",
    "while a<30:\n",
    "    a+=3\n",
    "    if a==5:\n",
    "        continue\n",
    "    elif a==10:\n",
    "        continue\n",
    "    print(a)\n"
   ]
  },
  {
   "cell_type": "code",
   "execution_count": null,
   "metadata": {},
   "outputs": [],
   "source": [
    "a=0\n",
    "while a<25:\n",
    "    a+=1\n",
    "    if a==11:\n",
    "        continue\n",
    "    elif a==22:\n",
    "        continue\n",
    "    print(a)"
   ]
  },
  {
   "cell_type": "code",
   "execution_count": null,
   "metadata": {},
   "outputs": [],
   "source": [
    "def all_numbers():\n",
    "    a=0\n",
    "    while a<5:\n",
    "        a+=1\n",
    "        if a==2:\n",
    "            continue\n",
    "        elif a==5:\n",
    "            continue\n",
    "        print(a)\n",
    "all_numbers()"
   ]
  },
  {
   "cell_type": "code",
   "execution_count": null,
   "metadata": {},
   "outputs": [],
   "source": [
    "input()"
   ]
  },
  {
   "cell_type": "code",
   "execution_count": null,
   "metadata": {},
   "outputs": [],
   "source": [
    "def five_table():\n",
    "    a = int(input(\"Enter any number\"))\n",
    "    \n",
    "    while a<50:\n",
    "        a+=5\n",
    "        if a==30:\n",
    "            continue\n",
    "        print(a)\n",
    "five_table()"
   ]
  },
  {
   "cell_type": "code",
   "execution_count": null,
   "metadata": {},
   "outputs": [],
   "source": [
    "a=int(input(\"enter any numbers\"))\n",
    "while a<11:\n",
    "    a+=1\n",
    "    if a==7:\n",
    "        continue\n",
    "    elif a==9:\n",
    "        continue\n",
    "    print(a)"
   ]
  },
  {
   "cell_type": "code",
   "execution_count": null,
   "metadata": {},
   "outputs": [],
   "source": [
    "a = int (input(\"Enter any numbers\"))\n",
    "while a<6:\n",
    "    a+=1\n",
    "    if a==2:\n",
    "        continue\n",
    "    elif a==5:\n",
    "        continue\n",
    "    print(a)"
   ]
  },
  {
   "cell_type": "code",
   "execution_count": null,
   "metadata": {},
   "outputs": [],
   "source": [
    "a=0\n",
    "while a<90:\n",
    "    a+=9\n",
    "    if a==45: \n",
    "      continue\n",
    "    print(a)"
   ]
  },
  {
   "cell_type": "code",
   "execution_count": null,
   "metadata": {},
   "outputs": [],
   "source": [
    "a=0\n",
    "while a<70:\n",
    "    a+=7\n",
    "    if a==35:\n",
    "        continue\n",
    "    print(a)"
   ]
  },
  {
   "cell_type": "code",
   "execution_count": null,
   "metadata": {},
   "outputs": [],
   "source": [
    "a = int(input(\"enter any number\"))\n",
    "while a<70:\n",
    "    if a==7:\n",
    "        continue\n",
    "    print(a)"
   ]
  },
  {
   "cell_type": "code",
   "execution_count": null,
   "metadata": {},
   "outputs": [],
   "source": [
    "a= int (input(\"enter any numbers \"))\n",
    "while a<10:\n",
    "    a+=1\n",
    "    if a==4:\n",
    "        continue\n",
    "    print(a)"
   ]
  },
  {
   "cell_type": "code",
   "execution_count": null,
   "metadata": {},
   "outputs": [],
   "source": [
    "a=[1,2,3,4,5,6,7,8,9,10]\n",
    "for x in a:\n",
    "    if x%2!=0:\n",
    "        print(x)\n",
    "    else:\n",
    "        pass\n",
    "    "
   ]
  },
  {
   "cell_type": "code",
   "execution_count": null,
   "metadata": {},
   "outputs": [],
   "source": [
    "a =[1,2,3,4,5,6,7,8,9,10]\n",
    "for x in a:\n",
    "    if x%2!=0:\n",
    "        print(x)\n",
    "    else:\n",
    "        pass"
   ]
  },
  {
   "cell_type": "code",
   "execution_count": null,
   "metadata": {},
   "outputs": [],
   "source": [
    "s= [10,20,30,40,50,60,70,80,90,100]\n",
    "for x in s:\n",
    "    if x%2!=10:\n",
    "        print(x)\n",
    "    else:\n",
    "        pass"
   ]
  },
  {
   "cell_type": "code",
   "execution_count": null,
   "metadata": {},
   "outputs": [],
   "source": [
    "d = [11,22,33,44,55,66,77,88,99]\n",
    "for x in d:\n",
    "    if x%2!=10:\n",
    "        print(x)\n",
    "    else:\n",
    "        pass"
   ]
  },
  {
   "cell_type": "code",
   "execution_count": null,
   "metadata": {},
   "outputs": [],
   "source": [
    "def for_loop():\n",
    "    k=[1,2,3,4,5,6,7,8,8,9,9]\n",
    "    for x in k:\n",
    "        if x%2!=0:\n",
    "            print(x)\n",
    "        else:\n",
    "            pass\n",
    "for_loop()"
   ]
  },
  {
   "cell_type": "code",
   "execution_count": null,
   "metadata": {},
   "outputs": [],
   "source": [
    "def ram():\n",
    "    a=[1,2,3,4,5,6,7,8,9]\n",
    "    for x in a:\n",
    "        if x%2!=2:\n",
    "            print(x)\n",
    "\n",
    "        else:\n",
    "            pass\n",
    "ram()"
   ]
  },
  {
   "cell_type": "code",
   "execution_count": null,
   "metadata": {},
   "outputs": [],
   "source": [
    "\n",
    "def even_number ():\n",
    "\n",
    "    a=0\n",
    "    while a< 20:\n",
    "        a+=1\n",
    "        if a%2!=0: \n",
    "            print(\"this is odd number:-\",a)\n",
    "        if a==17:\n",
    "            \n",
    "            continue\n",
    "        else:\n",
    "            print(\"this is even number:-\",a)\n",
    "        \n",
    "even_number()"
   ]
  },
  {
   "cell_type": "code",
   "execution_count": null,
   "metadata": {},
   "outputs": [],
   "source": [
    "a=0\n",
    "while a<20:\n",
    "    a+=1\n",
    "    if a%2!=0:\n",
    "        print(\"this is odd number\",a)\n",
    "    if a==15:\n",
    "          continue\n",
    "    else:\n",
    "        print(\"this is even  number\",a)\n",
    "      "
   ]
  },
  {
   "cell_type": "code",
   "execution_count": null,
   "metadata": {},
   "outputs": [],
   "source": [
    "def function_name():\n",
    "    a=0\n",
    "    while a<20:\n",
    "        a+=1\n",
    "        if a%2==0:\n",
    "          if a==18:\n",
    "                continue\n",
    "             \n",
    "\n",
    "          print(\"this is even number\",a)\n",
    "             \n",
    "        else:\n",
    "           print(\"this is odd number\",a)\n",
    "function_name()\n",
    "\n",
    "          "
   ]
  },
  {
   "cell_type": "code",
   "execution_count": null,
   "metadata": {},
   "outputs": [],
   "source": [
    "a=0\n",
    "while a<10:\n",
    "    a+=1\n",
    "    if a%2==0:\n",
    "        if a==5:\n",
    "            continue\n",
    "        print(\"this is even number\",a)\n",
    "    else:\n",
    "        print(\"this is odd number \",a)\n"
   ]
  },
  {
   "cell_type": "code",
   "execution_count": null,
   "metadata": {},
   "outputs": [],
   "source": [
    "a=0\n",
    "while a<10:\n",
    "    a+=1\n",
    "    if a%2!=0:\n",
    "        if a==7:\n",
    "            continue\n",
    "        print(\"this is even number \",a)\n",
    "    else:\n",
    "        print(\"this is odd number\",a)\n",
    "        "
   ]
  },
  {
   "cell_type": "code",
   "execution_count": null,
   "metadata": {},
   "outputs": [],
   "source": [
    "def odd_even():\n",
    "    a=1\n",
    "    while a<30:\n",
    "      a+=1\n",
    "      if a%2==0:\n",
    "        if a==24:\n",
    "            continue\n",
    "        print(\"this is even number\",a)\n",
    "    else:\n",
    "        print(\"this is odd number\",a)\n",
    "odd_even()\n"
   ]
  },
  {
   "cell_type": "code",
   "execution_count": null,
   "metadata": {},
   "outputs": [],
   "source": [
    "a =1\n",
    "while a<25:\n",
    " a+=1\n",
    " if a%2==0:\n",
    "  if a ==18:\n",
    "   continue\n",
    "  print(\"this is even number\",a)\n",
    " else:\n",
    "  print(\"this is odd number\",a)\n",
    "  "
   ]
  },
  {
   "cell_type": "code",
   "execution_count": null,
   "metadata": {},
   "outputs": [],
   "source": [
    "name=\"govind\"\n",
    "while name<100:\n",
    "    \n",
    "    print(name)"
   ]
  },
  {
   "cell_type": "markdown",
   "metadata": {},
   "source": [
    "## Function in python \n",
    "* a function is a block of code which is only run when it is called \n",
    " * parameter data\n",
    "## Creating a function \n",
    "       def key word"
   ]
  },
  {
   "cell_type": "code",
   "execution_count": null,
   "metadata": {},
   "outputs": [],
   "source": [
    "def my_function():\n",
    "    pass      #  def function key word or jo aapka my_function is function name \n"
   ]
  },
  {
   "cell_type": "markdown",
   "metadata": {},
   "source": [
    " # Calling a function \n",
    "* uske function ke name se hi us ko call karte h"
   ]
  },
  {
   "cell_type": "code",
   "execution_count": null,
   "metadata": {},
   "outputs": [],
   "source": [
    "def my_function():\n",
    "    print(\"hello saurabh\")\n",
    "# def function keyword or jo aap ka my_function is function name\n",
    "my_function()   # calling a function "
   ]
  },
  {
   "cell_type": "markdown",
   "metadata": {},
   "source": [
    " ## Arguments\n",
    " * value pass karne ke liye "
   ]
  },
  {
   "cell_type": "code",
   "execution_count": null,
   "metadata": {},
   "outputs": [],
   "source": [
    "def my_name():\n",
    "    print(\"helli\")\n",
    "my_name()\n",
    "\n",
    "# functions ko define karte h or us ke aandar jo pass karte h us ko bolta h parameters\n",
    "# functions ko call karte h or us ke aanadr jo pass karte h us ko bolte h arguments\n"
   ]
  },
  {
   "cell_type": "code",
   "execution_count": null,
   "metadata": {},
   "outputs": [],
   "source": [
    "\n",
    "def my_function(name):  # name is parameters h \n",
    "    print(\"my name is \",name)\n",
    "my_function(name=\"saurabh\") # yea jo pass kar raha hu vo  h argument\n",
    "my_function(name=\"govind\")\n",
    "my_function(name=\"ram\")\n",
    "\n"
   ]
  },
  {
   "cell_type": "code",
   "execution_count": null,
   "metadata": {},
   "outputs": [],
   "source": [
    "def sk_k(name):\n",
    "    print(\"my name is \",name)\n",
    "sk_k(name=\"saurabh\")"
   ]
  },
  {
   "cell_type": "code",
   "execution_count": null,
   "metadata": {},
   "outputs": [],
   "source": [
    "def last_name(first_name,last_name):\n",
    "    print(\"my name is \",first_name+ \" \"+last_name)\n",
    "last_name(first_name=\"saurabh\",last_name=\"kiran\")"
   ]
  },
  {
   "cell_type": "code",
   "execution_count": null,
   "metadata": {},
   "outputs": [],
   "source": [
    "def my(first_name,last_name):\n",
    "    print(\"my name is \", first_name+\" \"+last_name)\n",
    "my(first_name=\"kiran\",last_name=\"bajiya\")\n"
   ]
  },
  {
   "cell_type": "code",
   "execution_count": null,
   "metadata": {},
   "outputs": [],
   "source": [
    "def full_name(first_name,last_name):\n",
    "    print( \"my name is\",first_name+ \" \"+last_name)\n",
    "full_name(first_name=\"saurabh\",last_name=\"garhwal\")"
   ]
  },
  {
   "cell_type": "code",
   "execution_count": null,
   "metadata": {},
   "outputs": [],
   "source": [
    "def kiran(first_name,k):\n",
    "    print(\"my name is \",first_name+ \" \"+ k)\n",
    "kiran(first_name=\"kiran\",k=\"saurabh\")"
   ]
  },
  {
   "cell_type": "code",
   "execution_count": null,
   "metadata": {},
   "outputs": [],
   "source": [
    "def numbers(first_number,second_number):\n",
    "    print(\"my_number is\",first_number+second_number)\n",
    "numbers(first_number=6,second_number=2)"
   ]
  },
  {
   "cell_type": "code",
   "execution_count": null,
   "metadata": {},
   "outputs": [],
   "source": [
    "def numbers(first_number,second_number):\n",
    "    print(\"my number is\",first_number*second_number)\n",
    "numbers(first_number=6,second_number=2)"
   ]
  },
  {
   "cell_type": "code",
   "execution_count": null,
   "metadata": {},
   "outputs": [],
   "source": [
    "def numbers(first_number,second_number):\n",
    "    print(\"my number is\",first_number/second_number)\n",
    "numbers(first_number=120,second_number=6)"
   ]
  },
  {
   "cell_type": "code",
   "execution_count": null,
   "metadata": {},
   "outputs": [],
   "source": [
    "def numbers(first_number,second_number):\n",
    "    print(\"mu number is \",first_number%second_number)\n",
    "numbers(first_number=1000,second_number=771)"
   ]
  },
  {
   "cell_type": "code",
   "execution_count": null,
   "metadata": {},
   "outputs": [],
   "source": [
    "def num(first_number,second_number ):\n",
    "    print(\"this is \",first_number+second_number)\n",
    "num(first_number=12,second_number=89)\n"
   ]
  },
  {
   "cell_type": "markdown",
   "metadata": {},
   "source": [
    " ## Default parameter value"
   ]
  },
  {
   "cell_type": "code",
   "execution_count": null,
   "metadata": {},
   "outputs": [],
   "source": [
    "def family_member(first_name,last_name=\"garhwal\"):\n",
    "    print(\"my name is\",first_name+ \" \"+last_name)\n",
    "\n",
    "family_member(first_name=\"saurabh\")"
   ]
  },
  {
   "cell_type": "code",
   "execution_count": null,
   "metadata": {},
   "outputs": [],
   "source": [
    "def my_family(first_name,last_name=\"Garhwal\"):\n",
    "    print(\"my name is\",first_name+ \" \"+last_name)\n",
    "my_family(first_name=\"saurabh\")\n"
   ]
  },
  {
   "cell_type": "code",
   "execution_count": null,
   "metadata": {},
   "outputs": [],
   "source": [
    "def member(first,last=\"bajiya\"):\n",
    "    print(\"my name  is\",first+ \" \"+last)\n",
    "member(first=\"kiran\")"
   ]
  },
  {
   "cell_type": "code",
   "execution_count": null,
   "metadata": {},
   "outputs": [],
   "source": [
    "def country(country=\"india\"):\n",
    "    print(\"i am from to \",country)\n",
    "country()\n",
    "country(country=\"pakisthan\")\n",
    "country(country=\"china\")\n"
   ]
  },
  {
   "cell_type": "code",
   "execution_count": null,
   "metadata": {},
   "outputs": [],
   "source": [
    "def das(country=\"russia\"):\n",
    "    print(\"my country is \",country)\n",
    "das()\n",
    "das(\"baharat\")\n",
    "das(\"pakisthan\")"
   ]
  },
  {
   "cell_type": "code",
   "execution_count": null,
   "metadata": {},
   "outputs": [],
   "source": [
    "def a(country=\"bharat\"):\n",
    "    print(\"i am living in \",country)\n",
    "a(country=\"rajasthan\")\n"
   ]
  },
  {
   "cell_type": "code",
   "execution_count": null,
   "metadata": {},
   "outputs": [],
   "source": [
    "def fruits(lst):\n",
    "    pass\n",
    "    for x in lst:\n",
    "        print(\"i like this fruits\",x)\n",
    "lst=[\"apple\",\"bannana\",\"orange\"]\n",
    "fruits(lst)\n"
   ]
  },
  {
   "cell_type": "code",
   "execution_count": null,
   "metadata": {},
   "outputs": [],
   "source": [
    "def fruits(lst):\n",
    "    for x in lst:\n",
    "     print(\"i love \",x)\n",
    "lst=[\"mango\",\"sab\",\"aam\",\"amurid\"]\n",
    "fruits(lst)"
   ]
  },
  {
   "cell_type": "code",
   "execution_count": null,
   "metadata": {},
   "outputs": [],
   "source": [
    "def sabji(ls):\n",
    "    for x in ls:\n",
    "        print(\"i like\",x)\n",
    "ls=[\"aalu\",\"gobi\",\"matar\"]\n",
    "sabji(ls)"
   ]
  },
  {
   "cell_type": "code",
   "execution_count": null,
   "metadata": {},
   "outputs": [],
   "source": [
    "def family_member(family,last_name = \"Garhwal\"):\n",
    "    print(\"Total family member in my family:-\",len(family))\n",
    "    for name in family:\n",
    "        print(\"My family member is \",name + \" \"+last_name )\n",
    "\n",
    "    \n",
    "family = (\"Kishan lal\",\"Santosh devi \",\"Sourbh\",\"Manish\")\n",
    "family_member(family)"
   ]
  },
  {
   "cell_type": "code",
   "execution_count": null,
   "metadata": {},
   "outputs": [],
   "source": [
    "def my_love():\n",
    "    pass\n",
    "my_love()\n"
   ]
  },
  {
   "cell_type": "code",
   "execution_count": null,
   "metadata": {},
   "outputs": [],
   "source": [
    "def family(a,last_name=\"kumar\"):\n",
    "    print(\"total famiily members in my family \",len(a))\n",
    "    for x in a:\n",
    "        print(\"my family members\",x+\" \"+last_name)\n",
    "\n",
    "    pass\n",
    "a=(\"manish\",\"ram\",\"shiyam\")\n",
    "family(a)\n"
   ]
  },
  {
   "cell_type": "code",
   "execution_count": null,
   "metadata": {},
   "outputs": [],
   "source": [
    "a=\"[24,43,45,65,]\"\n",
    "print(type(a))"
   ]
  },
  {
   "cell_type": "code",
   "execution_count": null,
   "metadata": {},
   "outputs": [],
   "source": [
    "# def calculator():\n",
    "#     pass\n",
    "# a=0,10\n",
    "#     print(a)\n",
    "#     for x in a:\n",
    "# calculator()\n",
    "# 0 to 10 \n",
    "# def number():\n",
    "#     for x in range(0,10):\n",
    "#         # print(x+1)\n",
    "#         x+=x\n",
    "#         print(x)\n",
    "    \n",
    "# number()\n",
    "\n",
    "# print(0+1+2+3+4+5+6+7+8+9+10)\n",
    "# a =int(input(\"enter your number \"))\n",
    "# b =int(input(\"enter your number\")) \n",
    "# print(a+b)\n",
    "\n"
   ]
  },
  {
   "cell_type": "code",
   "execution_count": null,
   "metadata": {},
   "outputs": [],
   "source": [
    "# def input():\n",
    "#     a=0\n",
    "#     a<100\n",
    "#     a+=1\n",
    "#     print(a)\n",
    "# input()\n",
    "a=int(input(\"enter your number\"))\n",
    "\n",
    "def my(a):\n",
    "    while a <100:\n",
    "        a+=1\n",
    "        print(a)\n",
    "    \n",
    "my(a)\n"
   ]
  },
  {
   "cell_type": "code",
   "execution_count": null,
   "metadata": {},
   "outputs": [],
   "source": [
    "def vapis_karna(x):\n",
    "    return 5*x \n",
    "print(vapis_karna(4))\n",
    "print(vapis_karna(4))\n",
    "print(vapis_karna(4))\n",
    "print(vapis_karna(4))\n",
    "print(vapis_karna(9))\n",
    "print(vapis_karna(7))\n",
    "print(vapis_karna(42))\n",
    "print(vapis_karna(5))\n",
    "print(vapis_karna(3))\n"
   ]
  },
  {
   "cell_type": "code",
   "execution_count": null,
   "metadata": {},
   "outputs": [],
   "source": [
    "def asdf(x):\n",
    "    return 10*x\n",
    "print(asdf(1))\n",
    "print(asdf(1))\n",
    "print(asdf(6))"
   ]
  },
  {
   "cell_type": "markdown",
   "metadata": {},
   "source": [
    "##  List comprehension"
   ]
  },
  {
   "cell_type": "code",
   "execution_count": null,
   "metadata": {},
   "outputs": [],
   "source": [
    "for x in range (1):\n",
    "    print(x)\n",
    "    s= [x*2 for x in range(10)]\n",
    "    print(s)"
   ]
  },
  {
   "cell_type": "code",
   "execution_count": null,
   "metadata": {},
   "outputs": [],
   "source": [
    "for x in range(10):\n",
    "    print(x**2)"
   ]
  },
  {
   "cell_type": "code",
   "execution_count": null,
   "metadata": {},
   "outputs": [],
   "source": [
    "def factorial():\n",
    "    pass\n",
    "factorial()"
   ]
  },
  {
   "cell_type": "code",
   "execution_count": null,
   "metadata": {},
   "outputs": [],
   "source": []
  },
  {
   "cell_type": "code",
   "execution_count": null,
   "metadata": {},
   "outputs": [],
   "source": [
    "manish=int(input(\"enter your manish age\"))\n",
    "saurabh=int(input(\"enter your saurabh age\"))\n",
    "kishanlal=int(input(\"enter kishanlal age \"))\n",
    "\n",
    "if manish>saurabh:\n",
    "    print(\"manish saurabh se bada  h \")\n",
    "elif saurabh<kishanlal>manish:\n",
    "    print(\"saurabh se bade h kishanlal,manish kishan lal se chota h \")\n",
    "else:\n",
    "    print(\"saurabh manish se bada h \")"
   ]
  },
  {
   "cell_type": "code",
   "execution_count": null,
   "metadata": {},
   "outputs": [],
   "source": [
    "a=[2,3,43,45,65,77]\n",
    "\n",
    "for x in a:\n",
    "    if x%2==0:\n",
    "        print(\"this item is even\",x)\n",
    "    else:\n",
    "        print(\"this item is odd\",x)"
   ]
  },
  {
   "cell_type": "code",
   "execution_count": null,
   "metadata": {},
   "outputs": [],
   "source": [
    "def age():\n",
    "    kiran=int(input(\"enter kiran age \"))\n",
    "    sonu = int (input(\"enter sonu age \") )\n",
    "    \n",
    "    if kiran<sonu:\n",
    "        print(\"kiran nabalik nahi h\")\n",
    "    else:\n",
    "        print(\"sonu nabalik h \")\n",
    "\n",
    "    \n",
    "age()\n"
   ]
  },
  {
   "cell_type": "code",
   "execution_count": null,
   "metadata": {},
   "outputs": [],
   "source": [
    "def even():\n",
    "    num=0\n",
    "    while num<14:\n",
    "        num+=1\n",
    "    if num%2==0:\n",
    "      if num==2:\n",
    "        \n",
    "        print(\"even_number\",num)\n",
    "    # elif x%2==0:\n",
    "      else:\n",
    "        print(\"odd_number\",num)\n",
    "\n",
    "even()"
   ]
  },
  {
   "cell_type": "code",
   "execution_count": null,
   "metadata": {},
   "outputs": [],
   "source": [
    "a =0\n",
    "while a<7:\n",
    " a+=1\n",
    " if a%2==0:\n",
    "  if a ==3:\n",
    "   continue\n",
    "  print(\"this is even number\",a)\n",
    " else:\n",
    "  print(\"this is odd number\",a)\n",
    "  "
   ]
  },
  {
   "cell_type": "code",
   "execution_count": null,
   "metadata": {},
   "outputs": [],
   "source": [
    "a=0\n",
    "while a<10:\n",
    "    a+=1\n",
    "    if a%2==0:\n",
    "        if a==5:\n",
    "            continue\n",
    "        print(\"this is odd number\",a)\n",
    "    else:\n",
    "        print(\"this is even number \",a)\n"
   ]
  },
  {
   "cell_type": "code",
   "execution_count": null,
   "metadata": {},
   "outputs": [],
   "source": [
    "a=0\n",
    "while a<4:\n",
    "    a+=1\n",
    "    if a%2==0:\n",
    "        if  a==3:\n",
    "            continue\n",
    "        print(\"odd number\",a)\n",
    "    else:\n",
    "        print(\"even number\",a)\n"
   ]
  },
  {
   "cell_type": "code",
   "execution_count": null,
   "metadata": {},
   "outputs": [],
   "source": [
    "\n",
    "\n",
    "def is_leap_year(year):\n",
    "    if (year % 4 == 0 and year % 100 != 0) or (year % 400 == 0):\n",
    "        return True\n",
    "    else:\n",
    "        return False\n",
    "\n",
    "# # Ask the user for their score\n",
    "# score = int(input(\"Enter your score (0-100): \"))\n",
    "# grade = calculate_grade(score)\n",
    "# print(f\"Your grade is: {grade}\")\n",
    "\n",
    "# # Ask the user for the year to check if it's a leap year\n",
    "# year = int(input(\"Enter a year to check if it's a leap year: \"))\n",
    "# if is_leap_year(year):\n",
    "#     print(f\"{year} is a leap year.\")\n",
    "# else:\n",
    "#     print(f\"{year} is not a leap year.\")\n"
   ]
  },
  {
   "cell_type": "code",
   "execution_count": null,
   "metadata": {},
   "outputs": [],
   "source": [
    "year = int(input(\"Enter a year to check if it's a leap year: \"))\n",
    "if (year):\n",
    "    print(f\"{year} is a leap year.\")\n",
    "else:\n",
    "    print(f\"{year} is not a leap year.\",)"
   ]
  },
  {
   "cell_type": "code",
   "execution_count": null,
   "metadata": {},
   "outputs": [],
   "source": [
    "a=\"saurabh\"\n",
    "for string  in a:\n",
    "    print(string)"
   ]
  },
  {
   "cell_type": "code",
   "execution_count": null,
   "metadata": {},
   "outputs": [],
   "source": [
    "num=[21,23,54,57,87]\n",
    "for item in num:\n",
    "    print(item)"
   ]
  },
  {
   "cell_type": "code",
   "execution_count": null,
   "metadata": {},
   "outputs": [],
   "source": [
    "ls=[1,2,3,4,6,8,9,6,7,8,32,45,87,32,53,54,64]\n",
    "for x in ls:\n",
    "    if x%4==0:\n",
    "        print(\"that item is divide by 4\",x)\n",
    "    else:\n",
    "        print(\"not divide by 4 \",x)\n",
    "   "
   ]
  },
  {
   "cell_type": "code",
   "execution_count": null,
   "metadata": {},
   "outputs": [],
   "source": [
    "for item in range(0,100):\n",
    "    if item%5==0:\n",
    "        \n",
    "        print(\"that itemin devided by 5\",item)\n",
    "        \n",
    "    else:\n",
    "        print(\"not devided by 5\",item)\n"
   ]
  },
  {
   "cell_type": "code",
   "execution_count": null,
   "metadata": {},
   "outputs": [],
   "source": [
    "def calculate_grade(score):\n",
    "    if 90 <= score <= 100:\n",
    "        return 'A'\n",
    "    elif 80 <= score <= 89:\n",
    "        return 'B'\n",
    "    elif 70 <= score <= 79:\n",
    "        return 'C'\n",
    "    elif 60 <= score <= 69:\n",
    "        return 'D'\n",
    "    elif 0 <= score <= 59:\n",
    "        return 'F'\n",
    "    else:\n",
    "        return 'Invalid score'\n",
    "calculate_grade(score=85)"
   ]
  },
  {
   "cell_type": "code",
   "execution_count": null,
   "metadata": {},
   "outputs": [],
   "source": []
  },
  {
   "cell_type": "code",
   "execution_count": null,
   "metadata": {},
   "outputs": [],
   "source": [
    "def sk(number):\n",
    "\n",
    "    if 90<=number<=100:\n",
    "\n",
    "        return \"pass\"\n",
    "    else:\n",
    "        return\"fali\"\n",
    "sk(91)"
   ]
  },
  {
   "cell_type": "code",
   "execution_count": null,
   "metadata": {},
   "outputs": [],
   "source": [
    "def number(clear):\n",
    "    if 50<=clear<=60:\n",
    "        return \"clear\"\n",
    "    elif 70<=clear<=80:\n",
    "        return \"minimum\"\n",
    "    elif 81<=clear<=90:\n",
    "        return \"maximum\"\n",
    "    elif 91<=clear<=100:\n",
    "        return \"all clear\"\n",
    "    else:\n",
    "\n",
    "        return \"not clear\"\n",
    "number(92)\n"
   ]
  },
  {
   "cell_type": "code",
   "execution_count": null,
   "metadata": {},
   "outputs": [],
   "source": [
    "def country (india):\n",
    "    if 10<=india<=20:\n",
    "        return \"rajasthan\"\n",
    "    elif 21<=india<=30:\n",
    "        return \"punjab\"\n",
    "    elif 31<=india<=40:\n",
    "        return \"hariyana\"\n",
    "    elif 41<=india<=50:\n",
    "        return 'sikar'\n",
    "    else:\n",
    "        return \"ajmer\"\n",
    "    \n",
    "country()"
   ]
  },
  {
   "cell_type": "code",
   "execution_count": null,
   "metadata": {},
   "outputs": [],
   "source": [
    "# 10\n",
    "# Write a Python program that takes a number as input and prints:\n",
    "# \"Positive\" if the number is greater than zero.\n",
    "# \"Negative\" if the number is less than zero.\n",
    "# \"Zero\" if the number is zero.\n",
    "# Login Authentication:\n"
   ]
  },
  {
   "cell_type": "code",
   "execution_count": null,
   "metadata": {},
   "outputs": [],
   "source": [
    "a= int(input(\"enter your chose number \"))\n",
    "if a>1:\n",
    "    print(\"positive\")\n",
    "elif a==0:\n",
    "    print(\"zero\")\n",
    "elif a<0:\n",
    "    print(\"negative\")\n",
    "else:\n",
    "    print(\"all claer\")"
   ]
  },
  {
   "cell_type": "code",
   "execution_count": null,
   "metadata": {},
   "outputs": [],
   "source": [
    "def first_number(ls):\n",
    "\n",
    "    for x in ls:\n",
    "         print(x)\n",
    "ls=[12,23,43,54,65,59,67]\n",
    "first_number(ls=ls)"
   ]
  },
  {
   "cell_type": "code",
   "execution_count": null,
   "metadata": {},
   "outputs": [],
   "source": [
    "def number(a):\n",
    "\n",
    "\n",
    "\n",
    "    print(a)\n",
    "a=int(input(\"enter your amount\"))\n",
    "\n",
    "\n",
    "number(a)\n"
   ]
  },
  {
   "cell_type": "code",
   "execution_count": null,
   "metadata": {},
   "outputs": [],
   "source": [
    "def num (b):\n",
    "    if a>100:\n",
    "        print(r\"You have received 10% discount 😊\")\n",
    "        print(a*10/100)\n",
    "        print(\"Thanks for visiting🤩🥰 \")\n",
    "\n",
    "    else:\n",
    "        print(r\"You are not received 10% discount because your amount less then 100 😢 \" )\n",
    "        print(\"Thanks for Visiting 🤩🥰\")\n",
    "\n",
    "    \n",
    "\n",
    " \n",
    "\n",
    "\n",
    "a=int(input(\"Enter your Amount ❤❤ \"))\n",
    "\n",
    "num(b=a)\n"
   ]
  },
  {
   "cell_type": "code",
   "execution_count": null,
   "metadata": {},
   "outputs": [],
   "source": [
    "def shopping(b):\n",
    "    if a>500:\n",
    "        print(r\"you are received 23% discount \")\n",
    "        print(a*23/500)\n",
    "        print(\"thanks for visiting \")\n",
    "    else:\n",
    "        print(r\"you are not received 23% discount becouse less than 100 repees \")\n",
    "        print(\"thanks for visiting \")\n",
    "\n",
    "a=int(input(\"enter your amount\"))\n",
    "shopping(b=a)\n"
   ]
  },
  {
   "cell_type": "code",
   "execution_count": null,
   "metadata": {},
   "outputs": [],
   "source": [
    "a=int(input(\"enter your first number\"))\n",
    "b=int(input(\"enter your second number\"))\n",
    "c=int(input(\"enter your third number \"))\n",
    "if a>b>c:\n",
    "    print(\"a  bada h\")\n",
    "elif a>b<c:\n",
    "    print(\"b bada h\")\n",
    "\n",
    "else:\n",
    "    print(\"c bada h \")"
   ]
  },
  {
   "cell_type": "code",
   "execution_count": null,
   "metadata": {},
   "outputs": [],
   "source": [
    "b=int(input(\"enter your number\"))\n",
    "a=[10,20,30,40,50,60,70,80,90]\n",
    "if b in a:\n",
    "    print(\"jis me 0 aata h \")\n",
    "else:\n",
    "    print(\"jis me 0 nahi aata h \")"
   ]
  },
  {
   "cell_type": "code",
   "execution_count": null,
   "metadata": {},
   "outputs": [],
   "source": [
    "a=[\"A\",\"E\",\"I\",\"O\",\"U\"]\n",
    "b=str(input(\"enter your vovels\"))\n",
    "if b in a :\n",
    "    print(\"matched\")\n",
    "    print(\"that is vovels \",b)\n",
    "else:\n",
    "    print(\"not matched\")\n"
   ]
  },
  {
   "cell_type": "code",
   "execution_count": null,
   "metadata": {},
   "outputs": [],
   "source": [
    "a=int(input(\"enter number\"))\n",
    "b=1\n",
    "while a>0:\n",
    "    b*=a\n",
    "    a-=1\n",
    "print(b)\n",
    "\n"
   ]
  },
  {
   "cell_type": "code",
   "execution_count": null,
   "metadata": {},
   "outputs": [],
   "source": [
    "\n",
    "#a= int (input(\"ente your number  \"))\n",
    "for x in range (1,11):\n",
    "    x*=3\n",
    "    print(x)\n",
    "\n"
   ]
  },
  {
   "cell_type": "code",
   "execution_count": null,
   "metadata": {},
   "outputs": [],
   "source": [
    "def fruits():\n",
    "    ls=[\"mango\",\"apple\",\"banana\"]\n",
    "    for x in ls:\n",
    "        print(x)\n",
    "fruits()\n",
    "# print(ls)"
   ]
  },
  {
   "cell_type": "code",
   "execution_count": null,
   "metadata": {},
   "outputs": [],
   "source": []
  },
  {
   "cell_type": "code",
   "execution_count": null,
   "metadata": {},
   "outputs": [],
   "source": [
    "def color(pant):\n",
    "    for x in pant:\n",
    "        print(x)\n",
    "\n",
    "x= (\"red\",\"black\",\"pink\")\n",
    "color(x)\n",
    "print(x)"
   ]
  },
  {
   "cell_type": "code",
   "execution_count": null,
   "metadata": {},
   "outputs": [],
   "source": [
    "def cube (x):\n",
    "    return x*x*x\n",
    "cube(3)"
   ]
  },
  {
   "cell_type": "code",
   "execution_count": null,
   "metadata": {},
   "outputs": [],
   "source": [
    "def cube(x):\n",
    "    return x*x*x\n",
    "cube(2)"
   ]
  },
  {
   "cell_type": "code",
   "execution_count": null,
   "metadata": {},
   "outputs": [],
   "source": [
    "def cube(y):\n",
    "    return y*y*y\n",
    "cube(4)"
   ]
  },
  {
   "cell_type": "code",
   "execution_count": null,
   "metadata": {},
   "outputs": [],
   "source": [
    "x=lambda a: a*a*a\n",
    "print(x(2))"
   ]
  },
  {
   "cell_type": "code",
   "execution_count": null,
   "metadata": {},
   "outputs": [],
   "source": [
    "x=lambda a: a*a*a\n",
    "print(x(4))"
   ]
  },
  {
   "cell_type": "code",
   "execution_count": null,
   "metadata": {},
   "outputs": [],
   "source": [
    "y= lambda a,b,c,d,e,f: a+b+c+d+e+f\n",
    "print(y(2,3,4,5,6,7,))"
   ]
  },
  {
   "cell_type": "code",
   "execution_count": null,
   "metadata": {},
   "outputs": [],
   "source": [
    "lst =[1,2,3,4,5]\n",
    "temp=[]\n",
    "for x in lst:\n",
    "    temp.append(cube(x))\n",
    "print(temp)"
   ]
  },
  {
   "cell_type": "code",
   "execution_count": null,
   "metadata": {},
   "outputs": [],
   "source": [
    "lst=[2,3,4,5,6]\n",
    "new= list (map(cube,lst))\n",
    "print(new)\n"
   ]
  },
  {
   "cell_type": "code",
   "execution_count": null,
   "metadata": {},
   "outputs": [],
   "source": [
    "ls=[3,3,5,6,8,9]\n",
    "a=list(map(cube,ls))\n",
    "print(a)"
   ]
  },
  {
   "cell_type": "code",
   "execution_count": null,
   "metadata": {},
   "outputs": [],
   "source": [
    "def add_num(a,b):\n",
    "    print(a+b)\n",
    "    \n",
    "add_num(10,20)"
   ]
  },
  {
   "cell_type": "code",
   "execution_count": null,
   "metadata": {},
   "outputs": [],
   "source": [
    "def table():\n",
    "    for x in range(0,21):\n",
    "        x+=2\n",
    "        print(x)\n",
    "table()\n"
   ]
  },
  {
   "cell_type": "code",
   "execution_count": null,
   "metadata": {},
   "outputs": [],
   "source": [
    "add_num(2,4)"
   ]
  },
  {
   "cell_type": "code",
   "execution_count": null,
   "metadata": {},
   "outputs": [],
   "source": [
    "\n",
    "for x in range(2,22,2):   # starting 2 starting point and 22 ending point last waale 2 gape h \n",
    "    print(x)"
   ]
  },
  {
   "cell_type": "code",
   "execution_count": null,
   "metadata": {},
   "outputs": [],
   "source": [
    "def table():\n",
    "    for x in range (22,222,22):\n",
    "        print(x)\n",
    "table()\n"
   ]
  },
  {
   "cell_type": "code",
   "execution_count": null,
   "metadata": {},
   "outputs": [],
   "source": [
    "table()"
   ]
  },
  {
   "cell_type": "code",
   "execution_count": null,
   "metadata": {},
   "outputs": [],
   "source": [
    "def add(a , b ,c ):\n",
    "    print(a,b,c)\n",
    "\n",
    "    \n",
    "add(2,3,4)\n",
    "\n"
   ]
  },
  {
   "cell_type": "code",
   "execution_count": null,
   "metadata": {},
   "outputs": [],
   "source": [
    "def add(a , b ,c ):\n",
    "    print(a,b,c)\n",
    "\n",
    "    \n",
    "add(2,3)"
   ]
  },
  {
   "cell_type": "code",
   "execution_count": null,
   "metadata": {},
   "outputs": [],
   "source": [
    "def add(a , b,c  ):\n",
    "    print(a,b,c)\n",
    "\n",
    "    \n",
    "add(2,3,4)"
   ]
  },
  {
   "cell_type": "code",
   "execution_count": null,
   "metadata": {},
   "outputs": [],
   "source": [
    "def add(a , b,c  ):\n",
    "    print(a,b,c)\n",
    "\n",
    "    \n",
    "add(b=2,a=3,c=4)"
   ]
  },
  {
   "cell_type": "code",
   "execution_count": null,
   "metadata": {},
   "outputs": [],
   "source": [
    "# def school(name , school_name='LBS scholl' ):\n",
    "#     print(name+\" \"+ school_name)\n",
    "# school(name=\"govind kumawat\")\n",
    "# school(name=\"sourbh kumar\")\n",
    "# school(name=\"jai kumawat\")\n",
    "\n"
   ]
  },
  {
   "cell_type": "code",
   "execution_count": null,
   "metadata": {},
   "outputs": [],
   "source": [
    "# # how to insert a list in function \n",
    "# def lst(ls):\n",
    "#     for x in ls:\n",
    "#         print(x)\n",
    "#     print(ls)\n",
    "    \n",
    "# ls = [\"govind\",2,4,45,45]\n",
    "# lst(ls=ls)\n",
    "\n",
    "\n",
    "# print(\"i am access list out of the function\",ls)\n"
   ]
  },
  {
   "cell_type": "code",
   "execution_count": null,
   "metadata": {},
   "outputs": [],
   "source": [
    "def unread():\n",
    "    lst9 = [\"fasjhfv\",343,5344,34,34]\n",
    "    print(lst9)\n",
    "    print(lst9)\n",
    "    print(lst9)\n",
    "    print(lst9)\n",
    "    print(lst9)\n",
    "    \n",
    "    \n",
    "unread()\n",
    "\n",
    "\n"
   ]
  },
  {
   "cell_type": "code",
   "execution_count": 14,
   "metadata": {},
   "outputs": [
    {
     "name": "stdout",
     "output_type": "stream",
     "text": [
      "this is odd number (21, 12, 56, 11, 87, 79)\n",
      "79\n"
     ]
    }
   ],
   "source": [
    "def tpl():\n",
    "    a=(21,12,56,11,87,79)\n",
    "    for x in a:\n",
    "        if x==2:\n",
    "            print(\"this is even number\",a)\n",
    "    else:\n",
    "            print(\"this is odd number\",a)\n",
    "\n",
    "    print(x)\n",
    "tpl()\n"
   ]
  },
  {
   "cell_type": "code",
   "execution_count": null,
   "metadata": {},
   "outputs": [],
   "source": [
    "4//2"
   ]
  },
  {
   "cell_type": "code",
   "execution_count": null,
   "metadata": {},
   "outputs": [],
   "source": [
    "\n",
    "a=0\n",
    "while a<6:\n",
    "    a+=1\n",
    "    if a%2==0:\n",
    "     \n",
    "              print(\"this is even number\",a)\n",
    "    else:\n",
    "\n",
    "              \n",
    "                print(\"this is odd number\",a)\n"
   ]
  },
  {
   "cell_type": "markdown",
   "metadata": {},
   "source": [
    "####  ** Create a function apply_discount that accepts a price and a discount percentage, then returns the discounted price. Ensure the function handles invalid discount percentages gracefully (e.g., negative or greater than 100%).\n",
    "\n"
   ]
  },
  {
   "cell_type": "code",
   "execution_count": 18,
   "metadata": {},
   "outputs": [
    {
     "name": "stdout",
     "output_type": "stream",
     "text": [
      "you have received  10% discount😍🥰🤩\n",
      "100.0\n",
      "thanks for visiting in WTP mall🤗🤩\n"
     ]
    }
   ],
   "source": [
    "def apply_discount(b):\n",
    "        \n",
    "    if a>100:\n",
    "        print(r\"you have received  10% discount😍🥰🤩\")\n",
    "        print(a*10/100)\n",
    "        print(\"thanks for visiting in WTP mall🤗🤩\")\n",
    "    else:\n",
    "        print(r\"you have not received in  10% discount because your amount is less than 100😥😣💔\")\n",
    "        print(\"thanks for visiting in WTP mall 🤗🤩\")\n",
    "a=int(input(\"inter your amount ❤❤\"))\n",
    "\n",
    "apply_discount(b=a)"
   ]
  },
  {
   "cell_type": "code",
   "execution_count": 1,
   "metadata": {},
   "outputs": [
    {
     "name": "stdout",
     "output_type": "stream",
     "text": [
      "you have received in 5% dscount \n",
      "375.2\n",
      "thanks \n"
     ]
    }
   ],
   "source": [
    "def mall(s):\n",
    "    if s>50:\n",
    "        print(r\"you have received in 5% dscount \")\n",
    "        print(s*8/50)\n",
    "        print(\"thanks \")\n",
    "    else:\n",
    "        print(r\"you have not received \")\n",
    "        print(\"thanks \")\n",
    "a= int ( input( \"inter your amount \"))\n",
    "\n",
    "mall(s=a)\n"
   ]
  },
  {
   "cell_type": "code",
   "execution_count": 6,
   "metadata": {},
   "outputs": [
    {
     "name": "stdout",
     "output_type": "stream",
     "text": [
      "discount offer  alloud \n",
      " \n",
      "987.6\n",
      "thanks for visiting \n"
     ]
    }
   ],
   "source": [
    "def received (s):\n",
    "    if s>1000:\n",
    "        print(r\"discount offer  alloud  \")\n",
    "        print(s*100/1000)\n",
    "        print(\"thanks for visiting \")\n",
    "    else:\n",
    "        print(r\"discount offer not alloud \")\n",
    "        print(\"thanks for visiiting \")\n",
    "\n",
    "k= int (input(\"enter your amount \"))\n",
    "\n",
    "received(s=k)\n"
   ]
  },
  {
   "cell_type": "code",
   "execution_count": 17,
   "metadata": {},
   "outputs": [
    {
     "name": "stdout",
     "output_type": "stream",
     "text": [
      "sorry you are not selected in 10 % discount \n",
      "thanks for visiting\n"
     ]
    }
   ],
   "source": [
    "def practics (b):\n",
    "    if a>100:\n",
    "        print(r\"you are selected in 10 % discount\")\n",
    "        print(a*10/100)\n",
    "        print(\"thanks for visiting \")\n",
    "    else:\n",
    "        print(r\"sorry you are not selected in 10 % discount \")\n",
    "        print(\"thanks for visiting\")\n",
    "        \n",
    "\n",
    "a=int(input(\"Enter your price\"))\n",
    "\n",
    "\n",
    "    \n",
    "practics(b=a)\n"
   ]
  },
  {
   "cell_type": "code",
   "execution_count": null,
   "metadata": {},
   "outputs": [],
   "source": []
  }
 ],
 "metadata": {
  "kernelspec": {
   "display_name": "Python 3",
   "language": "python",
   "name": "python3"
  },
  "language_info": {
   "codemirror_mode": {
    "name": "ipython",
    "version": 3
   },
   "file_extension": ".py",
   "mimetype": "text/x-python",
   "name": "python",
   "nbconvert_exporter": "python",
   "pygments_lexer": "ipython3",
   "version": "3.12.3"
  }
 },
 "nbformat": 4,
 "nbformat_minor": 2
}
