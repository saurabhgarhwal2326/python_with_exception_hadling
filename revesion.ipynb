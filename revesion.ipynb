{
 "cells": [
  {
   "cell_type": "code",
   "execution_count": 8,
   "metadata": {},
   "outputs": [
    {
     "name": "stdout",
     "output_type": "stream",
     "text": [
      "<class 'str'>\n",
      "saurabh\n",
      "7\n",
      "a\n",
      "aur\n",
      "u\n"
     ]
    }
   ],
   "source": [
    "name=\"saurabh\"\n",
    "print(type(name))\n",
    "print(name)\n",
    "print(len(name))\n",
    "print(name[4])\n",
    "print(name[1:4])\n",
    "# for x in name:\n",
    "#     print(x)\n",
    "for x in name:\n",
    "    if x=='u':\n",
    "        print(x)\n",
    "        break\n"
   ]
  },
  {
   "cell_type": "markdown",
   "metadata": {},
   "source": [
    "## list"
   ]
  },
  {
   "cell_type": "code",
   "execution_count": 47,
   "metadata": {},
   "outputs": [
    {
     "name": "stdout",
     "output_type": "stream",
     "text": [
      "6\n",
      "[10, 4, 5, 6, 7]\n",
      "10\n",
      "1\n",
      "3\n",
      "4\n",
      "5\n",
      "6\n",
      "7\n",
      "8\n",
      "9\n",
      "2\n"
     ]
    }
   ],
   "source": [
    "A=[1,3,10,4,5,6,7,8,9,2]\n",
    "# print(A.append(44))\n",
    "A\n",
    "# print(A.count(8))\n",
    "# print(A.clear())\n",
    "A\n",
    "# A.pop()\n",
    "# A.index(4)\n",
    "# A.insert(3)\n",
    "# A\n",
    "# A.remove(5)\n",
    "# A.reverse()\n",
    "# A.sort()\n",
    "# A\n",
    "print(A[5])\n",
    "print(A[2:7])\n",
    "print(len(A))\n",
    "for x in A:\n",
    "    if x ==10:\n",
    "        continue\n",
    "    print(x)\n",
    "\n",
    "\n",
    "\n"
   ]
  },
  {
   "cell_type": "markdown",
   "metadata": {},
   "source": [
    "## dict"
   ]
  },
  {
   "cell_type": "code",
   "execution_count": 58,
   "metadata": {},
   "outputs": [
    {
     "name": "stdout",
     "output_type": "stream",
     "text": [
      "('a', 12)\n",
      "('b', 14)\n",
      "('c', 16)\n"
     ]
    }
   ],
   "source": [
    "dic={\"a\":12,\"b\":14,\"c\":16}\n",
    "# print(type(dic))\n",
    "# print(dic)\n",
    "# dic.items()\n",
    "# dic.keys()\n",
    "# dic.values()\n",
    "# dic.keys()\n",
    "# dic[\"a\"]\n",
    "# dic[\"b\"]\n",
    "# for xx in dic.keys():\n",
    "#     print(xx)\n",
    "# for i in dic.items():\n",
    "#     print(i)\n",
    "dic[\"a\"]"
   ]
  },
  {
   "cell_type": "code",
   "execution_count": null,
   "metadata": {},
   "outputs": [],
   "source": [
    "len()"
   ]
  },
  {
   "cell_type": "code",
   "execution_count": 8,
   "metadata": {},
   "outputs": [
    {
     "name": "stdout",
     "output_type": "stream",
     "text": [
      "Sourbh bca computer science\n"
     ]
    }
   ],
   "source": [
    "# two type \n",
    "# pri-define  already jo define hai \n",
    "# user-define  user ke through bnaye \n",
    "# len \n",
    "# print\n",
    "def student():\n",
    "    name = \"Sourbh\"\n",
    "    classss = \"bca\"\n",
    "    brach = \"computer science\"\n",
    "    print(name,classss,brach)\n",
    "student()"
   ]
  },
  {
   "cell_type": "code",
   "execution_count": 9,
   "metadata": {},
   "outputs": [
    {
     "name": "stdout",
     "output_type": "stream",
     "text": [
      "Sourbh bca computer science\n"
     ]
    }
   ],
   "source": [
    "student()"
   ]
  },
  {
   "cell_type": "code",
   "execution_count": 3,
   "metadata": {},
   "outputs": [
    {
     "name": "stdout",
     "output_type": "stream",
     "text": [
      "2\n",
      "4\n",
      "6\n",
      "8\n",
      "10\n"
     ]
    }
   ],
   "source": [
    "a=0\n",
    "while a<10:\n",
    "    a+=2\n",
    "    print(a)"
   ]
  },
  {
   "cell_type": "code",
   "execution_count": 4,
   "metadata": {},
   "outputs": [
    {
     "name": "stdout",
     "output_type": "stream",
     "text": [
      "15\n",
      "20\n",
      "25\n",
      "30\n",
      "35\n",
      "40\n",
      "45\n",
      "50\n",
      "55\n",
      "60\n",
      "65\n",
      "70\n",
      "75\n",
      "80\n",
      "85\n",
      "90\n",
      "95\n",
      "100\n"
     ]
    }
   ],
   "source": [
    "a=10\n",
    "while a<100:\n",
    "    a+=5\n",
    "    print(a)"
   ]
  },
  {
   "cell_type": "code",
   "execution_count": null,
   "metadata": {},
   "outputs": [
    {
     "name": "stdout",
     "output_type": "stream",
     "text": [
      "3\n",
      "<class 'set'>\n",
      "4\n",
      "<class 'set'>\n",
      "5\n",
      "<class 'set'>\n",
      "6\n",
      "<class 'set'>\n",
      "7\n",
      "<class 'set'>\n",
      "8\n",
      "<class 'set'>\n",
      "9\n",
      "<class 'set'>\n",
      "12\n",
      "<class 'set'>\n",
      "44\n",
      "<class 'set'>\n",
      "45\n",
      "<class 'set'>\n",
      "89\n",
      "<class 'set'>\n"
     ]
    }
   ],
   "source": [
    "a=0\n",
    "num={12,44,5,6,7,8,9,6,45,4,3,6,7,89,}\n",
    "for x in num:\n",
    "    print(x)\n",
    "    print(type(num))\n",
    "    \n"
   ]
  },
  {
   "cell_type": "code",
   "execution_count": 15,
   "metadata": {},
   "outputs": [
    {
     "name": "stdout",
     "output_type": "stream",
     "text": [
      "<class 'dict'>\n"
     ]
    }
   ],
   "source": [
    "a={\"saurabh\":22,\"clg\":332001}\n",
    "print(type(a))"
   ]
  },
  {
   "cell_type": "code",
   "execution_count": 27,
   "metadata": {},
   "outputs": [
    {
     "name": "stdout",
     "output_type": "stream",
     "text": [
      "6\n",
      "12\n",
      "18\n",
      "24\n",
      "30\n",
      "36\n",
      "42\n",
      "48\n",
      "54\n",
      "60\n"
     ]
    }
   ],
   "source": [
    "a=int (input(\"inter table number \"))\n",
    "for x in range(1,11):\n",
    "    print(a*x)"
   ]
  },
  {
   "cell_type": "code",
   "execution_count": null,
   "metadata": {},
   "outputs": [
    {
     "name": "stdout",
     "output_type": "stream",
     "text": [
      "2\n",
      "4\n",
      "6\n",
      "8\n",
      "10\n",
      "12\n",
      "14\n",
      "16\n",
      "18\n",
      "20\n",
      "22\n",
      "24\n",
      "26\n",
      "28\n",
      "30\n",
      "32\n",
      "34\n",
      "36\n",
      "38\n",
      "40\n"
     ]
    }
   ],
   "source": [
    "a=int(input(\"inter the table number \"))\n",
    "for x in range (1,21):\n",
    "    print(a*x)"
   ]
  },
  {
   "cell_type": "code",
   "execution_count": 26,
   "metadata": {},
   "outputs": [
    {
     "name": "stdout",
     "output_type": "stream",
     "text": [
      "2\n",
      "4\n",
      "6\n",
      "8\n",
      "10\n"
     ]
    }
   ],
   "source": [
    "a=int (input(\"inter number\"))\n",
    "for x in range (1,6):\n",
    "    print(a*x)"
   ]
  },
  {
   "cell_type": "code",
   "execution_count": null,
   "metadata": {},
   "outputs": [],
   "source": [
    "class A:\n",
    "    # method\n",
    "class "
   ]
  },
  {
   "cell_type": "code",
   "execution_count": null,
   "metadata": {},
   "outputs": [],
   "source": []
  }
 ],
 "metadata": {
  "kernelspec": {
   "display_name": "Python 3",
   "language": "python",
   "name": "python3"
  },
  "language_info": {
   "codemirror_mode": {
    "name": "ipython",
    "version": 3
   },
   "file_extension": ".py",
   "mimetype": "text/x-python",
   "name": "python",
   "nbconvert_exporter": "python",
   "pygments_lexer": "ipython3",
   "version": "3.12.3"
  }
 },
 "nbformat": 4,
 "nbformat_minor": 2
}
