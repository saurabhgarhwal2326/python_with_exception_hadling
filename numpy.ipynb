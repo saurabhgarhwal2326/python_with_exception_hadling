{
 "cells": [
  {
   "cell_type": "markdown",
   "metadata": {},
   "source": [
    "## install the libary by using this command pip install numpy"
   ]
  },
  {
   "cell_type": "code",
   "execution_count": 116,
   "metadata": {},
   "outputs": [
    {
     "name": "stdout",
     "output_type": "stream",
     "text": [
      "Requirement already satisfied: numpy in c:\\users\\i\\appdata\\local\\programs\\python\\python311\\lib\\site-packages (2.0.1)\n"
     ]
    },
    {
     "name": "stderr",
     "output_type": "stream",
     "text": [
      "\n",
      "[notice] A new release of pip is available: 24.1.1 -> 24.2\n",
      "[notice] To update, run: C:\\Users\\i\\AppData\\Local\\Programs\\Python\\Python311\\python.exe -m pip install --upgrade pip\n"
     ]
    }
   ],
   "source": [
    "! pip install numpy "
   ]
  },
  {
   "cell_type": "code",
   "execution_count": 1,
   "metadata": {},
   "outputs": [
    {
     "name": "stdout",
     "output_type": "stream",
     "text": [
      "import sucess\n"
     ]
    }
   ],
   "source": [
    "import numpy as np                          # import as a keyword and numpy as a libary and jo as h vo keyword and np is sort form of numpy\n",
    "print(\"import sucess\")"
   ]
  },
  {
   "cell_type": "code",
   "execution_count": 2,
   "metadata": {},
   "outputs": [
    {
     "name": "stdout",
     "output_type": "stream",
     "text": [
      "<class 'list'>\n"
     ]
    }
   ],
   "source": [
    "lst= [23,54,65,76,87,78,5,566,4,]\n",
    "print(type(lst))"
   ]
  },
  {
   "cell_type": "code",
   "execution_count": null,
   "metadata": {},
   "outputs": [
    {
     "data": {
      "text/plain": [
       "array([ 23,  54,  65,  76,  87,  78,   5, 566,   4])"
      ]
     },
     "execution_count": 119,
     "metadata": {},
     "output_type": "execute_result"
    }
   ],
   "source": [
    "arr=np.array(lst)    #  list ko array me convert karne ke liya array function ka use kiya h \n",
    "arr"
   ]
  },
  {
   "cell_type": "code",
   "execution_count": 3,
   "metadata": {},
   "outputs": [
    {
     "name": "stdout",
     "output_type": "stream",
     "text": [
      "[12, 4, 5, 6, 7, 8]\n"
     ]
    }
   ],
   "source": [
    "a=[12,4,5,6,7,8]\n",
    "print(a)"
   ]
  },
  {
   "cell_type": "code",
   "execution_count": 4,
   "metadata": {},
   "outputs": [
    {
     "data": {
      "text/plain": [
       "array([12,  4,  5,  6,  7,  8])"
      ]
     },
     "execution_count": 4,
     "metadata": {},
     "output_type": "execute_result"
    }
   ],
   "source": [
    "arr=np.array(a)        #  array me convert karne ke liya \n",
    "arr"
   ]
  },
  {
   "cell_type": "code",
   "execution_count": 5,
   "metadata": {},
   "outputs": [
    {
     "name": "stdout",
     "output_type": "stream",
     "text": [
      "<class 'numpy.ndarray'>\n"
     ]
    }
   ],
   "source": [
    "print(type(arr))            # type check karne ke liya "
   ]
  },
  {
   "cell_type": "code",
   "execution_count": 6,
   "metadata": {},
   "outputs": [
    {
     "name": "stdout",
     "output_type": "stream",
     "text": [
      "[12  4  5  6  7]\n"
     ]
    }
   ],
   "source": [
    "aee=np.array([22,4,5,76,9,9,0])  #   array me slicing karne ka liya \n",
    "arr\n",
    "print(arr[0:5])"
   ]
  },
  {
   "cell_type": "code",
   "execution_count": 7,
   "metadata": {},
   "outputs": [
    {
     "data": {
      "text/plain": [
       "array([ 1,  2,  3,  4,  5,  6,  7,  8,  9, 10, 11, 12, 13, 14, 15, 16, 17,\n",
       "       18, 19, 20])"
      ]
     },
     "execution_count": 7,
     "metadata": {},
     "output_type": "execute_result"
    }
   ],
   "source": [
    "arr=np.arange(1,21)       # jese range function kam karta h vase arange function kam karta h \n",
    "arr"
   ]
  },
  {
   "cell_type": "code",
   "execution_count": 8,
   "metadata": {},
   "outputs": [
    {
     "data": {
      "text/plain": [
       "array([0., 0., 0., 0., 0., 0., 0., 0., 0., 0.])"
      ]
     },
     "execution_count": 8,
     "metadata": {},
     "output_type": "execute_result"
    }
   ],
   "source": [
    "arr=np.zeros(10) #      zeros \n",
    "arr"
   ]
  },
  {
   "cell_type": "code",
   "execution_count": 9,
   "metadata": {},
   "outputs": [
    {
     "data": {
      "text/plain": [
       "array([1., 1., 1., 1., 1., 1., 1., 1., 1., 1.])"
      ]
     },
     "execution_count": 9,
     "metadata": {},
     "output_type": "execute_result"
    }
   ],
   "source": [
    "arr=np.ones(10)    # ones \n",
    "arr"
   ]
  },
  {
   "cell_type": "code",
   "execution_count": 11,
   "metadata": {},
   "outputs": [
    {
     "data": {
      "text/plain": [
       "array([ 1.  ,  3.25,  5.5 ,  7.75, 10.  ])"
      ]
     },
     "execution_count": 11,
     "metadata": {},
     "output_type": "execute_result"
    }
   ],
   "source": [
    "arr=np.linspace(1,10,5)          # 1 h jo starting point h  10 h vo maximium point h or jo 5 h vo counting h \n",
    "arr"
   ]
  },
  {
   "cell_type": "code",
   "execution_count": 12,
   "metadata": {},
   "outputs": [
    {
     "data": {
      "text/plain": [
       "array([[ 0,  1,  2],\n",
       "       [ 3,  4,  5],\n",
       "       [ 6,  7,  8],\n",
       "       [ 9, 10, 11],\n",
       "       [12, 13, 14],\n",
       "       [15, 16, 17],\n",
       "       [18, 19, 20],\n",
       "       [21, 22, 23],\n",
       "       [24, 25, 26],\n",
       "       [27, 28, 29]])"
      ]
     },
     "execution_count": 12,
     "metadata": {},
     "output_type": "execute_result"
    }
   ],
   "source": [
    "arr=np.arange(0,30).reshape(10,3)         # reshape function array ko reshape karta h 10 h vo row h or 3 column h \n",
    "arr"
   ]
  },
  {
   "cell_type": "code",
   "execution_count": null,
   "metadata": {},
   "outputs": [
    {
     "data": {
      "text/plain": [
       "array([[0, 1],\n",
       "       [2, 3],\n",
       "       [4, 5],\n",
       "       [6, 7],\n",
       "       [8, 9]])"
      ]
     },
     "execution_count": 13,
     "metadata": {},
     "output_type": "execute_result"
    }
   ],
   "source": [
    "arr=np.arange(0,10).reshape(5,2)          # 5 row and 2 columns \n",
    "arr\n"
   ]
  },
  {
   "cell_type": "code",
   "execution_count": 14,
   "metadata": {},
   "outputs": [
    {
     "data": {
      "text/plain": [
       "array([2, 4, 4, 3, 4, 2, 1, 4, 2], dtype=int32)"
      ]
     },
     "execution_count": 14,
     "metadata": {},
     "output_type": "execute_result"
    }
   ],
   "source": [
    "arr=np.random.randint(1,5,9)      #  randit function create random arrray \n",
    "arr"
   ]
  },
  {
   "cell_type": "code",
   "execution_count": 15,
   "metadata": {},
   "outputs": [
    {
     "data": {
      "text/plain": [
       "array([[4, 4, 2, 2, 3],\n",
       "       [1, 1, 2, 1, 3],\n",
       "       [4, 3, 4, 1, 3],\n",
       "       [4, 4, 1, 1, 3],\n",
       "       [1, 1, 1, 4, 4],\n",
       "       [2, 1, 2, 3, 1],\n",
       "       [3, 3, 2, 2, 2]], dtype=int32)"
      ]
     },
     "execution_count": 15,
     "metadata": {},
     "output_type": "execute_result"
    }
   ],
   "source": [
    "arr=np.random.randint(1,5,(7,5))      # 1 se le kar 5 tak numbers aaiyege \n",
    "                                       # 7 row and 5 column \n",
    "arr"
   ]
  },
  {
   "cell_type": "code",
   "execution_count": 17,
   "metadata": {},
   "outputs": [
    {
     "data": {
      "text/plain": [
       "array([0.57679053, 0.66720001, 0.99942403, 0.62242285, 0.56817864])"
      ]
     },
     "execution_count": 17,
     "metadata": {},
     "output_type": "execute_result"
    }
   ],
   "source": [
    "np.random.random(5)        # koi bhi random number create ho jaiyege jitne hum ko chiye"
   ]
  },
  {
   "cell_type": "code",
   "execution_count": 19,
   "metadata": {},
   "outputs": [
    {
     "name": "stdout",
     "output_type": "stream",
     "text": [
      "[23 45  6  7  8  9 96]\n"
     ]
    }
   ],
   "source": [
    "lst= [23,45,6,7,8,9,96]\n",
    "arr=np.array(lst)                 # list ko array me convertt ki hui h \n",
    "print(arr)\n"
   ]
  },
  {
   "cell_type": "code",
   "execution_count": 134,
   "metadata": {},
   "outputs": [
    {
     "data": {
      "text/plain": [
       "array([ 1,  2,  3,  4,  5,  6,  7,  8,  9, 10, 11, 12, 13, 14, 15, 16, 17,\n",
       "       18, 19])"
      ]
     },
     "execution_count": 134,
     "metadata": {},
     "output_type": "execute_result"
    }
   ],
   "source": [
    "np.array(range(1,20))           #  range function 1 ,20 tak counting karta h \n"
   ]
  },
  {
   "cell_type": "code",
   "execution_count": 135,
   "metadata": {},
   "outputs": [
    {
     "data": {
      "text/plain": [
       "array([0., 0., 0., 0., 0., 0., 0., 0., 0., 0.])"
      ]
     },
     "execution_count": 135,
     "metadata": {},
     "output_type": "execute_result"
    }
   ],
   "source": [
    "np.zeros(10)"
   ]
  },
  {
   "cell_type": "code",
   "execution_count": 136,
   "metadata": {},
   "outputs": [
    {
     "data": {
      "text/plain": [
       "array([1., 1., 1., 1., 1., 1., 1., 1., 1., 1.])"
      ]
     },
     "execution_count": 136,
     "metadata": {},
     "output_type": "execute_result"
    }
   ],
   "source": [
    "np.ones(10)"
   ]
  },
  {
   "cell_type": "code",
   "execution_count": 137,
   "metadata": {},
   "outputs": [
    {
     "data": {
      "text/plain": [
       "array([ 1,  2,  3,  4,  5,  6,  7,  8,  9, 10, 11, 12, 13, 14, 15, 16, 17,\n",
       "       18, 19])"
      ]
     },
     "execution_count": 137,
     "metadata": {},
     "output_type": "execute_result"
    }
   ],
   "source": [
    "np.arange(1,20)           # arange function range ki thara hi kam karta hhh"
   ]
  },
  {
   "cell_type": "code",
   "execution_count": 138,
   "metadata": {},
   "outputs": [
    {
     "data": {
      "text/plain": [
       "array([[ 0,  1,  2,  3],\n",
       "       [ 4,  5,  6,  7],\n",
       "       [ 8,  9, 10, 11],\n",
       "       [12, 13, 14, 15],\n",
       "       [16, 17, 18, 19]])"
      ]
     },
     "execution_count": 138,
     "metadata": {},
     "output_type": "execute_result"
    }
   ],
   "source": [
    "np.arange(0,20).reshape(5,4)        # 0 se le kar 20 tak number de ga or 5 row and 4 column "
   ]
  },
  {
   "cell_type": "code",
   "execution_count": 139,
   "metadata": {},
   "outputs": [
    {
     "data": {
      "text/plain": [
       "array([8, 8, 8, 4, 5, 9, 1, 8], dtype=int32)"
      ]
     },
     "execution_count": 139,
     "metadata": {},
     "output_type": "execute_result"
    }
   ],
   "source": [
    "np.random.randint(1,10,8)     #  1  first starting point  10  ending point 8 jitne element chiye "
   ]
  },
  {
   "cell_type": "code",
   "execution_count": 140,
   "metadata": {},
   "outputs": [
    {
     "data": {
      "text/plain": [
       "array([[9, 9, 1, 5, 8, 9],\n",
       "       [1, 4, 8, 8, 9, 9],\n",
       "       [4, 3, 3, 9, 2, 8],\n",
       "       [2, 8, 5, 5, 6, 1],\n",
       "       [9, 4, 9, 7, 1, 5],\n",
       "       [9, 2, 1, 4, 2, 7],\n",
       "       [9, 4, 9, 1, 7, 4],\n",
       "       [2, 8, 5, 9, 1, 5],\n",
       "       [1, 1, 9, 3, 5, 5]], dtype=int32)"
      ]
     },
     "execution_count": 140,
     "metadata": {},
     "output_type": "execute_result"
    }
   ],
   "source": [
    "np.random.randint(1,10,(9,6))          #  1 se le kar 10 tak number  9 row and 6 column "
   ]
  },
  {
   "cell_type": "code",
   "execution_count": 141,
   "metadata": {},
   "outputs": [
    {
     "data": {
      "text/plain": [
       "0.8084330506526023"
      ]
     },
     "execution_count": 141,
     "metadata": {},
     "output_type": "execute_result"
    }
   ],
   "source": [
    "np.random.random()          # koi bhi random number de de ga "
   ]
  },
  {
   "cell_type": "code",
   "execution_count": 142,
   "metadata": {},
   "outputs": [
    {
     "data": {
      "text/plain": [
       "array([0.92999053, 0.53464797, 0.47539334, 0.0653286 , 0.01298303,\n",
       "       0.5402162 , 0.06376995, 0.44182692, 0.93821916, 0.99100304])"
      ]
     },
     "execution_count": 142,
     "metadata": {},
     "output_type": "execute_result"
    }
   ],
   "source": [
    "np.random.random(10)     #  koi bhi 10 random number de de ga "
   ]
  },
  {
   "cell_type": "code",
   "execution_count": 143,
   "metadata": {},
   "outputs": [
    {
     "data": {
      "text/plain": [
       "array([[0.02441244, 0.71645215, 0.05425396, 0.09440937, 0.19102534],\n",
       "       [0.63119698, 0.26035076, 0.74907596, 0.82622581, 0.38395115],\n",
       "       [0.69278546, 0.73215431, 0.39525922, 0.45377247, 0.20308885],\n",
       "       [0.3008165 , 0.01474829, 0.34175442, 0.35474391, 0.71453444]])"
      ]
     },
     "execution_count": 143,
     "metadata": {},
     "output_type": "execute_result"
    }
   ],
   "source": [
    "np.random.random((4,5))   # koi bhi random number de de ga 4 row and 5 column me \n"
   ]
  },
  {
   "cell_type": "code",
   "execution_count": 21,
   "metadata": {},
   "outputs": [
    {
     "data": {
      "text/plain": [
       "array([[ 0,  1,  2,  3,  4],\n",
       "       [ 5,  6,  7,  8,  9],\n",
       "       [10, 11, 12, 13, 14],\n",
       "       [15, 16, 17, 18, 19],\n",
       "       [20, 21, 22, 23, 24],\n",
       "       [25, 26, 27, 28, 29],\n",
       "       [30, 31, 32, 33, 34],\n",
       "       [35, 36, 37, 38, 39],\n",
       "       [40, 41, 42, 43, 44],\n",
       "       [45, 46, 47, 48, 49],\n",
       "       [50, 51, 52, 53, 54],\n",
       "       [55, 56, 57, 58, 59]])"
      ]
     },
     "execution_count": 21,
     "metadata": {},
     "output_type": "execute_result"
    }
   ],
   "source": [
    "arr1=np.arange(60).reshape(12,5)     #   60 tak number chalega  12 row and 5 column me  \n",
    "arr1"
   ]
  },
  {
   "cell_type": "code",
   "execution_count": 22,
   "metadata": {},
   "outputs": [
    {
     "name": "stdout",
     "output_type": "stream",
     "text": [
      "[[ 0  1  2  3  4]\n",
      " [ 5  6  7  8  9]\n",
      " [10 11 12 13 14]\n",
      " [15 16 17 18 19]\n",
      " [20 21 22 23 24]\n",
      " [25 26 27 28 29]\n",
      " [30 31 32 33 34]\n",
      " [35 36 37 38 39]\n",
      " [40 41 42 43 44]\n",
      " [45 46 47 48 49]\n",
      " [50 51 52 53 54]\n",
      " [55 56 57 58 59]]\n"
     ]
    },
    {
     "data": {
      "text/plain": [
       "(12, 5)"
      ]
     },
     "execution_count": 22,
     "metadata": {},
     "output_type": "execute_result"
    }
   ],
   "source": [
    "print(arr1)\n",
    "arr1.shape    # find the shape   #  kitni row h or kitni column h "
   ]
  },
  {
   "cell_type": "code",
   "execution_count": 23,
   "metadata": {},
   "outputs": [
    {
     "data": {
      "text/plain": [
       "2"
      ]
     },
     "execution_count": 23,
     "metadata": {},
     "output_type": "execute_result"
    }
   ],
   "source": [
    "arr1.ndim      # number of dimanction in array "
   ]
  },
  {
   "cell_type": "code",
   "execution_count": 24,
   "metadata": {},
   "outputs": [
    {
     "data": {
      "text/plain": [
       "60"
      ]
     },
     "execution_count": 24,
     "metadata": {},
     "output_type": "execute_result"
    }
   ],
   "source": [
    "arr1.size        # find the size of array "
   ]
  },
  {
   "cell_type": "code",
   "execution_count": 25,
   "metadata": {},
   "outputs": [
    {
     "data": {
      "text/plain": [
       "dtype('int64')"
      ]
     },
     "execution_count": 25,
     "metadata": {},
     "output_type": "execute_result"
    }
   ],
   "source": [
    "arr1.dtype  "
   ]
  },
  {
   "cell_type": "code",
   "execution_count": 26,
   "metadata": {},
   "outputs": [
    {
     "data": {
      "text/plain": [
       "array([ 0,  1,  2,  3,  4,  5,  6,  7,  8,  9, 10, 11, 12, 13, 14, 15, 16,\n",
       "       17, 18, 19, 20, 21, 22, 23, 24, 25, 26, 27, 28, 29, 30, 31, 32, 33,\n",
       "       34, 35, 36, 37, 38, 39, 40, 41, 42, 43, 44, 45, 46, 47, 48, 49, 50,\n",
       "       51, 52, 53, 54, 55, 56, 57, 58, 59])"
      ]
     },
     "execution_count": 26,
     "metadata": {},
     "output_type": "execute_result"
    }
   ],
   "source": [
    "arr1.flatten()    # 2 d array convert into 1 d array "
   ]
  },
  {
   "cell_type": "code",
   "execution_count": 150,
   "metadata": {},
   "outputs": [
    {
     "data": {
      "text/plain": [
       "array([ 0,  1,  2,  3,  4,  5,  6,  7,  8,  9, 10, 11, 12, 13, 14, 15, 16,\n",
       "       17, 18, 19, 20, 21, 22, 23, 24, 25, 26, 27, 28, 29, 30, 31, 32, 33,\n",
       "       34, 35, 36, 37, 38, 39, 40, 41, 42, 43, 44, 45, 46, 47, 48, 49, 50,\n",
       "       51, 52, 53, 54, 55, 56, 57, 58, 59])"
      ]
     },
     "execution_count": 150,
     "metadata": {},
     "output_type": "execute_result"
    }
   ],
   "source": [
    "arr1.ravel()                  #  2 d array convert into 1 d array "
   ]
  },
  {
   "cell_type": "code",
   "execution_count": 151,
   "metadata": {},
   "outputs": [
    {
     "data": {
      "text/plain": [
       "[[1, 3, 4], [4, 5, 6]]"
      ]
     },
     "execution_count": 151,
     "metadata": {},
     "output_type": "execute_result"
    }
   ],
   "source": [
    "lst=[[1,3,4,],[4,5,6]]          # 2 d list \n",
    "lst"
   ]
  },
  {
   "cell_type": "code",
   "execution_count": 152,
   "metadata": {},
   "outputs": [
    {
     "data": {
      "text/plain": [
       "array([[1, 3, 4],\n",
       "       [4, 5, 6]])"
      ]
     },
     "execution_count": 152,
     "metadata": {},
     "output_type": "execute_result"
    }
   ],
   "source": [
    "arr1=np.array(lst)         # list ko array me convert karta h \n",
    "arr1\n"
   ]
  },
  {
   "cell_type": "code",
   "execution_count": 153,
   "metadata": {},
   "outputs": [
    {
     "data": {
      "text/plain": [
       "(2, 3)"
      ]
     },
     "execution_count": 153,
     "metadata": {},
     "output_type": "execute_result"
    }
   ],
   "source": [
    "arr1.shape             # 2 row h or 3 column h "
   ]
  },
  {
   "cell_type": "code",
   "execution_count": 154,
   "metadata": {},
   "outputs": [
    {
     "data": {
      "text/plain": [
       "6"
      ]
     },
     "execution_count": 154,
     "metadata": {},
     "output_type": "execute_result"
    }
   ],
   "source": [
    "arr1.size         # mean of size kitne element h "
   ]
  },
  {
   "cell_type": "code",
   "execution_count": 155,
   "metadata": {},
   "outputs": [
    {
     "data": {
      "text/plain": [
       "dtype('int64')"
      ]
     },
     "execution_count": 155,
     "metadata": {},
     "output_type": "execute_result"
    }
   ],
   "source": [
    "arr1.dtype"
   ]
  },
  {
   "cell_type": "code",
   "execution_count": 156,
   "metadata": {},
   "outputs": [
    {
     "data": {
      "text/plain": [
       "2"
      ]
     },
     "execution_count": 156,
     "metadata": {},
     "output_type": "execute_result"
    }
   ],
   "source": [
    "arr1.ndim          # kon sa array h   "
   ]
  },
  {
   "cell_type": "code",
   "execution_count": 157,
   "metadata": {},
   "outputs": [
    {
     "data": {
      "text/plain": [
       "(2, 3)"
      ]
     },
     "execution_count": 157,
     "metadata": {},
     "output_type": "execute_result"
    }
   ],
   "source": [
    "arr1.shape"
   ]
  },
  {
   "cell_type": "code",
   "execution_count": 158,
   "metadata": {},
   "outputs": [],
   "source": [
    "# 2 row and 3 column\n"
   ]
  },
  {
   "cell_type": "code",
   "execution_count": 159,
   "metadata": {},
   "outputs": [
    {
     "data": {
      "text/plain": [
       "(3, 2)"
      ]
     },
     "execution_count": 159,
     "metadata": {},
     "output_type": "execute_result"
    }
   ],
   "source": [
    "arr1.T.shape"
   ]
  },
  {
   "cell_type": "code",
   "execution_count": 160,
   "metadata": {},
   "outputs": [],
   "source": [
    "# how to access the elememt from 1d and 2 d array\n",
    "\n"
   ]
  },
  {
   "cell_type": "code",
   "execution_count": 30,
   "metadata": {},
   "outputs": [
    {
     "data": {
      "text/plain": [
       "array([[ 0,  1,  2,  3,  4],\n",
       "       [ 5,  6,  7,  8,  9],\n",
       "       [10, 11, 12, 13, 14],\n",
       "       [15, 16, 17, 18, 19],\n",
       "       [20, 21, 22, 23, 24],\n",
       "       [25, 26, 27, 28, 29],\n",
       "       [30, 31, 32, 33, 34],\n",
       "       [35, 36, 37, 38, 39],\n",
       "       [40, 41, 42, 43, 44],\n",
       "       [45, 46, 47, 48, 49],\n",
       "       [50, 51, 52, 53, 54],\n",
       "       [55, 56, 57, 58, 59]])"
      ]
     },
     "execution_count": 30,
     "metadata": {},
     "output_type": "execute_result"
    }
   ],
   "source": [
    "arr=np.arange(60).reshape(12,5)            # arange function jitni counting chiya utni likh de ga ,\n",
    "arr\n"
   ]
  },
  {
   "cell_type": "code",
   "execution_count": 162,
   "metadata": {},
   "outputs": [],
   "source": [
    "# print(arr[14])       # indexing "
   ]
  },
  {
   "cell_type": "code",
   "execution_count": 31,
   "metadata": {},
   "outputs": [
    {
     "data": {
      "text/plain": [
       "array([[ 0,  1,  2,  3,  4],\n",
       "       [ 5,  6,  7,  8,  9],\n",
       "       [10, 11, 12, 13, 14],\n",
       "       [15, 16, 17, 18, 19],\n",
       "       [20, 21, 22, 23, 24],\n",
       "       [25, 26, 27, 28, 29],\n",
       "       [30, 31, 32, 33, 34]])"
      ]
     },
     "execution_count": 31,
     "metadata": {},
     "output_type": "execute_result"
    }
   ],
   "source": [
    "arr[0:7]     # slicing"
   ]
  },
  {
   "cell_type": "code",
   "execution_count": 34,
   "metadata": {},
   "outputs": [
    {
     "name": "stdout",
     "output_type": "stream",
     "text": [
      "[[ 0  1  2  3  4]\n",
      " [ 5  6  7  8  9]\n",
      " [10 11 12 13 14]\n",
      " [15 16 17 18 19]\n",
      " [20 21 22 23 24]\n",
      " [25 26 27 28 29]\n",
      " [30 31 32 33 34]\n",
      " [35 36 37 38 39]]\n"
     ]
    }
   ],
   "source": [
    "print(arr[0:8]) \n",
    "      #  0 se start h 22 tak chalega  \n",
    "# arr"
   ]
  },
  {
   "cell_type": "code",
   "execution_count": 165,
   "metadata": {},
   "outputs": [],
   "source": [
    "# print(arr[10:110:10])\n",
    "# arr"
   ]
  },
  {
   "cell_type": "code",
   "execution_count": 166,
   "metadata": {},
   "outputs": [],
   "source": [
    "# arr1=arr.reshape(12,5)      # reshape me 12 column or 5 row h \n",
    "# arr1"
   ]
  },
  {
   "cell_type": "code",
   "execution_count": 36,
   "metadata": {},
   "outputs": [
    {
     "data": {
      "text/plain": [
       "array([5, 6, 7, 8, 9])"
      ]
     },
     "execution_count": 36,
     "metadata": {},
     "output_type": "execute_result"
    }
   ],
   "source": [
    "arr1[1]\n"
   ]
  },
  {
   "cell_type": "code",
   "execution_count": 168,
   "metadata": {},
   "outputs": [],
   "source": [
    "#  28, 29\n",
    "#  41, 42, 43, 44],\n",
    "#        [45, 46, 47\n",
    "#         59"
   ]
  },
  {
   "cell_type": "code",
   "execution_count": 37,
   "metadata": {},
   "outputs": [
    {
     "data": {
      "text/plain": [
       "array([10, 15])"
      ]
     },
     "execution_count": 37,
     "metadata": {},
     "output_type": "execute_result"
    }
   ],
   "source": [
    "arr1[2:4,0]"
   ]
  },
  {
   "cell_type": "code",
   "execution_count": 38,
   "metadata": {},
   "outputs": [
    {
     "data": {
      "text/plain": [
       "array([37, 42])"
      ]
     },
     "execution_count": 38,
     "metadata": {},
     "output_type": "execute_result"
    }
   ],
   "source": [
    "arr1[7:9,2]"
   ]
  },
  {
   "cell_type": "code",
   "execution_count": 39,
   "metadata": {},
   "outputs": [
    {
     "data": {
      "text/plain": [
       "array([[ 0,  1,  2,  3,  4],\n",
       "       [ 5,  6,  7,  8,  9],\n",
       "       [10, 11, 12, 13, 14],\n",
       "       [15, 16, 17, 18, 19],\n",
       "       [20, 21, 22, 23, 24],\n",
       "       [25, 26, 27, 28, 29],\n",
       "       [30, 31, 32, 33, 34],\n",
       "       [35, 36, 37, 38, 39],\n",
       "       [40, 41, 42, 43, 44],\n",
       "       [45, 46, 47, 48, 49],\n",
       "       [50, 51, 52, 53, 54],\n",
       "       [55, 56, 57, 58, 59]])"
      ]
     },
     "execution_count": 39,
     "metadata": {},
     "output_type": "execute_result"
    }
   ],
   "source": [
    "arr1"
   ]
  },
  {
   "cell_type": "code",
   "execution_count": 40,
   "metadata": {},
   "outputs": [
    {
     "data": {
      "text/plain": [
       "array([], shape=(0, 5), dtype=int64)"
      ]
     },
     "execution_count": 40,
     "metadata": {},
     "output_type": "execute_result"
    }
   ],
   "source": [
    "arr1[11:4]"
   ]
  },
  {
   "cell_type": "code",
   "execution_count": 41,
   "metadata": {},
   "outputs": [
    {
     "data": {
      "text/plain": [
       "array([213, 214, 215])"
      ]
     },
     "execution_count": 41,
     "metadata": {},
     "output_type": "execute_result"
    }
   ],
   "source": [
    "arr[-1,-4]         # -1 is determine last row and -4 is determine last 4 element "
   ]
  },
  {
   "cell_type": "code",
   "execution_count": 42,
   "metadata": {},
   "outputs": [],
   "source": [
    "arr[0,3]=100           # 0 row and 3 number par jo element h us ki gajha 100 jodna h "
   ]
  },
  {
   "cell_type": "code",
   "execution_count": 43,
   "metadata": {},
   "outputs": [
    {
     "data": {
      "text/plain": [
       "array([[ 0,  1,  2,  3,  4],\n",
       "       [ 5,  6,  7,  8,  9],\n",
       "       [10, 11, 12, 13, 14],\n",
       "       [15, 16, 17, 18, 19],\n",
       "       [20, 21, 22, 23, 24],\n",
       "       [25, 26, 27, 28, 29],\n",
       "       [30, 31, 32, 33, 34],\n",
       "       [35, 36, 37, 38, 39],\n",
       "       [40, 41, 42, 43, 44],\n",
       "       [45, 46, 47, 48, 49],\n",
       "       [50, 51, 52, 53, 54],\n",
       "       [55, 56, 57, 58, 59]])"
      ]
     },
     "execution_count": 43,
     "metadata": {},
     "output_type": "execute_result"
    }
   ],
   "source": [
    "arr1"
   ]
  },
  {
   "cell_type": "code",
   "execution_count": 176,
   "metadata": {},
   "outputs": [
    {
     "data": {
      "text/plain": [
       "array([[  0,   1,   2, 100,   4],\n",
       "       [  5,   6,   7,   8,   9],\n",
       "       [ 10,  11,  12,  13,  14],\n",
       "       [ 15,  16,  17,  18,  19],\n",
       "       [ 20,  21,  22,  23,  24],\n",
       "       [ 25,  26,  27,  28,  29],\n",
       "       [ 30,  31,  32,  33,  34],\n",
       "       [ 35,  36,  37,  38,  39],\n",
       "       [ 40,  41,  42,  43,  44],\n",
       "       [ 45,  46,  47,  48,  49],\n",
       "       [ 50,  51,  52,  53,  54],\n",
       "       [ 55,  56,  57,  58,  59]])"
      ]
     },
     "execution_count": 176,
     "metadata": {},
     "output_type": "execute_result"
    }
   ],
   "source": [
    "arr"
   ]
  },
  {
   "cell_type": "code",
   "execution_count": 44,
   "metadata": {},
   "outputs": [
    {
     "data": {
      "text/plain": [
       "array([], shape=(0, 3), dtype=int64)"
      ]
     },
     "execution_count": 44,
     "metadata": {},
     "output_type": "execute_result"
    }
   ],
   "source": [
    "arr[6:9,2]"
   ]
  },
  {
   "cell_type": "code",
   "execution_count": 45,
   "metadata": {},
   "outputs": [
    {
     "data": {
      "text/plain": [
       "array([], shape=(0, 3), dtype=int64)"
      ]
     },
     "execution_count": 45,
     "metadata": {},
     "output_type": "execute_result"
    }
   ],
   "source": [
    "arr[9:12,3]"
   ]
  },
  {
   "cell_type": "code",
   "execution_count": 46,
   "metadata": {},
   "outputs": [
    {
     "data": {
      "text/plain": [
       "array([], shape=(0, 3), dtype=int64)"
      ]
     },
     "execution_count": 46,
     "metadata": {},
     "output_type": "execute_result"
    }
   ],
   "source": [
    "arr[9:12,4]\n",
    "# arr.shape\n",
    "# arr.ndim\n"
   ]
  },
  {
   "cell_type": "code",
   "execution_count": 47,
   "metadata": {},
   "outputs": [
    {
     "data": {
      "text/plain": [
       "75"
      ]
     },
     "execution_count": 47,
     "metadata": {},
     "output_type": "execute_result"
    }
   ],
   "source": [
    "15*5"
   ]
  },
  {
   "cell_type": "code",
   "execution_count": 48,
   "metadata": {},
   "outputs": [
    {
     "data": {
      "text/plain": [
       "225"
      ]
     },
     "execution_count": 48,
     "metadata": {},
     "output_type": "execute_result"
    }
   ],
   "source": [
    "75*3"
   ]
  },
  {
   "cell_type": "code",
   "execution_count": 49,
   "metadata": {},
   "outputs": [],
   "source": [
    "arr=np.arange(225).reshape(5,15,3)  # 5 tables 3 columns 15 rows\n",
    "                                "
   ]
  },
  {
   "cell_type": "code",
   "execution_count": 50,
   "metadata": {},
   "outputs": [
    {
     "data": {
      "text/plain": [
       "(5, 15, 3)"
      ]
     },
     "execution_count": 50,
     "metadata": {},
     "output_type": "execute_result"
    }
   ],
   "source": [
    "arr.shape    "
   ]
  },
  {
   "cell_type": "code",
   "execution_count": 51,
   "metadata": {},
   "outputs": [
    {
     "data": {
      "text/plain": [
       "3"
      ]
     },
     "execution_count": 51,
     "metadata": {},
     "output_type": "execute_result"
    }
   ],
   "source": [
    "arr.ndim"
   ]
  },
  {
   "cell_type": "code",
   "execution_count": 52,
   "metadata": {},
   "outputs": [
    {
     "data": {
      "text/plain": [
       "dtype('int64')"
      ]
     },
     "execution_count": 52,
     "metadata": {},
     "output_type": "execute_result"
    }
   ],
   "source": [
    "arr.dtype"
   ]
  },
  {
   "cell_type": "code",
   "execution_count": 186,
   "metadata": {},
   "outputs": [
    {
     "data": {
      "text/plain": [
       "array([[[  0,   1,   2],\n",
       "        [  3,   4,   5],\n",
       "        [  6,   7,   8],\n",
       "        [  9,  10,  11],\n",
       "        [ 12,  13,  14],\n",
       "        [ 15,  16,  17],\n",
       "        [ 18,  19,  20],\n",
       "        [ 21,  22,  23],\n",
       "        [ 24,  25,  26],\n",
       "        [ 27,  28,  29],\n",
       "        [ 30,  31,  32],\n",
       "        [ 33,  34,  35],\n",
       "        [ 36,  37,  38],\n",
       "        [ 39,  40,  41],\n",
       "        [ 42,  43,  44]],\n",
       "\n",
       "       [[ 45,  46,  47],\n",
       "        [ 48,  49,  50],\n",
       "        [ 51,  52,  53],\n",
       "        [ 54,  55,  56],\n",
       "        [ 57,  58,  59],\n",
       "        [ 60,  61,  62],\n",
       "        [ 63,  64,  65],\n",
       "        [ 66,  67,  68],\n",
       "        [ 69,  70,  71],\n",
       "        [ 72,  73,  74],\n",
       "        [ 75,  76,  77],\n",
       "        [ 78,  79,  80],\n",
       "        [ 81,  82,  83],\n",
       "        [ 84,  85,  86],\n",
       "        [ 87,  88,  89]],\n",
       "\n",
       "       [[ 90,  91,  92],\n",
       "        [ 93,  94,  95],\n",
       "        [ 96,  97,  98],\n",
       "        [ 99, 100, 101],\n",
       "        [102, 103, 104],\n",
       "        [105, 106, 107],\n",
       "        [108, 109, 110],\n",
       "        [111, 112, 113],\n",
       "        [114, 115, 116],\n",
       "        [117, 118, 119],\n",
       "        [120, 121, 122],\n",
       "        [123, 124, 125],\n",
       "        [126, 127, 128],\n",
       "        [129, 130, 131],\n",
       "        [132, 133, 134]],\n",
       "\n",
       "       [[135, 136, 137],\n",
       "        [138, 139, 140],\n",
       "        [141, 142, 143],\n",
       "        [144, 145, 146],\n",
       "        [147, 148, 149],\n",
       "        [150, 151, 152],\n",
       "        [153, 154, 155],\n",
       "        [156, 157, 158],\n",
       "        [159, 160, 161],\n",
       "        [162, 163, 164],\n",
       "        [165, 166, 167],\n",
       "        [168, 169, 170],\n",
       "        [171, 172, 173],\n",
       "        [174, 175, 176],\n",
       "        [177, 178, 179]],\n",
       "\n",
       "       [[180, 181, 182],\n",
       "        [183, 184, 185],\n",
       "        [186, 187, 188],\n",
       "        [189, 190, 191],\n",
       "        [192, 193, 194],\n",
       "        [195, 196, 197],\n",
       "        [198, 199, 200],\n",
       "        [201, 202, 203],\n",
       "        [204, 205, 206],\n",
       "        [207, 208, 209],\n",
       "        [210, 211, 212],\n",
       "        [213, 214, 215],\n",
       "        [216, 217, 218],\n",
       "        [219, 220, 221],\n",
       "        [222, 223, 224]]])"
      ]
     },
     "execution_count": 186,
     "metadata": {},
     "output_type": "execute_result"
    }
   ],
   "source": [
    "arr"
   ]
  },
  {
   "cell_type": "markdown",
   "metadata": {},
   "source": [
    "## 3 D array "
   ]
  },
  {
   "cell_type": "code",
   "execution_count": 187,
   "metadata": {},
   "outputs": [
    {
     "name": "stdout",
     "output_type": "stream",
     "text": [
      "3\n",
      "(5, 15, 3)\n",
      "int64\n",
      "225\n"
     ]
    }
   ],
   "source": [
    "arr=np.arange(225).reshape(5,15,3)        # 3 D array 225 tak chalega 5 table 15 row 3 column \n",
    "print(arr.ndim)\n",
    "print(arr.shape)\n",
    "print(arr.dtype)\n",
    "print(arr.size)\n"
   ]
  },
  {
   "cell_type": "code",
   "execution_count": 188,
   "metadata": {},
   "outputs": [
    {
     "data": {
      "text/plain": [
       "array([[[  0,   1,   2],\n",
       "        [  3,   4,   5],\n",
       "        [  6,   7,   8],\n",
       "        [  9,  10,  11],\n",
       "        [ 12,  13,  14],\n",
       "        [ 15,  16,  17],\n",
       "        [ 18,  19,  20],\n",
       "        [ 21,  22,  23],\n",
       "        [ 24,  25,  26],\n",
       "        [ 27,  28,  29],\n",
       "        [ 30,  31,  32],\n",
       "        [ 33,  34,  35],\n",
       "        [ 36,  37,  38],\n",
       "        [ 39,  40,  41],\n",
       "        [ 42,  43,  44]],\n",
       "\n",
       "       [[ 45,  46,  47],\n",
       "        [ 48,  49,  50],\n",
       "        [ 51,  52,  53],\n",
       "        [ 54,  55,  56],\n",
       "        [ 57,  58,  59],\n",
       "        [ 60,  61,  62],\n",
       "        [ 63,  64,  65],\n",
       "        [ 66,  67,  68],\n",
       "        [ 69,  70,  71],\n",
       "        [ 72,  73,  74],\n",
       "        [ 75,  76,  77],\n",
       "        [ 78,  79,  80],\n",
       "        [ 81,  82,  83],\n",
       "        [ 84,  85,  86],\n",
       "        [ 87,  88,  89]],\n",
       "\n",
       "       [[ 90,  91,  92],\n",
       "        [ 93,  94,  95],\n",
       "        [ 96,  97,  98],\n",
       "        [ 99, 100, 101],\n",
       "        [102, 103, 104],\n",
       "        [105, 106, 107],\n",
       "        [108, 109, 110],\n",
       "        [111, 112, 113],\n",
       "        [114, 115, 116],\n",
       "        [117, 118, 119],\n",
       "        [120, 121, 122],\n",
       "        [123, 124, 125],\n",
       "        [126, 127, 128],\n",
       "        [129, 130, 131],\n",
       "        [132, 133, 134]],\n",
       "\n",
       "       [[135, 136, 137],\n",
       "        [138, 139, 140],\n",
       "        [141, 142, 143],\n",
       "        [144, 145, 146],\n",
       "        [147, 148, 149],\n",
       "        [150, 151, 152],\n",
       "        [153, 154, 155],\n",
       "        [156, 157, 158],\n",
       "        [159, 160, 161],\n",
       "        [162, 163, 164],\n",
       "        [165, 166, 167],\n",
       "        [168, 169, 170],\n",
       "        [171, 172, 173],\n",
       "        [174, 175, 176],\n",
       "        [177, 178, 179]],\n",
       "\n",
       "       [[180, 181, 182],\n",
       "        [183, 184, 185],\n",
       "        [186, 187, 188],\n",
       "        [189, 190, 191],\n",
       "        [192, 193, 194],\n",
       "        [195, 196, 197],\n",
       "        [198, 199, 200],\n",
       "        [201, 202, 203],\n",
       "        [204, 205, 206],\n",
       "        [207, 208, 209],\n",
       "        [210, 211, 212],\n",
       "        [213, 214, 215],\n",
       "        [216, 217, 218],\n",
       "        [219, 220, 221],\n",
       "        [222, 223, 224]]])"
      ]
     },
     "execution_count": 188,
     "metadata": {},
     "output_type": "execute_result"
    }
   ],
   "source": [
    "arr"
   ]
  },
  {
   "cell_type": "code",
   "execution_count": 53,
   "metadata": {},
   "outputs": [
    {
     "data": {
      "text/plain": [
       "array([3, 4, 5])"
      ]
     },
     "execution_count": 53,
     "metadata": {},
     "output_type": "execute_result"
    }
   ],
   "source": [
    "arr[0,1]  \n",
    "         # 0 is the determine table and 2 is the determine row of table "
   ]
  },
  {
   "cell_type": "code",
   "execution_count": 54,
   "metadata": {},
   "outputs": [
    {
     "data": {
      "text/plain": [
       "array([[[ 0,  1,  2],\n",
       "        [ 3,  4,  5],\n",
       "        [ 6,  7,  8],\n",
       "        [ 9, 10, 11],\n",
       "        [12, 13, 14],\n",
       "        [15, 16, 17],\n",
       "        [18, 19, 20],\n",
       "        [21, 22, 23],\n",
       "        [24, 25, 26],\n",
       "        [27, 28, 29],\n",
       "        [30, 31, 32],\n",
       "        [33, 34, 35],\n",
       "        [36, 37, 38],\n",
       "        [39, 40, 41],\n",
       "        [42, 43, 44]]])"
      ]
     },
     "execution_count": 54,
     "metadata": {},
     "output_type": "execute_result"
    }
   ],
   "source": [
    "arr[0:1]"
   ]
  },
  {
   "cell_type": "code",
   "execution_count": 55,
   "metadata": {},
   "outputs": [
    {
     "data": {
      "text/plain": [
       "array([ 44,  89, 134, 179, 224])"
      ]
     },
     "execution_count": 55,
     "metadata": {},
     "output_type": "execute_result"
    }
   ],
   "source": [
    "arr[0:5,14,2]          # table ka starting point 0 h ending point 5 h \n",
    "                        # 14 no ki row h or 2 no ki column h "
   ]
  },
  {
   "cell_type": "code",
   "execution_count": 56,
   "metadata": {},
   "outputs": [
    {
     "data": {
      "text/plain": [
       "np.int64(224)"
      ]
     },
     "execution_count": 56,
     "metadata": {},
     "output_type": "execute_result"
    }
   ],
   "source": [
    "arr [4,14,2]          #  first 4 ko to table  and 14 row and 2 column "
   ]
  },
  {
   "cell_type": "code",
   "execution_count": 193,
   "metadata": {},
   "outputs": [
    {
     "data": {
      "text/plain": [
       "array([182, 185, 188, 191, 194, 197, 200, 203, 206, 209, 212, 215, 218,\n",
       "       221])"
      ]
     },
     "execution_count": 193,
     "metadata": {},
     "output_type": "execute_result"
    }
   ],
   "source": [
    "arr[4,0:14,2]"
   ]
  },
  {
   "cell_type": "code",
   "execution_count": 194,
   "metadata": {},
   "outputs": [
    {
     "data": {
      "text/plain": [
       "array([[ 42,  43,  44],\n",
       "       [ 87,  88,  89],\n",
       "       [132, 133, 134],\n",
       "       [177, 178, 179],\n",
       "       [222, 223, 224]])"
      ]
     },
     "execution_count": 194,
     "metadata": {},
     "output_type": "execute_result"
    }
   ],
   "source": [
    "arr[0:5,14]"
   ]
  },
  {
   "cell_type": "code",
   "execution_count": 195,
   "metadata": {},
   "outputs": [
    {
     "data": {
      "text/plain": [
       "array([[  1,   4,   7,  10,  13,  16,  19,  22,  25,  28,  31,  34,  37,\n",
       "         40,  43],\n",
       "       [ 46,  49,  52,  55,  58,  61,  64,  67,  70,  73,  76,  79,  82,\n",
       "         85,  88],\n",
       "       [ 91,  94,  97, 100, 103, 106, 109, 112, 115, 118, 121, 124, 127,\n",
       "        130, 133],\n",
       "       [136, 139, 142, 145, 148, 151, 154, 157, 160, 163, 166, 169, 172,\n",
       "        175, 178],\n",
       "       [181, 184, 187, 190, 193, 196, 199, 202, 205, 208, 211, 214, 217,\n",
       "        220, 223]])"
      ]
     },
     "execution_count": 195,
     "metadata": {},
     "output_type": "execute_result"
    }
   ],
   "source": [
    "arr[0:5,:,1]"
   ]
  },
  {
   "cell_type": "code",
   "execution_count": 196,
   "metadata": {},
   "outputs": [
    {
     "data": {
      "text/plain": [
       "array([[[  0,   1,   2],\n",
       "        [  3,   4,   5],\n",
       "        [  6,   7,   8],\n",
       "        [  9,  10,  11],\n",
       "        [ 12,  13,  14],\n",
       "        [ 15,  16,  17],\n",
       "        [ 18,  19,  20],\n",
       "        [ 21,  22,  23],\n",
       "        [ 24,  25,  26],\n",
       "        [ 27,  28,  29],\n",
       "        [ 30,  31,  32],\n",
       "        [ 33,  34,  35],\n",
       "        [ 36,  37,  38],\n",
       "        [ 39,  40,  41],\n",
       "        [ 42,  43,  44]],\n",
       "\n",
       "       [[ 45,  46,  47],\n",
       "        [ 48,  49,  50],\n",
       "        [ 51,  52,  53],\n",
       "        [ 54,  55,  56],\n",
       "        [ 57,  58,  59],\n",
       "        [ 60,  61,  62],\n",
       "        [ 63,  64,  65],\n",
       "        [ 66,  67,  68],\n",
       "        [ 69,  70,  71],\n",
       "        [ 72,  73,  74],\n",
       "        [ 75,  76,  77],\n",
       "        [ 78,  79,  80],\n",
       "        [ 81,  82,  83],\n",
       "        [ 84,  85,  86],\n",
       "        [ 87,  88,  89]],\n",
       "\n",
       "       [[ 90,  91,  92],\n",
       "        [ 93,  94,  95],\n",
       "        [ 96,  97,  98],\n",
       "        [ 99, 100, 101],\n",
       "        [102, 103, 104],\n",
       "        [105, 106, 107],\n",
       "        [108, 109, 110],\n",
       "        [111, 112, 113],\n",
       "        [114, 115, 116],\n",
       "        [117, 118, 119],\n",
       "        [120, 121, 122],\n",
       "        [123, 124, 125],\n",
       "        [126, 127, 128],\n",
       "        [129, 130, 131],\n",
       "        [132, 133, 134]],\n",
       "\n",
       "       [[135, 136, 137],\n",
       "        [138, 139, 140],\n",
       "        [141, 142, 143],\n",
       "        [144, 145, 146],\n",
       "        [147, 148, 149],\n",
       "        [150, 151, 152],\n",
       "        [153, 154, 155],\n",
       "        [156, 157, 158],\n",
       "        [159, 160, 161],\n",
       "        [162, 163, 164],\n",
       "        [165, 166, 167],\n",
       "        [168, 169, 170],\n",
       "        [171, 172, 173],\n",
       "        [174, 175, 176],\n",
       "        [177, 178, 179]],\n",
       "\n",
       "       [[180, 181, 182],\n",
       "        [183, 184, 185],\n",
       "        [186, 187, 188],\n",
       "        [189, 190, 191],\n",
       "        [192, 193, 194],\n",
       "        [195, 196, 197],\n",
       "        [198, 199, 200],\n",
       "        [201, 202, 203],\n",
       "        [204, 205, 206],\n",
       "        [207, 208, 209],\n",
       "        [210, 211, 212],\n",
       "        [213, 214, 215],\n",
       "        [216, 217, 218],\n",
       "        [219, 220, 221],\n",
       "        [222, 223, 224]]])"
      ]
     },
     "execution_count": 196,
     "metadata": {},
     "output_type": "execute_result"
    }
   ],
   "source": [
    "arr"
   ]
  },
  {
   "cell_type": "code",
   "execution_count": 197,
   "metadata": {},
   "outputs": [
    {
     "data": {
      "text/plain": [
       "array([[[  6,   7,   8],\n",
       "        [  9,  10,  11]],\n",
       "\n",
       "       [[ 51,  52,  53],\n",
       "        [ 54,  55,  56]],\n",
       "\n",
       "       [[ 96,  97,  98],\n",
       "        [ 99, 100, 101]],\n",
       "\n",
       "       [[141, 142, 143],\n",
       "        [144, 145, 146]],\n",
       "\n",
       "       [[186, 187, 188],\n",
       "        [189, 190, 191]]])"
      ]
     },
     "execution_count": 197,
     "metadata": {},
     "output_type": "execute_result"
    }
   ],
   "source": [
    "arr[0:5,2:4]"
   ]
  },
  {
   "cell_type": "code",
   "execution_count": 198,
   "metadata": {},
   "outputs": [
    {
     "data": {
      "text/plain": [
       "array([[[  0,   1,   2],\n",
       "        [  3,   4,   5],\n",
       "        [  6,   7,   8],\n",
       "        [  9,  10,  11],\n",
       "        [ 12,  13,  14],\n",
       "        [ 15,  16,  17],\n",
       "        [ 18,  19,  20],\n",
       "        [ 21,  22,  23],\n",
       "        [ 24,  25,  26],\n",
       "        [ 27,  28,  29],\n",
       "        [ 30,  31,  32],\n",
       "        [ 33,  34,  35],\n",
       "        [ 36,  37,  38],\n",
       "        [ 39,  40,  41],\n",
       "        [ 42,  43,  44]],\n",
       "\n",
       "       [[ 45,  46,  47],\n",
       "        [ 48,  49,  50],\n",
       "        [ 51,  52,  53],\n",
       "        [ 54,  55,  56],\n",
       "        [ 57,  58,  59],\n",
       "        [ 60,  61,  62],\n",
       "        [ 63,  64,  65],\n",
       "        [ 66,  67,  68],\n",
       "        [ 69,  70,  71],\n",
       "        [ 72,  73,  74],\n",
       "        [ 75,  76,  77],\n",
       "        [ 78,  79,  80],\n",
       "        [ 81,  82,  83],\n",
       "        [ 84,  85,  86],\n",
       "        [ 87,  88,  89]],\n",
       "\n",
       "       [[ 90,  91,  92],\n",
       "        [ 93,  94,  95],\n",
       "        [ 96,  97,  98],\n",
       "        [ 99, 100, 101],\n",
       "        [102, 103, 104],\n",
       "        [105, 106, 107],\n",
       "        [108, 109, 110],\n",
       "        [111, 112, 113],\n",
       "        [114, 115, 116],\n",
       "        [117, 118, 119],\n",
       "        [120, 121, 122],\n",
       "        [123, 124, 125],\n",
       "        [126, 127, 128],\n",
       "        [129, 130, 131],\n",
       "        [132, 133, 134]],\n",
       "\n",
       "       [[135, 136, 137],\n",
       "        [138, 139, 140],\n",
       "        [141, 142, 143],\n",
       "        [144, 145, 146],\n",
       "        [147, 148, 149],\n",
       "        [150, 151, 152],\n",
       "        [153, 154, 155],\n",
       "        [156, 157, 158],\n",
       "        [159, 160, 161],\n",
       "        [162, 163, 164],\n",
       "        [165, 166, 167],\n",
       "        [168, 169, 170],\n",
       "        [171, 172, 173],\n",
       "        [174, 175, 176],\n",
       "        [177, 178, 179]],\n",
       "\n",
       "       [[180, 181, 182],\n",
       "        [183, 184, 185],\n",
       "        [186, 187, 188],\n",
       "        [189, 190, 191],\n",
       "        [192, 193, 194],\n",
       "        [195, 196, 197],\n",
       "        [198, 199, 200],\n",
       "        [201, 202, 203],\n",
       "        [204, 205, 206],\n",
       "        [207, 208, 209],\n",
       "        [210, 211, 212],\n",
       "        [213, 214, 215],\n",
       "        [216, 217, 218],\n",
       "        [219, 220, 221],\n",
       "        [222, 223, 224]]])"
      ]
     },
     "execution_count": 198,
     "metadata": {},
     "output_type": "execute_result"
    }
   ],
   "source": [
    "arr"
   ]
  },
  {
   "cell_type": "code",
   "execution_count": 199,
   "metadata": {},
   "outputs": [
    {
     "data": {
      "text/plain": [
       "array([[[ 40,  41],\n",
       "        [ 43,  44]],\n",
       "\n",
       "       [[ 85,  86],\n",
       "        [ 88,  89]],\n",
       "\n",
       "       [[130, 131],\n",
       "        [133, 134]],\n",
       "\n",
       "       [[175, 176],\n",
       "        [178, 179]],\n",
       "\n",
       "       [[220, 221],\n",
       "        [223, 224]]])"
      ]
     },
     "execution_count": 199,
     "metadata": {},
     "output_type": "execute_result"
    }
   ],
   "source": [
    "arr[0:5,13:15,1:3]"
   ]
  },
  {
   "cell_type": "code",
   "execution_count": 200,
   "metadata": {},
   "outputs": [
    {
     "ename": "TypeError",
     "evalue": "array() missing required argument 'object' (pos 0)",
     "output_type": "error",
     "traceback": [
      "\u001b[1;31m---------------------------------------------------------------------------\u001b[0m",
      "\u001b[1;31mTypeError\u001b[0m                                 Traceback (most recent call last)",
      "Cell \u001b[1;32mIn[200], line 1\u001b[0m\n\u001b[1;32m----> 1\u001b[0m a\u001b[38;5;241m=\u001b[39m\u001b[43mnp\u001b[49m\u001b[38;5;241;43m.\u001b[39;49m\u001b[43marray\u001b[49m\u001b[43m(\u001b[49m\u001b[43m)\u001b[49m\n\u001b[0;32m      2\u001b[0m arr\n",
      "\u001b[1;31mTypeError\u001b[0m: array() missing required argument 'object' (pos 0)"
     ]
    }
   ],
   "source": [
    "a=np.array()\n",
    "arr"
   ]
  },
  {
   "cell_type": "code",
   "execution_count": 380,
   "metadata": {},
   "outputs": [],
   "source": [
    "a=[12,35,56,7,7,8]"
   ]
  },
  {
   "cell_type": "code",
   "execution_count": 381,
   "metadata": {},
   "outputs": [
    {
     "data": {
      "text/plain": [
       "array([12, 35, 56,  7,  7,  8])"
      ]
     },
     "execution_count": 381,
     "metadata": {},
     "output_type": "execute_result"
    }
   ],
   "source": [
    "a=np.array(a)\n",
    "a"
   ]
  },
  {
   "cell_type": "code",
   "execution_count": 97,
   "metadata": {},
   "outputs": [
    {
     "data": {
      "text/plain": [
       "array([[[  0,   1,   2],\n",
       "        [  3,   4,   5],\n",
       "        [  6,   7,   8],\n",
       "        [  9,  10,  11],\n",
       "        [ 12,  13,  14],\n",
       "        [ 15,  16,  17],\n",
       "        [ 18,  19,  20],\n",
       "        [ 21,  22,  23],\n",
       "        [ 24,  25,  26],\n",
       "        [ 27,  28,  29],\n",
       "        [ 30,  31,  32],\n",
       "        [ 33,  34,  35],\n",
       "        [ 36,  37,  38],\n",
       "        [ 39,  40,  41],\n",
       "        [ 42,  43,  44]],\n",
       "\n",
       "       [[ 45,  46,  47],\n",
       "        [ 48,  49,  50],\n",
       "        [ 51,  52,  53],\n",
       "        [ 54,  55,  56],\n",
       "        [ 57,  58,  59],\n",
       "        [ 60,  61,  62],\n",
       "        [ 63,  64,  65],\n",
       "        [ 66,  67,  68],\n",
       "        [ 69,  70,  71],\n",
       "        [ 72,  73,  74],\n",
       "        [ 75,  76,  77],\n",
       "        [ 78,  79,  80],\n",
       "        [ 81,  82,  83],\n",
       "        [ 84,  85,  86],\n",
       "        [ 87,  88,  89]],\n",
       "\n",
       "       [[ 90,  91,  92],\n",
       "        [ 93,  94,  95],\n",
       "        [ 96,  97,  98],\n",
       "        [ 99, 100, 101],\n",
       "        [102, 103, 104],\n",
       "        [105, 106, 107],\n",
       "        [108, 109, 110],\n",
       "        [111, 112, 113],\n",
       "        [114, 115, 116],\n",
       "        [117, 118, 119],\n",
       "        [120, 121, 122],\n",
       "        [123, 124, 125],\n",
       "        [126, 127, 128],\n",
       "        [129, 130, 131],\n",
       "        [132, 133, 134]],\n",
       "\n",
       "       [[135, 136, 137],\n",
       "        [138, 139, 140],\n",
       "        [141, 142, 143],\n",
       "        [144, 145, 146],\n",
       "        [147, 148, 149],\n",
       "        [150, 151, 152],\n",
       "        [153, 154, 155],\n",
       "        [156, 157, 158],\n",
       "        [159, 160, 161],\n",
       "        [162, 163, 164],\n",
       "        [165, 166, 167],\n",
       "        [168, 169, 170],\n",
       "        [171, 172, 173],\n",
       "        [174, 175, 176],\n",
       "        [177, 178, 179]],\n",
       "\n",
       "       [[180, 181, 182],\n",
       "        [183, 184, 185],\n",
       "        [186, 187, 188],\n",
       "        [189, 190, 191],\n",
       "        [192, 193, 194],\n",
       "        [195, 196, 197],\n",
       "        [198, 199, 200],\n",
       "        [201, 202, 203],\n",
       "        [204, 205, 206],\n",
       "        [207, 208, 209],\n",
       "        [210, 211, 212],\n",
       "        [213, 214, 215],\n",
       "        [216, 217, 218],\n",
       "        [219, 220, 221],\n",
       "        [222, 223, 224]]])"
      ]
     },
     "execution_count": 97,
     "metadata": {},
     "output_type": "execute_result"
    }
   ],
   "source": [
    "np.array(a)\n",
    "arr"
   ]
  },
  {
   "cell_type": "code",
   "execution_count": 99,
   "metadata": {},
   "outputs": [
    {
     "data": {
      "text/plain": [
       "array([[[ 90,  91,  92],\n",
       "        [ 93,  94,  95],\n",
       "        [ 96,  97,  98],\n",
       "        [ 99, 100, 101],\n",
       "        [102, 103, 104],\n",
       "        [105, 106, 107],\n",
       "        [108, 109, 110],\n",
       "        [111, 112, 113],\n",
       "        [114, 115, 116],\n",
       "        [117, 118, 119],\n",
       "        [120, 121, 122],\n",
       "        [123, 124, 125],\n",
       "        [126, 127, 128],\n",
       "        [129, 130, 131]],\n",
       "\n",
       "       [[135, 136, 137],\n",
       "        [138, 139, 140],\n",
       "        [141, 142, 143],\n",
       "        [144, 145, 146],\n",
       "        [147, 148, 149],\n",
       "        [150, 151, 152],\n",
       "        [153, 154, 155],\n",
       "        [156, 157, 158],\n",
       "        [159, 160, 161],\n",
       "        [162, 163, 164],\n",
       "        [165, 166, 167],\n",
       "        [168, 169, 170],\n",
       "        [171, 172, 173],\n",
       "        [174, 175, 176]],\n",
       "\n",
       "       [[180, 181, 182],\n",
       "        [183, 184, 185],\n",
       "        [186, 187, 188],\n",
       "        [189, 190, 191],\n",
       "        [192, 193, 194],\n",
       "        [195, 196, 197],\n",
       "        [198, 199, 200],\n",
       "        [201, 202, 203],\n",
       "        [204, 205, 206],\n",
       "        [207, 208, 209],\n",
       "        [210, 211, 212],\n",
       "        [213, 214, 215],\n",
       "        [216, 217, 218],\n",
       "        [219, 220, 221]]])"
      ]
     },
     "execution_count": 99,
     "metadata": {},
     "output_type": "execute_result"
    }
   ],
   "source": [
    "arr[2:5,0:14,0:3]"
   ]
  },
  {
   "cell_type": "code",
   "execution_count": 100,
   "metadata": {},
   "outputs": [
    {
     "data": {
      "text/plain": [
       "array([101, 102, 103, 104, 105, 106, 107, 108, 109, 110, 111, 112, 113,\n",
       "       114, 115, 116, 117, 118, 119, 120, 121, 122, 123, 124, 125, 126,\n",
       "       127, 128, 129, 130, 131, 132, 133, 134, 135, 136, 137, 138, 139,\n",
       "       140, 141, 142, 143, 144, 145, 146, 147, 148, 149, 150, 151, 152,\n",
       "       153, 154, 155, 156, 157, 158, 159, 160, 161, 162, 163, 164, 165,\n",
       "       166, 167, 168, 169, 170, 171, 172, 173, 174, 175, 176, 177, 178,\n",
       "       179, 180, 181, 182, 183, 184, 185, 186, 187, 188, 189, 190, 191,\n",
       "       192, 193, 194, 195, 196, 197, 198, 199, 200, 201, 202, 203, 204,\n",
       "       205, 206, 207, 208, 209, 210, 211, 212, 213, 214, 215, 216, 217,\n",
       "       218, 219, 220, 221, 222, 223, 224])"
      ]
     },
     "execution_count": 100,
     "metadata": {},
     "output_type": "execute_result"
    }
   ],
   "source": [
    "arr[arr>100]"
   ]
  },
  {
   "cell_type": "code",
   "execution_count": 91,
   "metadata": {},
   "outputs": [
    {
     "data": {
      "text/plain": [
       "array([189, 190, 191])"
      ]
     },
     "execution_count": 91,
     "metadata": {},
     "output_type": "execute_result"
    }
   ],
   "source": [
    "arr[4,3]"
   ]
  },
  {
   "cell_type": "code",
   "execution_count": 93,
   "metadata": {},
   "outputs": [
    {
     "data": {
      "text/plain": [
       "array([[  2,   5,   8,  11,  14,  17,  20,  23,  26,  29,  32,  35,  38,\n",
       "         41,  44],\n",
       "       [ 47,  50,  53,  56,  59,  62,  65,  68,  71,  74,  77,  80,  83,\n",
       "         86,  89],\n",
       "       [ 92,  95,  98, 101, 104, 107, 110, 113, 116, 119, 122, 125, 128,\n",
       "        131, 134],\n",
       "       [137, 140, 143, 146, 149, 152, 155, 158, 161, 164, 167, 170, 173,\n",
       "        176, 179],\n",
       "       [182, 185, 188, 191, 194, 197, 200, 203, 206, 209, 212, 215, 218,\n",
       "        221, 224]])"
      ]
     },
     "execution_count": 93,
     "metadata": {},
     "output_type": "execute_result"
    }
   ],
   "source": [
    "arr[0:5,0:15,2]"
   ]
  },
  {
   "cell_type": "code",
   "execution_count": null,
   "metadata": {},
   "outputs": [],
   "source": [
    "# arthmatic operator"
   ]
  },
  {
   "cell_type": "code",
   "execution_count": 206,
   "metadata": {},
   "outputs": [],
   "source": [
    "c=[12,34,56,7,788,43,32]\n",
    "d=[21,342,54,56,76,8,7]\n"
   ]
  },
  {
   "cell_type": "code",
   "execution_count": 207,
   "metadata": {},
   "outputs": [
    {
     "data": {
      "text/plain": [
       "array([ 12,  34,  56,   7, 788,  43,  32])"
      ]
     },
     "execution_count": 207,
     "metadata": {},
     "output_type": "execute_result"
    }
   ],
   "source": [
    "c=np.array(c)\n",
    "c\n",
    "# np.dtype\n",
    "# print(type(c))"
   ]
  },
  {
   "cell_type": "code",
   "execution_count": 208,
   "metadata": {},
   "outputs": [
    {
     "data": {
      "text/plain": [
       "array([ 21, 342,  54,  56,  76,   8,   7])"
      ]
     },
     "execution_count": 208,
     "metadata": {},
     "output_type": "execute_result"
    }
   ],
   "source": [
    "d=np.array(d)\n",
    "d"
   ]
  },
  {
   "cell_type": "code",
   "execution_count": 209,
   "metadata": {},
   "outputs": [
    {
     "data": {
      "text/plain": [
       "array([ 33, 376, 110,  63, 864,  51,  39])"
      ]
     },
     "execution_count": 209,
     "metadata": {},
     "output_type": "execute_result"
    }
   ],
   "source": [
    "c+d"
   ]
  },
  {
   "cell_type": "code",
   "execution_count": 210,
   "metadata": {},
   "outputs": [
    {
     "data": {
      "text/plain": [
       "array([  -9, -308,    2,  -49,  712,   35,   25])"
      ]
     },
     "execution_count": 210,
     "metadata": {},
     "output_type": "execute_result"
    }
   ],
   "source": [
    "c-d"
   ]
  },
  {
   "cell_type": "code",
   "execution_count": 211,
   "metadata": {},
   "outputs": [
    {
     "data": {
      "text/plain": [
       "array([  252, 11628,  3024,   392, 59888,   344,   224])"
      ]
     },
     "execution_count": 211,
     "metadata": {},
     "output_type": "execute_result"
    }
   ],
   "source": [
    "c*d"
   ]
  },
  {
   "cell_type": "code",
   "execution_count": 213,
   "metadata": {},
   "outputs": [
    {
     "data": {
      "text/plain": [
       "array([ 0.57142857,  0.0994152 ,  1.03703704,  0.125     , 10.36842105,\n",
       "        5.375     ,  4.57142857])"
      ]
     },
     "execution_count": 213,
     "metadata": {},
     "output_type": "execute_result"
    }
   ],
   "source": [
    "c/d"
   ]
  },
  {
   "cell_type": "code",
   "execution_count": 214,
   "metadata": {},
   "outputs": [
    {
     "data": {
      "text/plain": [
       "array([ 0,  0,  1,  0, 10,  5,  4])"
      ]
     },
     "execution_count": 214,
     "metadata": {},
     "output_type": "execute_result"
    }
   ],
   "source": [
    "c//d"
   ]
  },
  {
   "cell_type": "code",
   "execution_count": null,
   "metadata": {},
   "outputs": [],
   "source": []
  }
 ],
 "metadata": {
  "kernelspec": {
   "display_name": "Python 3",
   "language": "python",
   "name": "python3"
  },
  "language_info": {
   "codemirror_mode": {
    "name": "ipython",
    "version": 3
   },
   "file_extension": ".py",
   "mimetype": "text/x-python",
   "name": "python",
   "nbconvert_exporter": "python",
   "pygments_lexer": "ipython3",
   "version": "3.12.3"
  }
 },
 "nbformat": 4,
 "nbformat_minor": 2
}
