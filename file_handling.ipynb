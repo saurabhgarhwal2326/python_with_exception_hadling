{
 "cells": [
  {
   "cell_type": "markdown",
   "metadata": {},
   "source": [
    "## File handling\n",
    "* File handling is an important part of any web application.\n",
    "Python has several functions for creating, reading, updating, and deleting files.\n",
    "* File Handling\n",
    "    The key function for working with files in Python is the open() function.\n",
    "\n",
    "    The open() function takes two parameters; filename, and mode.\n",
    "\n",
    "    There are four different methods (modes) for opening a file:\n",
    "* \"r\" - Read - Default value. Opens a file for reading, error if the file does not exist\n",
    "\n",
    "     \"a\" - Append - Opens a file for appending, creates the file if it does not exist\n",
    "\n",
    "    \"w\" - Write - Opens a file for writing, creates the file if it does not exist\n",
    "\n",
    "    \"x\" - Create - Creates the specified file, returns an error if the file exists"
   ]
  },
  {
   "cell_type": "code",
   "execution_count": 7,
   "metadata": {},
   "outputs": [
    {
     "name": "stdout",
     "output_type": "stream",
     "text": [
      "hello hii \n",
      "hello sourbh kese ho \n"
     ]
    }
   ],
   "source": [
    "df=open(\"hello.txt\",'r')  # hello.txt = file name    ,  \"r\" = read karne ka mode\n",
    "print(df.read())\n",
    "# print(\"r\")\n",
    "\n",
    "# read functions are used to read the contant of the file"
   ]
  },
  {
   "cell_type": "code",
   "execution_count": 8,
   "metadata": {},
   "outputs": [
    {
     "name": "stdout",
     "output_type": "stream",
     "text": [
      "\"r\" - Read - Default value. Opens a file for reading, error if the file does not exist\n",
      "\n",
      "\"a\" - Append - Opens a file for appending, creates the file if it does not exist\n",
      "\n",
      "\"w\" - Write - Opens a file for writing, creates the file if it does not exist\n",
      "\n",
      "\"x\" - Create - Creates the specified file, returns an error ifÂ theÂ fileÂ exists\n"
     ]
    },
    {
     "name": "stderr",
     "output_type": "stream",
     "text": [
      "<>:1: SyntaxWarning: invalid escape sequence '\\p'\n",
      "<>:1: SyntaxWarning: invalid escape sequence '\\p'\n",
      "C:\\Users\\i\\AppData\\Local\\Temp\\ipykernel_11580\\3725359402.py:1: SyntaxWarning: invalid escape sequence '\\p'\n",
      "  a=open(\"F:\\python Ai.txt\",\"r\")\n"
     ]
    }
   ],
   "source": [
    "a=open(\"F:\\python Ai.txt\",\"r\")\n",
    "print(a.read())\n"
   ]
  },
  {
   "cell_type": "code",
   "execution_count": 12,
   "metadata": {},
   "outputs": [
    {
     "name": "stdout",
     "output_type": "stream",
     "text": [
      "\"r\" - Read - Default value. Opens a file for reading, error if the file does not exist\n",
      "\n",
      "\"a\" - Append - Opens a file for appending, creates the file if it does not exist\n",
      "\n",
      "\"w\" - Write - Opens a file for writing, creates the file if it does not exist\n",
      "\n",
      "\"x\" - Create - Creates the specified file, returns an error ifÂ theÂ fileÂ exists\n"
     ]
    },
    {
     "name": "stderr",
     "output_type": "stream",
     "text": [
      "<>:1: SyntaxWarning: invalid escape sequence '\\p'\n",
      "<>:1: SyntaxWarning: invalid escape sequence '\\p'\n",
      "C:\\Users\\i\\AppData\\Local\\Temp\\ipykernel_11580\\552452823.py:1: SyntaxWarning: invalid escape sequence '\\p'\n",
      "  a=open(\"F:\\python Ai.txt\",\"r\")\n"
     ]
    }
   ],
   "source": [
    "a=open(\"F:\\python Ai.txt\",\"r\")\n",
    "print(a.read())"
   ]
  },
  {
   "cell_type": "code",
   "execution_count": 24,
   "metadata": {},
   "outputs": [
    {
     "name": "stdout",
     "output_type": "stream",
     "text": [
      "\"r\" - Read - Default value. Opens a file for reading, error if the file does not exist\n",
      "\n",
      "\n",
      "\n"
     ]
    },
    {
     "name": "stderr",
     "output_type": "stream",
     "text": [
      "<>:1: SyntaxWarning: invalid escape sequence '\\p'\n",
      "<>:1: SyntaxWarning: invalid escape sequence '\\p'\n",
      "C:\\Users\\i\\AppData\\Local\\Temp\\ipykernel_11580\\3793947567.py:1: SyntaxWarning: invalid escape sequence '\\p'\n",
      "  aa=open(\"F:\\python Ai.txt\",'r')\n"
     ]
    }
   ],
   "source": [
    "aa=open(\"F:\\python Ai.txt\",'r')\n",
    "print(aa.readline()) \n",
    "print(aa.readline())  # read line function are used to read the  first line of file      \n"
   ]
  },
  {
   "cell_type": "code",
   "execution_count": 25,
   "metadata": {},
   "outputs": [
    {
     "name": "stdout",
     "output_type": "stream",
     "text": [
      "\"r\" - Read - Default value. Opens a file for reading, error if the file does not exist\n",
      "\n",
      "\n",
      "\n",
      "\"a\" - Append - Opens a file for appending, creates the file if it does not exist\n",
      "\n",
      "\n",
      "\n",
      "\"w\" - Write - Opens a file for writing, creates the file if it does not exist\n",
      "\n",
      "\n",
      "\n",
      "\"x\" - Create - Creates the specified file, returns an error ifÂ theÂ fileÂ exists\n"
     ]
    },
    {
     "name": "stderr",
     "output_type": "stream",
     "text": [
      "<>:1: SyntaxWarning: invalid escape sequence '\\p'\n",
      "<>:1: SyntaxWarning: invalid escape sequence '\\p'\n",
      "C:\\Users\\i\\AppData\\Local\\Temp\\ipykernel_11580\\165497120.py:1: SyntaxWarning: invalid escape sequence '\\p'\n",
      "  aa=open(\"F:\\python Ai.txt\",'r')\n"
     ]
    }
   ],
   "source": [
    "aa=open(\"F:\\python Ai.txt\",'r')\n",
    "for x in aa:\n",
    "    print(x)"
   ]
  },
  {
   "cell_type": "code",
   "execution_count": 27,
   "metadata": {},
   "outputs": [
    {
     "name": "stdout",
     "output_type": "stream",
     "text": [
      "\"r\" - Read - Default value. Opens a file for reading, error if the file does not exist\n",
      "\n",
      "\"a\" - Append - Opens a file for appending, creates the file if it does not exist\n",
      "\n",
      "\"w\" - Write - Opens a file for writing, creates the file if it does not exist\n",
      "\n",
      "\"x\" - Create - Creates the specified file, returns an error ifÂ theÂ fileÂ exists\n"
     ]
    },
    {
     "name": "stderr",
     "output_type": "stream",
     "text": [
      "<>:1: SyntaxWarning: invalid escape sequence '\\p'\n",
      "<>:1: SyntaxWarning: invalid escape sequence '\\p'\n",
      "C:\\Users\\i\\AppData\\Local\\Temp\\ipykernel_11580\\229336926.py:1: SyntaxWarning: invalid escape sequence '\\p'\n",
      "  aa=open(\"F:\\python Ai.txt\",'r')\n"
     ]
    }
   ],
   "source": [
    "aa=open(\"F:\\python Ai.txt\",'r')\n",
    "print(aa.read())\n",
    "aa.close()  # close functions are used to close the file "
   ]
  },
  {
   "cell_type": "code",
   "execution_count": 37,
   "metadata": {},
   "outputs": [
    {
     "name": "stdout",
     "output_type": "stream",
     "text": [
      "\"r\" - Read - Default value. Opens a file for reading, error if the file does not exist\n",
      "\n",
      "\"a\" - Append - Opens a file for appending, creates the file if it does not exist\n",
      "\n",
      "\"w\" - Write - Opens a file for writing, creates the file if it does not exist\n",
      "\n",
      "\"x\" - Create - Creates the specified file, returns an error ifÂ theÂ fileÂ existsit is about the file handlingit is about the file handlingit is about the file handlingit is about the file handlingit is about the file handlingit is about the file handling\n"
     ]
    },
    {
     "name": "stderr",
     "output_type": "stream",
     "text": [
      "<>:1: SyntaxWarning: invalid escape sequence '\\p'\n",
      "<>:4: SyntaxWarning: invalid escape sequence '\\p'\n",
      "<>:1: SyntaxWarning: invalid escape sequence '\\p'\n",
      "<>:4: SyntaxWarning: invalid escape sequence '\\p'\n",
      "C:\\Users\\i\\AppData\\Local\\Temp\\ipykernel_11580\\3885332757.py:1: SyntaxWarning: invalid escape sequence '\\p'\n",
      "  aa=open(\"F:\\python Ai.txt\",'a')\n",
      "C:\\Users\\i\\AppData\\Local\\Temp\\ipykernel_11580\\3885332757.py:4: SyntaxWarning: invalid escape sequence '\\p'\n",
      "  aa=open(\"F:\\python Ai.txt\",'r')\n"
     ]
    }
   ],
   "source": [
    "aa=open(\"F:\\python Ai.txt\",'a')\n",
    "aa.write(\"it is about the file handling\")\n",
    "aa.close()\n",
    "aa=open(\"F:\\python Ai.txt\",'r')\n",
    "print(aa.read())\n",
    "\n"
   ]
  },
  {
   "cell_type": "code",
   "execution_count": 38,
   "metadata": {},
   "outputs": [],
   "source": [
    "# print(aa.read())"
   ]
  },
  {
   "cell_type": "code",
   "execution_count": 40,
   "metadata": {},
   "outputs": [
    {
     "name": "stdout",
     "output_type": "stream",
     "text": [
      "\"r\" - Read - Default value. Opens a file for reading, error if the file does not exist\n",
      "\n",
      "\"a\" - Append - Opens a file for appending, creates the file if it does not exist\n",
      "\n",
      "\"w\" - Write - Opens a file for writing, creates the file if it does not exist\n",
      "\n",
      "\"x\" - Create - Creates the specified file\n"
     ]
    },
    {
     "name": "stderr",
     "output_type": "stream",
     "text": [
      "<>:1: SyntaxWarning: invalid escape sequence '\\p'\n",
      "<>:1: SyntaxWarning: invalid escape sequence '\\p'\n",
      "C:\\Users\\i\\AppData\\Local\\Temp\\ipykernel_11580\\1042970717.py:1: SyntaxWarning: invalid escape sequence '\\p'\n",
      "  a=open(\"F:\\python Ai.txt\",'r')\n"
     ]
    }
   ],
   "source": [
    "a=open(\"F:\\python Ai.txt\",'r')\n",
    "print(a.read())"
   ]
  },
  {
   "cell_type": "code",
   "execution_count": 45,
   "metadata": {},
   "outputs": [
    {
     "name": "stderr",
     "output_type": "stream",
     "text": [
      "<>:1: SyntaxWarning: invalid escape sequence '\\p'\n",
      "<>:1: SyntaxWarning: invalid escape sequence '\\p'\n",
      "C:\\Users\\i\\AppData\\Local\\Temp\\ipykernel_11580\\664255019.py:1: SyntaxWarning: invalid escape sequence '\\p'\n",
      "  aaa=open(\"F:\\python Ai.txt\",'a')\n"
     ]
    }
   ],
   "source": [
    "aaa=open(\"F:\\python Ai.txt\",'a')\n",
    "aaa.write(\"hello hii baby\")\n",
    "aaa.close()"
   ]
  },
  {
   "cell_type": "code",
   "execution_count": 46,
   "metadata": {},
   "outputs": [
    {
     "name": "stdout",
     "output_type": "stream",
     "text": [
      "\"r\" - Read - Default value. Opens a file for reading, error if the file does not exist\n",
      "\n",
      "\"a\" - Append - Opens a file for appending, creates the file if it does not exist\n",
      "\n",
      "\"w\" - Write - Opens a file for writing, creates the file if it does not exist\n",
      "\n",
      "\"x\" - Create - Creates the specified filehello hii babyhello hii babyhello hii babyhello hii baby\n"
     ]
    },
    {
     "name": "stderr",
     "output_type": "stream",
     "text": [
      "<>:1: SyntaxWarning: invalid escape sequence '\\p'\n",
      "<>:1: SyntaxWarning: invalid escape sequence '\\p'\n",
      "C:\\Users\\i\\AppData\\Local\\Temp\\ipykernel_11580\\2152096268.py:1: SyntaxWarning: invalid escape sequence '\\p'\n",
      "  aaa=open(\"F:\\python Ai.txt\",'r')\n"
     ]
    }
   ],
   "source": [
    "aaa=open(\"F:\\python Ai.txt\",'r')\n",
    "print(aaa.read())\n"
   ]
  },
  {
   "cell_type": "code",
   "execution_count": null,
   "metadata": {},
   "outputs": [],
   "source": []
  }
 ],
 "metadata": {
  "kernelspec": {
   "display_name": "Python 3",
   "language": "python",
   "name": "python3"
  },
  "language_info": {
   "codemirror_mode": {
    "name": "ipython",
    "version": 3
   },
   "file_extension": ".py",
   "mimetype": "text/x-python",
   "name": "python",
   "nbconvert_exporter": "python",
   "pygments_lexer": "ipython3",
   "version": "3.12.3"
  }
 },
 "nbformat": 4,
 "nbformat_minor": 2
}
