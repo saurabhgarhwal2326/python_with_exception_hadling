{
 "cells": [
  {
   "cell_type": "markdown",
   "metadata": {},
   "source": [
    "## File handling\n",
    "* File handling is an important part of any web application.\n",
    "Python has several functions for creating, reading, updating, and deleting files.\n",
    "* File Handling\n",
    "    The key function for working with files in Python is the open() function.\n",
    "\n",
    "    The open() function takes two parameters; filename, and mode.\n",
    "\n",
    "    There are four different methods (modes) for opening a file:\n",
    "* \"r\" - Read - Default value. Opens a file for reading, error if the file does not exist\n",
    "\n",
    "     \"a\" - Append - Opens a file for appending, creates the file if it does not exist\n",
    "\n",
    "    \"w\" - Write - Opens a file for writing, creates the file if it does not exist\n",
    "\n",
    "    \"x\" - Create - Creates the specified file, returns an error if the file exists"
   ]
  },
  {
   "cell_type": "code",
   "execution_count": 1,
   "metadata": {},
   "outputs": [
    {
     "name": "stdout",
     "output_type": "stream",
     "text": [
      "hii hello \n"
     ]
    }
   ],
   "source": [
    "df=open(\"hello.txt\",'r')  # hello.txt = file name    ,  \"r\" = read karne ka mode\n",
    "print(df.read())\n",
    "# print(\"r\")  \n",
    "\n",
    "# read functions are used to read the contant of the file"
   ]
  },
  {
   "cell_type": "code",
   "execution_count": 2,
   "metadata": {},
   "outputs": [
    {
     "name": "stdout",
     "output_type": "stream",
     "text": [
      "\"r\" - Read - Default value. Opens a file for reading, error if the file does not exist\n",
      "\n",
      "\"a\" - Append - Opens a file for appending, creates the file if it does not exist\n",
      "\n",
      "\"w\" - Write - Opens a file for writing, creates the file if it does not exist\n",
      "\n",
      "\"x\" - Create - Creates the specified filehello hii babyhello hii babyhello hii babyhello hii baby\n"
     ]
    },
    {
     "name": "stderr",
     "output_type": "stream",
     "text": [
      "<>:1: SyntaxWarning: invalid escape sequence '\\p'\n",
      "<>:1: SyntaxWarning: invalid escape sequence '\\p'\n",
      "C:\\Users\\i\\AppData\\Local\\Temp\\ipykernel_18552\\3725359402.py:1: SyntaxWarning: invalid escape sequence '\\p'\n",
      "  a=open(\"F:\\python Ai.txt\",\"r\")\n"
     ]
    }
   ],
   "source": [
    "a=open(\"F:\\python Ai.txt\",\"r\")\n",
    "print(a.read())\n"
   ]
  },
  {
   "cell_type": "code",
   "execution_count": 12,
   "metadata": {},
   "outputs": [
    {
     "name": "stdout",
     "output_type": "stream",
     "text": [
      "\"r\" - Read - Default value. Opens a file for reading, error if the file does not exist\n",
      "\n",
      "\"a\" - Append - Opens a file for appending, creates the file if it does not exist\n",
      "\n",
      "\"w\" - Write - Opens a file for writing, creates the file if it does not exist\n",
      "\n",
      "\"x\" - Create - Creates the specified file, returns an error ifÂ theÂ fileÂ exists\n"
     ]
    },
    {
     "name": "stderr",
     "output_type": "stream",
     "text": [
      "<>:1: SyntaxWarning: invalid escape sequence '\\p'\n",
      "<>:1: SyntaxWarning: invalid escape sequence '\\p'\n",
      "C:\\Users\\i\\AppData\\Local\\Temp\\ipykernel_11580\\552452823.py:1: SyntaxWarning: invalid escape sequence '\\p'\n",
      "  a=open(\"F:\\python Ai.txt\",\"r\")\n"
     ]
    }
   ],
   "source": [
    "a=open(\"F:\\python Ai.txt\",\"r\")\n",
    "print(a.read())"
   ]
  },
  {
   "cell_type": "code",
   "execution_count": 24,
   "metadata": {},
   "outputs": [
    {
     "name": "stdout",
     "output_type": "stream",
     "text": [
      "\"r\" - Read - Default value. Opens a file for reading, error if the file does not exist\n",
      "\n",
      "\n",
      "\n"
     ]
    },
    {
     "name": "stderr",
     "output_type": "stream",
     "text": [
      "<>:1: SyntaxWarning: invalid escape sequence '\\p'\n",
      "<>:1: SyntaxWarning: invalid escape sequence '\\p'\n",
      "C:\\Users\\i\\AppData\\Local\\Temp\\ipykernel_11580\\3793947567.py:1: SyntaxWarning: invalid escape sequence '\\p'\n",
      "  aa=open(\"F:\\python Ai.txt\",'r')\n"
     ]
    }
   ],
   "source": [
    "aa=open(\"F:\\python Ai.txt\",'r')\n",
    "print(aa.readline()) \n",
    "print(aa.readline())  # read line function are used to read the  first line of file      \n"
   ]
  },
  {
   "cell_type": "code",
   "execution_count": 25,
   "metadata": {},
   "outputs": [
    {
     "name": "stdout",
     "output_type": "stream",
     "text": [
      "\"r\" - Read - Default value. Opens a file for reading, error if the file does not exist\n",
      "\n",
      "\n",
      "\n",
      "\"a\" - Append - Opens a file for appending, creates the file if it does not exist\n",
      "\n",
      "\n",
      "\n",
      "\"w\" - Write - Opens a file for writing, creates the file if it does not exist\n",
      "\n",
      "\n",
      "\n",
      "\"x\" - Create - Creates the specified file, returns an error ifÂ theÂ fileÂ exists\n"
     ]
    },
    {
     "name": "stderr",
     "output_type": "stream",
     "text": [
      "<>:1: SyntaxWarning: invalid escape sequence '\\p'\n",
      "<>:1: SyntaxWarning: invalid escape sequence '\\p'\n",
      "C:\\Users\\i\\AppData\\Local\\Temp\\ipykernel_11580\\165497120.py:1: SyntaxWarning: invalid escape sequence '\\p'\n",
      "  aa=open(\"F:\\python Ai.txt\",'r')\n"
     ]
    }
   ],
   "source": [
    "aa=open(\"F:\\python Ai.txt\",'r')\n",
    "for x in aa:\n",
    "    print(x)"
   ]
  },
  {
   "cell_type": "code",
   "execution_count": 27,
   "metadata": {},
   "outputs": [
    {
     "name": "stdout",
     "output_type": "stream",
     "text": [
      "\"r\" - Read - Default value. Opens a file for reading, error if the file does not exist\n",
      "\n",
      "\"a\" - Append - Opens a file for appending, creates the file if it does not exist\n",
      "\n",
      "\"w\" - Write - Opens a file for writing, creates the file if it does not exist\n",
      "\n",
      "\"x\" - Create - Creates the specified file, returns an error ifÂ theÂ fileÂ exists\n"
     ]
    },
    {
     "name": "stderr",
     "output_type": "stream",
     "text": [
      "<>:1: SyntaxWarning: invalid escape sequence '\\p'\n",
      "<>:1: SyntaxWarning: invalid escape sequence '\\p'\n",
      "C:\\Users\\i\\AppData\\Local\\Temp\\ipykernel_11580\\229336926.py:1: SyntaxWarning: invalid escape sequence '\\p'\n",
      "  aa=open(\"F:\\python Ai.txt\",'r')\n"
     ]
    }
   ],
   "source": [
    "aa=open(\"F:\\python Ai.txt\",'r')\n",
    "print(aa.read())\n",
    "aa.close()  # close functions are used to close the file "
   ]
  },
  {
   "cell_type": "code",
   "execution_count": 37,
   "metadata": {},
   "outputs": [
    {
     "name": "stdout",
     "output_type": "stream",
     "text": [
      "\"r\" - Read - Default value. Opens a file for reading, error if the file does not exist\n",
      "\n",
      "\"a\" - Append - Opens a file for appending, creates the file if it does not exist\n",
      "\n",
      "\"w\" - Write - Opens a file for writing, creates the file if it does not exist\n",
      "\n",
      "\"x\" - Create - Creates the specified file, returns an error ifÂ theÂ fileÂ existsit is about the file handlingit is about the file handlingit is about the file handlingit is about the file handlingit is about the file handlingit is about the file handling\n"
     ]
    },
    {
     "name": "stderr",
     "output_type": "stream",
     "text": [
      "<>:1: SyntaxWarning: invalid escape sequence '\\p'\n",
      "<>:4: SyntaxWarning: invalid escape sequence '\\p'\n",
      "<>:1: SyntaxWarning: invalid escape sequence '\\p'\n",
      "<>:4: SyntaxWarning: invalid escape sequence '\\p'\n",
      "C:\\Users\\i\\AppData\\Local\\Temp\\ipykernel_11580\\3885332757.py:1: SyntaxWarning: invalid escape sequence '\\p'\n",
      "  aa=open(\"F:\\python Ai.txt\",'a')\n",
      "C:\\Users\\i\\AppData\\Local\\Temp\\ipykernel_11580\\3885332757.py:4: SyntaxWarning: invalid escape sequence '\\p'\n",
      "  aa=open(\"F:\\python Ai.txt\",'r')\n"
     ]
    }
   ],
   "source": [
    "aa=open(\"F:\\python Ai.txt\",'a')\n",
    "aa.write(\"it is about the file handling\")\n",
    "aa.close()\n",
    "aa=open(\"F:\\python Ai.txt\",'r')\n",
    "print(aa.read())\n",
    "\n"
   ]
  },
  {
   "cell_type": "code",
   "execution_count": 38,
   "metadata": {},
   "outputs": [],
   "source": [
    "# print(aa.read())"
   ]
  },
  {
   "cell_type": "code",
   "execution_count": 40,
   "metadata": {},
   "outputs": [
    {
     "name": "stdout",
     "output_type": "stream",
     "text": [
      "\"r\" - Read - Default value. Opens a file for reading, error if the file does not exist\n",
      "\n",
      "\"a\" - Append - Opens a file for appending, creates the file if it does not exist\n",
      "\n",
      "\"w\" - Write - Opens a file for writing, creates the file if it does not exist\n",
      "\n",
      "\"x\" - Create - Creates the specified file\n"
     ]
    },
    {
     "name": "stderr",
     "output_type": "stream",
     "text": [
      "<>:1: SyntaxWarning: invalid escape sequence '\\p'\n",
      "<>:1: SyntaxWarning: invalid escape sequence '\\p'\n",
      "C:\\Users\\i\\AppData\\Local\\Temp\\ipykernel_11580\\1042970717.py:1: SyntaxWarning: invalid escape sequence '\\p'\n",
      "  a=open(\"F:\\python Ai.txt\",'r')\n"
     ]
    }
   ],
   "source": [
    "a=open(\"F:\\python Ai.txt\",'r')\n",
    "print(a.read())"
   ]
  },
  {
   "cell_type": "code",
   "execution_count": 45,
   "metadata": {},
   "outputs": [
    {
     "name": "stderr",
     "output_type": "stream",
     "text": [
      "<>:1: SyntaxWarning: invalid escape sequence '\\p'\n",
      "<>:1: SyntaxWarning: invalid escape sequence '\\p'\n",
      "C:\\Users\\i\\AppData\\Local\\Temp\\ipykernel_11580\\664255019.py:1: SyntaxWarning: invalid escape sequence '\\p'\n",
      "  aaa=open(\"F:\\python Ai.txt\",'a')\n"
     ]
    }
   ],
   "source": [
    "aaa=open(\"F:\\python Ai.txt\",'a')\n",
    "aaa.write(\"hello hii baby\")\n",
    "aaa.close()"
   ]
  },
  {
   "cell_type": "code",
   "execution_count": 46,
   "metadata": {},
   "outputs": [
    {
     "name": "stdout",
     "output_type": "stream",
     "text": [
      "\"r\" - Read - Default value. Opens a file for reading, error if the file does not exist\n",
      "\n",
      "\"a\" - Append - Opens a file for appending, creates the file if it does not exist\n",
      "\n",
      "\"w\" - Write - Opens a file for writing, creates the file if it does not exist\n",
      "\n",
      "\"x\" - Create - Creates the specified filehello hii babyhello hii babyhello hii babyhello hii baby\n"
     ]
    },
    {
     "name": "stderr",
     "output_type": "stream",
     "text": [
      "<>:1: SyntaxWarning: invalid escape sequence '\\p'\n",
      "<>:1: SyntaxWarning: invalid escape sequence '\\p'\n",
      "C:\\Users\\i\\AppData\\Local\\Temp\\ipykernel_11580\\2152096268.py:1: SyntaxWarning: invalid escape sequence '\\p'\n",
      "  aaa=open(\"F:\\python Ai.txt\",'r')\n"
     ]
    }
   ],
   "source": [
    "aaa=open(\"F:\\python Ai.txt\",'r')\n",
    "print(aaa.read())\n"
   ]
  },
  {
   "cell_type": "markdown",
   "metadata": {},
   "source": [
    "## r Mode \n",
    "r mode is used to read the file "
   ]
  },
  {
   "cell_type": "code",
   "execution_count": 2,
   "metadata": {},
   "outputs": [
    {
     "name": "stdout",
     "output_type": "stream",
     "text": [
      " \n",
      "\n",
      "hello i am saurabh garhwal \n",
      "\n"
     ]
    }
   ],
   "source": [
    "rr=open(\"hello.txt\",\"r\")\n",
    "print(rr.read())\n"
   ]
  },
  {
   "cell_type": "markdown",
   "metadata": {},
   "source": [
    "### a Mode \n",
    "a mode is used to append the file \n",
    "* if the file is present then that is read  the file if the file is nnot present than that is create the file  "
   ]
  },
  {
   "cell_type": "code",
   "execution_count": 27,
   "metadata": {},
   "outputs": [],
   "source": [
    "aa=open(\"hel.txt\",\"a\")\n",
    "aa.write(\"i am from sobhasariya college\")\n",
    "aa.close()\n",
    "\n"
   ]
  },
  {
   "cell_type": "code",
   "execution_count": 28,
   "metadata": {},
   "outputs": [
    {
     "name": "stdout",
     "output_type": "stream",
     "text": [
      "i am from sobhasariya collegei am from sobhasariya collegei am from sobhasariya collegei am from sobhasariya college\n"
     ]
    }
   ],
   "source": [
    "aa=open(\"hel.txt\",\"r\")\n",
    "print(aa.read())\n",
    "aa.close()"
   ]
  },
  {
   "cell_type": "markdown",
   "metadata": {},
   "source": [
    "### w Mode \n",
    "* if the file is not present than the write mode is create the file and write any contant but that  is not aappend "
   ]
  },
  {
   "cell_type": "code",
   "execution_count": 3,
   "metadata": {},
   "outputs": [],
   "source": [
    "# write mode \n",
    "wmode=open(\"go.txt\",\"w\")\n",
    "wmode.write(\"hello i am saurabh from sikar\")\n",
    "wmode.close()\n"
   ]
  },
  {
   "cell_type": "code",
   "execution_count": 4,
   "metadata": {},
   "outputs": [
    {
     "name": "stdout",
     "output_type": "stream",
     "text": [
      "hello i am saurabh from sikar\n"
     ]
    }
   ],
   "source": [
    "rmode=open(\"go.txt\",'r')\n",
    "print(rmode.read())"
   ]
  },
  {
   "cell_type": "code",
   "execution_count": 30,
   "metadata": {},
   "outputs": [
    {
     "data": {
      "text/plain": [
       "'hello i am saurabh from sikar'"
      ]
     },
     "execution_count": 30,
     "metadata": {},
     "output_type": "execute_result"
    }
   ],
   "source": [
    "open(\"go.txt\",\"r\").read()\n"
   ]
  },
  {
   "cell_type": "markdown",
   "metadata": {},
   "source": [
    "### x Mode\n",
    "* x mode aapn tab use karte h aagar aapne pass file nahi h to create kar de ga \n",
    "* of aagar file h to arror show kar de ga "
   ]
  },
  {
   "cell_type": "code",
   "execution_count": 7,
   "metadata": {},
   "outputs": [],
   "source": [
    "xmode=open(\"go2.txt\",\"x\")\n",
    "xmode.write(\"hi  hello i am saurabh \")\n",
    "xmode.close()\n"
   ]
  },
  {
   "cell_type": "code",
   "execution_count": 3,
   "metadata": {},
   "outputs": [
    {
     "ename": "FileNotFoundError",
     "evalue": "[Errno 2] No such file or directory: 'xmo.txt'",
     "output_type": "error",
     "traceback": [
      "\u001b[1;31m---------------------------------------------------------------------------\u001b[0m",
      "\u001b[1;31mFileNotFoundError\u001b[0m                         Traceback (most recent call last)",
      "Cell \u001b[1;32mIn[3], line 1\u001b[0m\n\u001b[1;32m----> 1\u001b[0m \u001b[38;5;28;43mopen\u001b[39;49m\u001b[43m(\u001b[49m\u001b[38;5;124;43m\"\u001b[39;49m\u001b[38;5;124;43mxmo.txt\u001b[39;49m\u001b[38;5;124;43m\"\u001b[39;49m\u001b[43m)\u001b[49m\u001b[38;5;241m.\u001b[39mread()\n",
      "File \u001b[1;32m~\\AppData\\Roaming\\Python\\Python312\\site-packages\\IPython\\core\\interactiveshell.py:324\u001b[0m, in \u001b[0;36m_modified_open\u001b[1;34m(file, *args, **kwargs)\u001b[0m\n\u001b[0;32m    317\u001b[0m \u001b[38;5;28;01mif\u001b[39;00m file \u001b[38;5;129;01min\u001b[39;00m {\u001b[38;5;241m0\u001b[39m, \u001b[38;5;241m1\u001b[39m, \u001b[38;5;241m2\u001b[39m}:\n\u001b[0;32m    318\u001b[0m     \u001b[38;5;28;01mraise\u001b[39;00m \u001b[38;5;167;01mValueError\u001b[39;00m(\n\u001b[0;32m    319\u001b[0m         \u001b[38;5;124mf\u001b[39m\u001b[38;5;124m\"\u001b[39m\u001b[38;5;124mIPython won\u001b[39m\u001b[38;5;124m'\u001b[39m\u001b[38;5;124mt let you open fd=\u001b[39m\u001b[38;5;132;01m{\u001b[39;00mfile\u001b[38;5;132;01m}\u001b[39;00m\u001b[38;5;124m by default \u001b[39m\u001b[38;5;124m\"\u001b[39m\n\u001b[0;32m    320\u001b[0m         \u001b[38;5;124m\"\u001b[39m\u001b[38;5;124mas it is likely to crash IPython. If you know what you are doing, \u001b[39m\u001b[38;5;124m\"\u001b[39m\n\u001b[0;32m    321\u001b[0m         \u001b[38;5;124m\"\u001b[39m\u001b[38;5;124myou can use builtins\u001b[39m\u001b[38;5;124m'\u001b[39m\u001b[38;5;124m open.\u001b[39m\u001b[38;5;124m\"\u001b[39m\n\u001b[0;32m    322\u001b[0m     )\n\u001b[1;32m--> 324\u001b[0m \u001b[38;5;28;01mreturn\u001b[39;00m \u001b[43mio_open\u001b[49m\u001b[43m(\u001b[49m\u001b[43mfile\u001b[49m\u001b[43m,\u001b[49m\u001b[43m \u001b[49m\u001b[38;5;241;43m*\u001b[39;49m\u001b[43margs\u001b[49m\u001b[43m,\u001b[49m\u001b[43m \u001b[49m\u001b[38;5;241;43m*\u001b[39;49m\u001b[38;5;241;43m*\u001b[39;49m\u001b[43mkwargs\u001b[49m\u001b[43m)\u001b[49m\n",
      "\u001b[1;31mFileNotFoundError\u001b[0m: [Errno 2] No such file or directory: 'xmo.txt'"
     ]
    }
   ],
   "source": [
    "open(\"xmo.txt\").read()"
   ]
  },
  {
   "cell_type": "code",
   "execution_count": null,
   "metadata": {},
   "outputs": [],
   "source": []
  },
  {
   "cell_type": "code",
   "execution_count": null,
   "metadata": {},
   "outputs": [],
   "source": []
  }
 ],
 "metadata": {
  "kernelspec": {
   "display_name": "Python 3",
   "language": "python",
   "name": "python3"
  },
  "language_info": {
   "codemirror_mode": {
    "name": "ipython",
    "version": 3
   },
   "file_extension": ".py",
   "mimetype": "text/x-python",
   "name": "python",
   "nbconvert_exporter": "python",
   "pygments_lexer": "ipython3",
   "version": "3.12.3"
  }
 },
 "nbformat": 4,
 "nbformat_minor": 2
}
