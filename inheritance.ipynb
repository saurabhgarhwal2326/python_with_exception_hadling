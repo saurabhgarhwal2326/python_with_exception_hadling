{
 "cells": [
  {
   "cell_type": "markdown",
   "metadata": {},
   "source": [
    "# INHERITANCE"
   ]
  },
  {
   "cell_type": "markdown",
   "metadata": {},
   "source": [
    "### Python Inheritance\n",
    "Inheritance allows us to define a class that inherits all the methods and properties from another class.\n",
    "\n",
    "Parent class is the class being inherited from, also called base class.\n",
    "\n",
    "Child class is the class that inherits from another class, also called derived class."
   ]
  },
  {
   "cell_type": "code",
   "execution_count": 2,
   "metadata": {},
   "outputs": [
    {
     "name": "stdout",
     "output_type": "stream",
     "text": [
      "45\n",
      "saurabh\n"
     ]
    },
    {
     "data": {
      "text/plain": [
       "'kishanlal'"
      ]
     },
     "execution_count": 2,
     "metadata": {},
     "output_type": "execute_result"
    }
   ],
   "source": [
    "class father :\n",
    "    fahers_name=\"kishanlal\"\n",
    "    father_age= 45\n",
    "    fathers_poperty=\"1cr\"\n",
    "    print(father_age)\n",
    "\n",
    "\n",
    "class child(father):\n",
    "    child_name=\"saurabh\"\n",
    "    child_age=22\n",
    "\n",
    "obj=child()    \n",
    "print(obj.child_name)\n",
    "obj.fahers_name"
   ]
  },
  {
   "cell_type": "markdown",
   "metadata": {},
   "source": [
    " ## single Inheritance"
   ]
  },
  {
   "cell_type": "code",
   "execution_count": 28,
   "metadata": {},
   "outputs": [],
   "source": [
    "class college:\n",
    "    def teachers():\n",
    "        teacher_name=\"ankur\"\n",
    "        teacher_salery=50000\n",
    "# obj=teacher(college)\n",
    "# obj.teacher_name\n",
    "\n",
    "    \n",
    "    \n",
    "\n"
   ]
  },
  {
   "cell_type": "code",
   "execution_count": 4,
   "metadata": {},
   "outputs": [
    {
     "name": "stdout",
     "output_type": "stream",
     "text": [
      "22\n",
      "kishan lal\n"
     ]
    }
   ],
   "source": [
    "class father:\n",
    "    father_name=\"kishan lal\"\n",
    "    father_age=\"45\"\n",
    "class child(father):\n",
    "    child_name=\"saurabh\"\n",
    "    child_age=\"22\"\n",
    "obj=child()\n",
    "print(obj.child_age)\n",
    "print(obj.father_name)\n"
   ]
  },
  {
   "cell_type": "code",
   "execution_count": 22,
   "metadata": {},
   "outputs": [
    {
     "name": "stdout",
     "output_type": "stream",
     "text": [
      "sobhasariya\n",
      "332001\n",
      "saurabh\n"
     ]
    }
   ],
   "source": [
    "class college:                         # colllege is class name \n",
    "    college_name=\"sobhasariya\"                  #   class varriable\n",
    "    pin_code=332001                \n",
    "    \n",
    "class student(college):            # college class access in student \n",
    "    student_name=\"saurabh\"\n",
    "    student_roll_no=804\n",
    "    student_fee=80,000\n",
    "\n",
    "# obj=college()\n",
    "obj=student()\n",
    "print(obj.college_name)\n",
    "print(obj.pin_code)\n",
    "print(obj.student_name)"
   ]
  },
  {
   "cell_type": "code",
   "execution_count": 27,
   "metadata": {},
   "outputs": [
    {
     "name": "stdout",
     "output_type": "stream",
     "text": [
      "Jagdish ji gadhwal\n",
      "kishan lal \n"
     ]
    }
   ],
   "source": [
    "class Grand_father:            # frand father is a class name \n",
    "    grand_father_name =\"Jagdish ji gadhwal\"      #  class varriable\n",
    "    grand_father_age=65\n",
    "    grand_mother_name=\"rameshwari_devi\"\n",
    "    grand_mother_age=60\n",
    "\n",
    "class Father(Grand_father):                # father is second class \n",
    "    father_name=\"kishan lal \"\n",
    "    father_age=45\n",
    "    mather_name=\"santosh devi\"\n",
    "    mother_age=40\n",
    "\n",
    "class child (Father):\n",
    "    child_name=\"saurabh\"    \n",
    "    child_age=23\n",
    "    \n",
    "\n",
    "obj=child ()\n",
    "print(obj.grand_father_name)\n",
    "print(obj.father_name)\n",
    "\n"
   ]
  },
  {
   "cell_type": "code",
   "execution_count": 32,
   "metadata": {},
   "outputs": [
    {
     "name": "stdout",
     "output_type": "stream",
     "text": [
      "cow\n",
      "20\n",
      "jarman\n",
      "5\n"
     ]
    }
   ],
   "source": [
    "###7. Write a Python program to demonstrate single inheritance by creating a base class Animal and \n",
    "# a derived class Dog. Implement methods to show polymorphism.\n",
    "\n",
    "\n",
    "class animal:\n",
    "    animals_name=\"cow\"\n",
    "    animal_age=20\n",
    "class dog(animal):\n",
    "    dog_name=\"jarman\"    \n",
    "    dog_age=5\n",
    "\n",
    "obj=dog()\n",
    "print(obj.animals_name)\n",
    "print(obj.animal_age)\n",
    "print(obj.dog_name)\n",
    "print(obj.dog_age)\n"
   ]
  },
  {
   "cell_type": "code",
   "execution_count": 43,
   "metadata": {},
   "outputs": [],
   "source": [
    "class GF:\n",
    "    def gff (self):\n",
    "    \n",
    "        self.grand_father_name =\"Jagdish ji gadhwal\"      #  class varriable\n",
    "        self.grand_father_age=65\n",
    "        self.grand_mother_name=\"rameshwari_devi\"\n",
    "        self.grand_mother_age=60\n",
    "        \n",
    "\n",
    "class FN(GF):\n",
    "    def fnn(self):\n",
    "       \n",
    "        self.father_name=\"kishan lal\"\n",
    "        self.father_age=45\n",
    "        self.mather_name=\"santosh devi\"\n",
    "        self.mother_age=40\n",
    "\n",
    "class CN(FN):\n",
    "    def cnn(self):\n",
    "        \n",
    "        self.child_name=\"saurabh\"    \n",
    "        self.child_age=23\n",
    "\n",
    "\n",
    "obj=CN()\n",
    "# obj.cnn()\n",
    "# print(obj.father_name)\n",
    "# print(obj.grand_mother_name)\n",
    "obj.gff()\n",
    "# print(obj.father_name)"
   ]
  },
  {
   "cell_type": "code",
   "execution_count": 45,
   "metadata": {},
   "outputs": [
    {
     "name": "stdout",
     "output_type": "stream",
     "text": [
      "sobhasariya\n",
      "sikar\n"
     ]
    }
   ],
   "source": [
    "class college:\n",
    "\n",
    "    college_name=\"sobhasariya\"\n",
    "    college_pincode=332001\n",
    "    college_adress=\"sikar\"\n",
    "    def clg(self):\n",
    "        print(self.college_name)\n",
    "        print(self.college_adress)\n",
    "obj=college()\n",
    "obj.clg()\n",
    "\n"
   ]
  },
  {
   "cell_type": "code",
   "execution_count": 8,
   "metadata": {},
   "outputs": [
    {
     "name": "stdout",
     "output_type": "stream",
     "text": [
      "saurabh\n",
      "data science\n",
      "kiran\n",
      "management\n"
     ]
    }
   ],
   "source": [
    "class village:\n",
    "    my_name=\"saurabh\"\n",
    "    my_village=\"khoor\"\n",
    "    my_district=\"sikar\"\n",
    "    my_education=\"data science\"\n",
    "class Your_village(village):\n",
    "    you_name=\"kiran\"\n",
    "    you_vllage=\"deedwana\"\n",
    "    you_district=\"nagor\"\n",
    "    you_education=\"management\"\n",
    "\n",
    "obj=Your_village()\n",
    "print(obj.my_name)\n",
    "print(obj.my_education)\n",
    "print(obj.you_name)\n",
    "print(obj.you_education)"
   ]
  },
  {
   "cell_type": "markdown",
   "metadata": {},
   "source": [
    "## * constructor\n",
    "\n",
    "The _init_() Function\n",
    "The examples above are classes and objects in their simplest form, and are not really useful in real life applications.\n",
    "\n",
    "To understand the meaning of classes we have to understand the built-in _init_() function.\n",
    "\n",
    "All classes have a function called _init_(), which is always executed when the class is being initiated.\n",
    "\n",
    "Use the _init_() function to assign values to object properties, or other operations that are necessary to do when the object is being created:"
   ]
  },
  {
   "cell_type": "code",
   "execution_count": 11,
   "metadata": {},
   "outputs": [
    {
     "name": "stdout",
     "output_type": "stream",
     "text": [
      "saurabh\n",
      "data science\n"
     ]
    }
   ],
   "source": [
    "class College:\n",
    "    def __init__(self,name,subject):    #  parameters  \n",
    "        self.name=name\n",
    "        self.subject=subject     # instance varriable\n",
    "\n",
    "    def output(self):\n",
    "        print(self.name)\n",
    "        print(self.subject)\n",
    "\n",
    "\n",
    "\n",
    "\n",
    "\n",
    "obj=College(name=\"saurabh\",subject=\"data science\")\n",
    "obj.output()\n",
    "\n",
    "\n"
   ]
  },
  {
   "cell_type": "code",
   "execution_count": 15,
   "metadata": {},
   "outputs": [
    {
     "name": "stdout",
     "output_type": "stream",
     "text": [
      "2\n",
      "4\n",
      "6\n",
      "8\n",
      "10\n",
      "12\n",
      "14\n",
      "16\n",
      "18\n",
      "20\n"
     ]
    }
   ],
   "source": [
    "class Even_odd:\n",
    "    def __init__(self,a):\n",
    "        self.a=a \n",
    "    def table(self):\n",
    "        a=0    \n",
    "        for x in range (2,22,2):\n",
    "            print(x)\n",
    "obj=Even_odd(a=2)\n",
    "obj.table()\n"
   ]
  },
  {
   "cell_type": "code",
   "execution_count": 3,
   "metadata": {},
   "outputs": [
    {
     "name": "stdout",
     "output_type": "stream",
     "text": [
      "sobhasariya\n",
      "332001\n",
      "sikar\n",
      "sobhasariya\n",
      "sikar\n",
      "332001\n",
      "sobhasariya\n",
      "sikar\n",
      "332001\n",
      "sobhasariya\n",
      "sikar\n",
      "332001\n"
     ]
    }
   ],
   "source": [
    "class college:\n",
    "    def __init__ (self,college_name,college_pincode,college_adress):\n",
    "        self.college_name=college_name\n",
    "        self.college_pincode=college_pincode\n",
    "        self.college_adress=college_adress            \n",
    "\n",
    "    def student(self):\n",
    "        print(self.college_name)\n",
    "        print(self.college_pincode)\n",
    "        print(self.college_adress)\n",
    "\n",
    "    def teachers(self):\n",
    "        print(self.college_name)\n",
    "        print(self.college_adress)\n",
    "        print(self.college_pincode)\n",
    "\n",
    "    def staff(self)  :\n",
    "        print(self.college_name)\n",
    "        print(self.college_adress)\n",
    "        print(self.college_pincode)\n",
    "\n",
    "\n",
    "    def other_facaulty(self):\n",
    "        print(self.college_name)\n",
    "        print(self.college_adress)\n",
    "        print(self.college_pincode)\n",
    "       \n",
    "obj=college(college_adress=\"sikar\",college_pincode=332001,college_name=\"sobhasariya\")\n",
    "obj.student()\n",
    "obj.teachers()\n",
    "obj.staff()\n",
    "obj.other_facaulty()\n",
    "\n"
   ]
  }
 ],
 "metadata": {
  "kernelspec": {
   "display_name": "Python 3",
   "language": "python",
   "name": "python3"
  },
  "language_info": {
   "codemirror_mode": {
    "name": "ipython",
    "version": 3
   },
   "file_extension": ".py",
   "mimetype": "text/x-python",
   "name": "python",
   "nbconvert_exporter": "python",
   "pygments_lexer": "ipython3",
   "version": "3.12.3"
  }
 },
 "nbformat": 4,
 "nbformat_minor": 2
}
