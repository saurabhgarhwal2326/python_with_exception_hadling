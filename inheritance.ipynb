{
 "cells": [
  {
   "cell_type": "markdown",
   "metadata": {},
   "source": [
    "# INHERITANCE"
   ]
  },
  {
   "cell_type": "markdown",
   "metadata": {},
   "source": [
    "### Python Inheritance\n",
    "Inheritance allows us to define a class that inherits all the methods and properties from another class.\n",
    "\n",
    "Parent class is the class being inherited from, also called base class.\n",
    "\n",
    "Child class is the class that inherits from another class, also called derived class."
   ]
  },
  {
   "cell_type": "code",
   "execution_count": 2,
   "metadata": {},
   "outputs": [
    {
     "name": "stdout",
     "output_type": "stream",
     "text": [
      "45\n",
      "saurabh\n"
     ]
    },
    {
     "data": {
      "text/plain": [
       "'kishanlal'"
      ]
     },
     "execution_count": 2,
     "metadata": {},
     "output_type": "execute_result"
    }
   ],
   "source": [
    "class father :\n",
    "    fahers_name=\"kishanlal\"\n",
    "    father_age= 45\n",
    "    fathers_poperty=\"1cr\"\n",
    "    print(father_age)\n",
    "\n",
    "\n",
    "class child(father):\n",
    "    child_name=\"saurabh\"\n",
    "    child_age=22\n",
    "\n",
    "obj=child()    \n",
    "print(obj.child_name)\n",
    "obj.fahers_name"
   ]
  },
  {
   "cell_type": "markdown",
   "metadata": {},
   "source": [
    " ## single Inheritance"
   ]
  },
  {
   "cell_type": "code",
   "execution_count": null,
   "metadata": {},
   "outputs": [],
   "source": [
    "class college:\n",
    "    def teachers(self):\n",
    "        self.teacher_name=\"ankur\"\n",
    "        self.teacher_salery=50000\n",
    "class student(college):\n",
    "    obj=        \n"
   ]
  }
 ],
 "metadata": {
  "kernelspec": {
   "display_name": "Python 3",
   "language": "python",
   "name": "python3"
  },
  "language_info": {
   "codemirror_mode": {
    "name": "ipython",
    "version": 3
   },
   "file_extension": ".py",
   "mimetype": "text/x-python",
   "name": "python",
   "nbconvert_exporter": "python",
   "pygments_lexer": "ipython3",
   "version": "3.12.3"
  }
 },
 "nbformat": 4,
 "nbformat_minor": 2
}
