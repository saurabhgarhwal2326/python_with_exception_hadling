{
 "cells": [
  {
   "cell_type": "markdown",
   "metadata": {},
   "source": [
    "### PYTHON ERROR HANDLING \n",
    "When an error occurs, or exception as we call it, Python will normally stop and generate an error message.\n",
    "The try block lets you test a block of code for errors.\n",
    "\n",
    "The except block lets you handle the error.\n",
    "\n",
    "The finally block lets you execute code, regardless of the result of the try- and except blocks\n",
    "\n",
    "\n",
    "     Exception Handling\n",
    "When an error occurs, or exception as we call it, Python will normally stop and generate an error message.\n",
    "These exceptions can be handled using the try statement:\n"
   ]
  },
  {
   "cell_type": "code",
   "execution_count": 1,
   "metadata": {},
   "outputs": [],
   "source": [
    "# try:\n",
    "#     code \n",
    "# except:\n",
    "#     pass\n",
    "# else:\n",
    "#     code \n",
    "#     pass\n",
    "# finally:\n",
    "#     pass"
   ]
  },
  {
   "cell_type": "code",
   "execution_count": 2,
   "metadata": {},
   "outputs": [
    {
     "name": "stdout",
     "output_type": "stream",
     "text": [
      "x is not define\n"
     ]
    }
   ],
   "source": [
    "try:\n",
    "    print(x)\n",
    "except:\n",
    "    print(\"x is not define\")"
   ]
  },
  {
   "cell_type": "code",
   "execution_count": 3,
   "metadata": {},
   "outputs": [
    {
     "name": "stdout",
     "output_type": "stream",
     "text": [
      "hello\n",
      "hii baby \n"
     ]
    }
   ],
   "source": [
    "try:\n",
    "    print(\"hello\")\n",
    "except:\n",
    "    print(\"error hai aapke code me \")\n",
    "else:\n",
    "    print(\"hii baby \")"
   ]
  },
  {
   "cell_type": "code",
   "execution_count": 4,
   "metadata": {},
   "outputs": [
    {
     "name": "stdout",
     "output_type": "stream",
     "text": [
      "hello\n",
      "hii baby \n",
      "jaipur\n"
     ]
    }
   ],
   "source": [
    "try:\n",
    "    print(\"hello\")\n",
    "except:\n",
    "    print(\"error hai aapke code me \")\n",
    "else:\n",
    "    print(\"hii baby \")\n",
    "finally:\n",
    "    print(\"jaipur\")"
   ]
  },
  {
   "cell_type": "code",
   "execution_count": 6,
   "metadata": {},
   "outputs": [
    {
     "name": "stdout",
     "output_type": "stream",
     "text": [
      "error hai aapke code me \n",
      "jaipur\n"
     ]
    }
   ],
   "source": [
    "try:\n",
    "    print(x)\n",
    "except:\n",
    "    print(\"error hai aapke code me \")\n",
    "else:\n",
    "    print(\"hii baby \")\n",
    "finally:\n",
    "    print(\"jaipur\")"
   ]
  },
  {
   "cell_type": "code",
   "execution_count": 13,
   "metadata": {},
   "outputs": [
    {
     "name": "stdout",
     "output_type": "stream",
     "text": [
      "HELLO WELCOME😍\n",
      "plese insert your card\n",
      "Ohh! 🤔\n",
      "Do not insert varchar \n",
      "Plz insert this type eg.2356,6789\n",
      "Thanks for visiting🤩 \n"
     ]
    }
   ],
   "source": [
    "try:\n",
    "    print(\"HELLO WELCOME😍\")\n",
    "    print(\"plese insert your card\")\n",
    "    a=int(input(\"Plz enter your pin \"))\n",
    "    # print(a)\n",
    "    \n",
    "except:\n",
    "    print(\"Ohh! 🤔\")\n",
    "    print(\"Do not insert varchar \")\n",
    "    print(\"Plz insert this type eg.2356,6789\")\n",
    "else:\n",
    "    print(\"Check the balance \")\n",
    "    print(\"Withdrawll\")\n",
    "    \n",
    "\n",
    "finally:\n",
    "    print(\"Thanks for visiting🤩 \")\n"
   ]
  },
  {
   "cell_type": "code",
   "execution_count": 20,
   "metadata": {},
   "outputs": [
    {
     "name": "stdout",
     "output_type": "stream",
     "text": [
      "0.0\n",
      "thanks \n"
     ]
    }
   ],
   "source": [
    "def value ():\n",
    "    try:\n",
    "        a=int(input(\"Enter the first number\"))\n",
    "        b=int (input(\"Enter the second number\"))\n",
    "        c=(a/b)\n",
    "        print(c)\n",
    "    except Exception as e:\n",
    "        print(e)\n",
    "       \n",
    "    # except ZeroDivisionError:\n",
    "    #     print(\"Do not insert 0 \")\n",
    "        \n",
    "    # except ValueError:\n",
    "    #     print(\"do not insert varchar\")\n",
    "\n",
    "    finally:\n",
    "        print(\"thanks \")\n",
    "value()"
   ]
  },
  {
   "cell_type": "code",
   "execution_count": null,
   "metadata": {},
   "outputs": [],
   "source": []
  }
 ],
 "metadata": {
  "kernelspec": {
   "display_name": "Python 3",
   "language": "python",
   "name": "python3"
  },
  "language_info": {
   "codemirror_mode": {
    "name": "ipython",
    "version": 3
   },
   "file_extension": ".py",
   "mimetype": "text/x-python",
   "name": "python",
   "nbconvert_exporter": "python",
   "pygments_lexer": "ipython3",
   "version": "3.12.3"
  }
 },
 "nbformat": 4,
 "nbformat_minor": 2
}
