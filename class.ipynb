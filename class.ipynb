{
 "cells": [
  {
   "cell_type": "markdown",
   "metadata": {},
   "source": [
    "## Python Classes/Objects\n",
    "* Python is an object oriented programming language.\n",
    "\n",
    "* Almost everything in Python is an object, with its properties and methods.\n",
    "\n",
    " * A Class is like an object constructor, or a \"blueprint\" for creating objects."
   ]
  },
  {
   "cell_type": "code",
   "execution_count": 1,
   "metadata": {},
   "outputs": [],
   "source": [
    "class Student: # student is a class classs is a keyword \n",
    "    pass  # pass is a key word \n",
    "# how to create object of the class\n",
    "obj=Student()# create a object. obj is a object of the student class"
   ]
  },
  {
   "cell_type": "code",
   "execution_count": 2,
   "metadata": {},
   "outputs": [],
   "source": [
    "# create a class you the keyword class\n",
    "class my_class:\n",
    "    x=6\n",
    "    y=8\n",
    "    "
   ]
  },
  {
   "cell_type": "code",
   "execution_count": 3,
   "metadata": {},
   "outputs": [],
   "source": [
    "# how to create a class object\n"
   ]
  },
  {
   "cell_type": "code",
   "execution_count": 4,
   "metadata": {},
   "outputs": [],
   "source": [
    "class my_class:\n",
    "    x=7\n",
    "    y=9\n",
    "obj=my_class()    # obj each class object\n"
   ]
  },
  {
   "cell_type": "code",
   "execution_count": 5,
   "metadata": {},
   "outputs": [
    {
     "name": "stdout",
     "output_type": "stream",
     "text": [
      "7\n"
     ]
    }
   ],
   "source": [
    "print(obj.x)"
   ]
  },
  {
   "cell_type": "code",
   "execution_count": 6,
   "metadata": {},
   "outputs": [
    {
     "name": "stdout",
     "output_type": "stream",
     "text": [
      "odd\n"
     ]
    }
   ],
   "source": [
    "class my_class:\n",
    "    def even(b):\n",
    "        if b%2==0:\n",
    "            print(\"evan\")\n",
    "        else:\n",
    "            print(\"odd\")\n",
    "\n",
    "\n",
    "\n",
    "\n",
    "    a=int(input(\"check the number\"))\n",
    "        \n",
    "    even(b=a)\n",
    "\n",
    "  \n",
    "obj=my_class()    \n"
   ]
  },
  {
   "cell_type": "code",
   "execution_count": 7,
   "metadata": {},
   "outputs": [
    {
     "name": "stdout",
     "output_type": "stream",
     "text": [
      "2\n",
      "4\n",
      "6\n",
      "8\n",
      "10\n",
      "12\n",
      "14\n",
      "16\n",
      "18\n",
      "20\n"
     ]
    },
    {
     "data": {
      "text/plain": [
       "<__main__.my_class at 0x2084cecbb60>"
      ]
     },
     "execution_count": 7,
     "metadata": {},
     "output_type": "execute_result"
    }
   ],
   "source": [
    "class my_class():\n",
    "\n",
    "\n",
    "    def table():\n",
    "\n",
    "\n",
    "        for x in range (1,11):\n",
    "            x*=2\n",
    "            print(x)\n",
    "    table()\n",
    "my_class()"
   ]
  },
  {
   "cell_type": "code",
   "execution_count": 8,
   "metadata": {},
   "outputs": [
    {
     "data": {
      "text/plain": [
       "'by gress'"
      ]
     },
     "execution_count": 8,
     "metadata": {},
     "output_type": "execute_result"
    }
   ],
   "source": [
    "# class Grading_system:\n",
    "def grade(grading_system):\n",
    "        if 90<=grading_system<=100:\n",
    "            return(\"A\")\n",
    "        elif 80 <=grading_system <=89:\n",
    "            return(\"B\")\n",
    "        elif 70 <=grading_system<=79:\n",
    "            return(\"C\")\n",
    "        elif 60 <=grading_system<=69:\n",
    "            return(\"D\")\n",
    "        elif 50 <=grading_system<=59:\n",
    "            return(\"E\")\n",
    "        elif 33 <=grading_system<=49:\n",
    "            return(\"by gress\")\n",
    "        else:\n",
    "            return (\"fail\")\n",
    "grade(grading_system=45)\n",
    "# obj1=Grading_system()\n",
    "# obj1.grade()\n"
   ]
  },
  {
   "cell_type": "code",
   "execution_count": 9,
   "metadata": {},
   "outputs": [
    {
     "name": "stdout",
     "output_type": "stream",
     "text": [
      "hello hii kese ho \n"
     ]
    }
   ],
   "source": [
    "print(\"hello hii kese ho \")"
   ]
  },
  {
   "cell_type": "code",
   "execution_count": 10,
   "metadata": {},
   "outputs": [
    {
     "name": "stdout",
     "output_type": "stream",
     "text": [
      "2\n",
      "4\n",
      "6\n",
      "8\n",
      "10\n",
      "12\n",
      "14\n",
      "16\n",
      "18\n",
      "20\n"
     ]
    }
   ],
   "source": [
    "class table:\n",
    "    def two_tables():\n",
    "        for x in range(2,22,2): # starting point  2 h , 22 h ending point ,or jo 2 h vo h last ke gape \n",
    "            # a+=0\n",
    "            # x%2!=0\n",
    "            print(x)\n",
    "\n",
    "\n",
    "\n",
    "\n",
    "\n",
    "\n",
    "\n",
    "    two_tables()\n",
    "obj=table()\n"
   ]
  },
  {
   "cell_type": "code",
   "execution_count": 11,
   "metadata": {},
   "outputs": [],
   "source": [
    "class Even_odd:\n",
    "    def even():\n",
    "        a=int(input(\"enter the number\"))\n",
    "        while a<10:\n",
    "            a+=1\n",
    "            if a%2==0:\n",
    "                print(\"this is even number\",a)\n",
    "                continue\n",
    "            else:\n",
    "                print('this is odd number',a)\n",
    "    even()\n",
    "obj=Even_odd()"
   ]
  },
  {
   "cell_type": "code",
   "execution_count": 12,
   "metadata": {},
   "outputs": [],
   "source": [
    "class Student:\n",
    "    x  = 4\n",
    "    y =5 \n",
    "p=Student()\n"
   ]
  },
  {
   "cell_type": "code",
   "execution_count": 25,
   "metadata": {},
   "outputs": [],
   "source": [
    "class Student:\n",
    "    x  = 4\n",
    "    y =5 \n",
    "\n",
    "    def hello():\n",
    "        print(\"hello hii kese ho \")\n",
    "    # hello()\n",
    "p=Student()\n",
    "\n",
    "# p.hello()\n"
   ]
  },
  {
   "cell_type": "code",
   "execution_count": 28,
   "metadata": {},
   "outputs": [
    {
     "name": "stdout",
     "output_type": "stream",
     "text": [
      "sourbh Data science\n",
      "sourbh\n",
      "Data science\n"
     ]
    }
   ],
   "source": [
    "class Student:\n",
    "    x= 90 \n",
    "    y = 10 \n",
    "    def __init__(self,name, subject):\n",
    "        self.name = name \n",
    "        self.subject = subject\n",
    "        print(name , subject)\n",
    "\n",
    "\n",
    "    def knowledege(self):\n",
    "        print(self.name)\n",
    "        print(self.subject)\n",
    "\n",
    "\n",
    "obj =Student(name = \"sourbh\",subject=\"Data science\")\n",
    "obj.knowledege()\n",
    "\n",
    "        "
   ]
  },
  {
   "cell_type": "code",
   "execution_count": null,
   "metadata": {},
   "outputs": [],
   "source": [
    "class grading_System:\n",
    "    # construtore ka used krna hai \n",
    "    "
   ]
  },
  {
   "cell_type": "code",
   "execution_count": 37,
   "metadata": {},
   "outputs": [
    {
     "name": "stdout",
     "output_type": "stream",
     "text": [
      "saurabh python\n"
     ]
    }
   ],
   "source": [
    "class name:\n",
    "    name= 20\n",
    "    \n",
    "    def __init__(self,name,subject):\n",
    "        self.name=name\n",
    "        self.name=subject\n",
    "    \n",
    "        print(name,subject)\n",
    "        \n",
    "    def ram \n",
    "   \n",
    "\n",
    "\n",
    "obj=name(name=\"saurabh\",subject=\"python\")"
   ]
  },
  {
   "cell_type": "code",
   "execution_count": 44,
   "metadata": {},
   "outputs": [
    {
     "name": "stdout",
     "output_type": "stream",
     "text": [
      "saturday 5-10-24\n"
     ]
    }
   ],
   "source": [
    "class a:\n",
    "    a=10\n",
    "    def __init__(self,day,date):\n",
    "        self.day=day\n",
    "        self.date=date\n",
    "        print(day,date)\n",
    "\n",
    "\n",
    "\n",
    "   \n",
    "\n",
    "\n",
    "\n",
    "\n",
    "\n",
    "\n",
    "obj=a(day=\"saturday\",date=\"5-10-24\")\n"
   ]
  },
  {
   "cell_type": "code",
   "execution_count": null,
   "metadata": {},
   "outputs": [],
   "source": []
  }
 ],
 "metadata": {
  "kernelspec": {
   "display_name": "Python 3",
   "language": "python",
   "name": "python3"
  },
  "language_info": {
   "codemirror_mode": {
    "name": "ipython",
    "version": 3
   },
   "file_extension": ".py",
   "mimetype": "text/x-python",
   "name": "python",
   "nbconvert_exporter": "python",
   "pygments_lexer": "ipython3",
   "version": "3.12.3"
  }
 },
 "nbformat": 4,
 "nbformat_minor": 2
}
