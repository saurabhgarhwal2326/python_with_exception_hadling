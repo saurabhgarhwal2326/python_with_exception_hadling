{
 "cells": [
  {
   "cell_type": "markdown",
   "metadata": {},
   "source": [
    "## Python Classes/Objects\n",
    "* Python is an object oriented programming language.\n",
    "\n",
    "* Almost everything in Python is an object, with its properties and methods.\n",
    "\n",
    " * A Class is like an object constructor, or a \"blueprint\" for creating objects."
   ]
  },
  {
   "cell_type": "code",
   "execution_count": 3,
   "metadata": {},
   "outputs": [],
   "source": [
    "class Student: # student is a class classs is a keyword \n",
    "    pass  # pass is a key word \n",
    "# how to create object of the class\n",
    "obj=Student()# create a object. obj is a object of the student class"
   ]
  },
  {
   "cell_type": "code",
   "execution_count": 4,
   "metadata": {},
   "outputs": [],
   "source": [
    "# create a class you the keyword class\n",
    "class my_class:\n",
    "    x=6\n",
    "    y=8\n",
    "    "
   ]
  },
  {
   "cell_type": "code",
   "execution_count": 5,
   "metadata": {},
   "outputs": [],
   "source": [
    "# how to create a class object\n"
   ]
  },
  {
   "cell_type": "code",
   "execution_count": 6,
   "metadata": {},
   "outputs": [],
   "source": [
    "class my_class:\n",
    "    x=7\n",
    "    y=9\n",
    "obj=my_class()    # obj each class object\n"
   ]
  },
  {
   "cell_type": "code",
   "execution_count": 7,
   "metadata": {},
   "outputs": [
    {
     "name": "stdout",
     "output_type": "stream",
     "text": [
      "7\n"
     ]
    }
   ],
   "source": [
    "print(obj.x)"
   ]
  },
  {
   "cell_type": "code",
   "execution_count": 8,
   "metadata": {},
   "outputs": [
    {
     "name": "stdout",
     "output_type": "stream",
     "text": [
      "odd\n"
     ]
    }
   ],
   "source": [
    "class my_class:\n",
    "    def even(b):\n",
    "        if b%2==0:\n",
    "            print(\"evan\")\n",
    "        else:\n",
    "            print(\"odd\")\n",
    "\n",
    "\n",
    "\n",
    "\n",
    "    a=int(input(\"check the number\"))\n",
    "        \n",
    "    even(b=a)\n",
    "\n",
    "  \n",
    "obj=my_class()    \n"
   ]
  },
  {
   "cell_type": "code",
   "execution_count": 9,
   "metadata": {},
   "outputs": [
    {
     "name": "stdout",
     "output_type": "stream",
     "text": [
      "2\n",
      "4\n",
      "6\n",
      "8\n",
      "10\n",
      "12\n",
      "14\n",
      "16\n",
      "18\n",
      "20\n"
     ]
    },
    {
     "data": {
      "text/plain": [
       "<__main__.my_class at 0x1b7868a6d80>"
      ]
     },
     "execution_count": 9,
     "metadata": {},
     "output_type": "execute_result"
    }
   ],
   "source": [
    "class my_class():\n",
    "\n",
    "\n",
    "    def table():\n",
    "\n",
    "\n",
    "        for x in range (1,11):\n",
    "            x*=2\n",
    "            print(x)\n",
    "    table()\n",
    "my_class()"
   ]
  },
  {
   "cell_type": "code",
   "execution_count": 10,
   "metadata": {},
   "outputs": [
    {
     "data": {
      "text/plain": [
       "'by gress'"
      ]
     },
     "execution_count": 10,
     "metadata": {},
     "output_type": "execute_result"
    }
   ],
   "source": [
    "# class Grading_system:\n",
    "def grade(grading_system):\n",
    "        if 90<=grading_system<=100:\n",
    "            return(\"A\")\n",
    "        elif 80 <=grading_system <=89:\n",
    "            return(\"B\")\n",
    "        elif 70 <=grading_system<=79:\n",
    "            return(\"C\")\n",
    "        elif 60 <=grading_system<=69:\n",
    "            return(\"D\")\n",
    "        elif 50 <=grading_system<=59:\n",
    "            return(\"E\")\n",
    "        elif 33 <=grading_system<=49:\n",
    "            return(\"by gress\")\n",
    "        else:\n",
    "            return (\"fail\")\n",
    "grade(grading_system=45)\n",
    "# obj1=Grading_system()\n",
    "# obj1.grade()\n"
   ]
  },
  {
   "cell_type": "code",
   "execution_count": 11,
   "metadata": {},
   "outputs": [
    {
     "name": "stdout",
     "output_type": "stream",
     "text": [
      "hello hii kese ho \n"
     ]
    }
   ],
   "source": [
    "print(\"hello hii kese ho \")"
   ]
  },
  {
   "cell_type": "code",
   "execution_count": 12,
   "metadata": {},
   "outputs": [
    {
     "name": "stdout",
     "output_type": "stream",
     "text": [
      "2\n",
      "4\n",
      "6\n",
      "8\n",
      "10\n",
      "12\n",
      "14\n",
      "16\n",
      "18\n",
      "20\n"
     ]
    }
   ],
   "source": [
    "class table:\n",
    "    def two_tables():\n",
    "        for x in range(2,22,2): # starting point  2 h , 22 h ending point ,or jo 2 h vo h last ke gape \n",
    "            # a+=0\n",
    "            # x%2!=0\n",
    "            print(x)\n",
    "\n",
    "\n",
    "\n",
    "\n",
    "\n",
    "\n",
    "\n",
    "    two_tables()\n",
    "obj=table()\n"
   ]
  },
  {
   "cell_type": "code",
   "execution_count": 13,
   "metadata": {},
   "outputs": [],
   "source": [
    "class Even_odd:\n",
    "    def even():\n",
    "        a=int(input(\"enter the number\"))\n",
    "        while a<10:\n",
    "            a+=1\n",
    "            if a%2==0:\n",
    "                print(\"this is even number\",a)\n",
    "                continue\n",
    "            else:\n",
    "                print('this is odd number',a)\n",
    "    even()\n",
    "obj=Even_odd()"
   ]
  },
  {
   "cell_type": "code",
   "execution_count": 14,
   "metadata": {},
   "outputs": [],
   "source": [
    "class Student:\n",
    "    x  = 4\n",
    "    y =5 \n",
    "p=Student()\n"
   ]
  },
  {
   "cell_type": "code",
   "execution_count": 15,
   "metadata": {},
   "outputs": [],
   "source": [
    "class Student:\n",
    "    x  = 4\n",
    "    y =5 \n",
    "\n",
    "    def hello():\n",
    "        print(\"hello hii kese ho \")\n",
    "    # hello()\n",
    "p=Student()\n",
    "\n",
    "# p.hello()\n"
   ]
  },
  {
   "cell_type": "code",
   "execution_count": 16,
   "metadata": {},
   "outputs": [
    {
     "name": "stdout",
     "output_type": "stream",
     "text": [
      "sourbh Data science\n",
      "sourbh\n",
      "Data science\n"
     ]
    }
   ],
   "source": [
    "class Student:\n",
    "    x= 90 \n",
    "    y = 10 \n",
    "    def __init__(self,name, subject):\n",
    "        self.name = name \n",
    "        self.subject = subject\n",
    "        print(name , subject)\n",
    "\n",
    "\n",
    "    def knowledege(self):\n",
    "        print(self.name)\n",
    "        print(self.subject)\n",
    "\n",
    "\n",
    "obj =Student(name = \"sourbh\",subject=\"Data science\")\n",
    "obj.knowledege()\n",
    "\n",
    "        "
   ]
  },
  {
   "cell_type": "code",
   "execution_count": 17,
   "metadata": {},
   "outputs": [
    {
     "ename": "SyntaxError",
     "evalue": "incomplete input (2583690298.py, line 3)",
     "output_type": "error",
     "traceback": [
      "\u001b[1;36m  Cell \u001b[1;32mIn[17], line 3\u001b[1;36m\u001b[0m\n\u001b[1;33m    \u001b[0m\n\u001b[1;37m    ^\u001b[0m\n\u001b[1;31mSyntaxError\u001b[0m\u001b[1;31m:\u001b[0m incomplete input\n"
     ]
    }
   ],
   "source": [
    "class grading_System:\n",
    "    # construtore ka used krna hai \n",
    "    "
   ]
  },
  {
   "cell_type": "code",
   "execution_count": 37,
   "metadata": {},
   "outputs": [
    {
     "name": "stdout",
     "output_type": "stream",
     "text": [
      "saurabh python\n"
     ]
    }
   ],
   "source": [
    "class name:\n",
    "    name= 20\n",
    "    \n",
    "    def __init__(self,name,subject):\n",
    "        self.name=name\n",
    "        self.name=subject\n",
    "    \n",
    "        print(name,subject)\n",
    "        \n",
    "    def ram__in\n",
    "   \n",
    "\n",
    "\n",
    "obj=name(name=\"saurabh\",subject=\"python\")"
   ]
  },
  {
   "cell_type": "code",
   "execution_count": 44,
   "metadata": {},
   "outputs": [
    {
     "name": "stdout",
     "output_type": "stream",
     "text": [
      "saturday 5-10-24\n"
     ]
    }
   ],
   "source": [
    "class a:\n",
    "    a=10\n",
    "    def __init__(self,day,date):\n",
    "        self.day=day\n",
    "        self.date=date\n",
    "        print(day,date)\n",
    "\n",
    "\n",
    "\n",
    "   \n",
    "\n",
    "\n",
    "\n",
    "\n",
    "\n",
    "\n",
    "obj=a(day=\"saturday\",date=\"5-10-24\")\n"
   ]
  },
  {
   "cell_type": "code",
   "execution_count": 1,
   "metadata": {},
   "outputs": [
    {
     "name": "stdout",
     "output_type": "stream",
     "text": [
      "saurabh\n"
     ]
    }
   ],
   "source": [
    "class Student :\n",
    "  name = \"saurabh\"  \n",
    "  subject= \"python\"\n",
    "  college=\"sobhasariya\"\n",
    "  roll_no=\"56\"\n",
    "\n",
    "\n",
    "\n",
    "\n",
    "\n",
    "\n",
    "\n",
    "obj=Student() \n",
    "print(obj.name)"
   ]
  },
  {
   "cell_type": "code",
   "execution_count": 8,
   "metadata": {},
   "outputs": [
    {
     "name": "stdout",
     "output_type": "stream",
     "text": [
      "ranjit sir \n",
      "67k\n"
     ]
    }
   ],
   "source": [
    "class College:\n",
    "    name = \"saurabh\"  \n",
    "    subject= \"python\"\n",
    "    college=\"sobhasariya\"\n",
    "    roll_no=\"56\"\n",
    "    def teacher(self,teache_name, teacher_salary):\n",
    "        self.teacher_name=teache_name\n",
    "        self.teacher_salary=teacher_salary\n",
    "        \n",
    "        print(teache_name)\n",
    "        print(teacher_salary)\n",
    "     \n",
    "   \n",
    "obj= College()\n",
    "obj.teacher(teache_name=\"ranjit sir \",teacher_salary=\"67k\")"
   ]
  },
  {
   "cell_type": "code",
   "execution_count": 9,
   "metadata": {},
   "outputs": [
    {
     "name": "stdout",
     "output_type": "stream",
     "text": [
      "ranjit sir \n",
      "67k\n",
      "saurabh\n"
     ]
    }
   ],
   "source": [
    "class College:\n",
    "    name = \"saurabh\"  \n",
    "    subject= \"python\"\n",
    "    college=\"sobhasariya\"\n",
    "    roll_no=\"56\"\n",
    "    def infomation(self,teache_name, teacher_salary):\n",
    "        self.teacher_name=teache_name\n",
    "        self.teacher_salary=teacher_salary\n",
    "        \n",
    "        print(teache_name)\n",
    "        print(teacher_salary)\n",
    "        print(self.name)\n",
    "    \n",
    "     \n",
    "   \n",
    "obj= College()\n",
    "obj.infomation(teache_name=\"ranjit sir \",teacher_salary=\"67k\")"
   ]
  },
  {
   "cell_type": "code",
   "execution_count": 14,
   "metadata": {},
   "outputs": [
    {
     "name": "stdout",
     "output_type": "stream",
     "text": [
      "saurabh\n",
      "python\n",
      "sobhasariya\n",
      "56\n",
      "govind 30k\n",
      "amisha 5000 kumbha_marg\n"
     ]
    }
   ],
   "source": [
    "class College:\n",
    "    name = \"saurabh\"  \n",
    "    subject= \"python\"\n",
    "    college=\"sobhasariya\"\n",
    "    roll_no=\"56\"\n",
    "    def student_information(self):\n",
    "        print(self.name)\n",
    "        print(self.subject)\n",
    "        print(self.college)\n",
    "        print(self.roll_no)\n",
    "\n",
    "    def mail_teacher(self,mail_teacher_name,mail_teacher_salery):\n",
    "        self.mail_teacher_name=mail_teacher_name\n",
    "        self.mail_teacher_salery=mail_teacher_salery\n",
    "        print(mail_teacher_name,mail_teacher_salery)\n",
    "\n",
    "\n",
    "    def femail_teacher(self,femail_teacher_name,femail_teacher_salery,teachers_adress):\n",
    "        self.femail_teacher_name=femail_teacher_name\n",
    "        self.femail_teacher_salery=femail_teacher_salery\n",
    "        self.teachers_adress=teachers_adress\n",
    "        print(femail_teacher_name,femail_teacher_salery,teachers_adress)   \n",
    "obj= College()\n",
    "obj.student_information()\n",
    "obj.mail_teacher(mail_teacher_name=\"govind\",mail_teacher_salery=\"30k\")\n",
    "obj.femail_teacher(femail_teacher_name=\"amisha\",femail_teacher_salery=\"5000\",teachers_adress=\"kumbha_marg\")\n"
   ]
  },
  {
   "cell_type": "code",
   "execution_count": 38,
   "metadata": {},
   "outputs": [
    {
     "name": "stdout",
     "output_type": "stream",
     "text": [
      "A+\n"
     ]
    }
   ],
   "source": [
    "class Number():\n",
    "    def even_odd(self , a ):\n",
    "        if a%2==0:\n",
    "            print(\"this number is even\",a)\n",
    "        else:\n",
    "            print(\"this number is odd\",a)\n",
    "\n",
    "        \n",
    "\n",
    "    def two_tables(self):\n",
    "        for self.x in range(2,22,2):\n",
    "            print(self.x)\n",
    "   \n",
    "    def lst_even_odd(self):\n",
    "        a = [1,34,5,5,5,56,6,6,6]\n",
    "        self.a = a \n",
    "        for x in self.a:\n",
    "            if x %2==0:\n",
    "                print(\"even\")\n",
    "        else:\n",
    "            print(\"odd\")\n",
    "    def tpl_even_odd(self):\n",
    "        self.a =(1,2,3,4,5,6,7)\n",
    "        for x in self.a:\n",
    "            if x%2==0:\n",
    "                print(\"even\")\n",
    "            else:\n",
    "                print(\"odd\")\n",
    "    def discount(self,bb):\n",
    "        if bb>100:\n",
    "            print(r\"thank you you are received 10% discount\")\n",
    "            print(bb*10/100)\n",
    "            print(r\"thanks for visiting\")\n",
    "        else:\n",
    "            print(r\"you are not received 10% discound\")\n",
    "            print(\"thanks for visiting \")\n",
    "\n",
    "\n",
    "    def grading_system(self,cc):\n",
    "        if 100>=cc>=90:\n",
    "            print(\"A+\")\n",
    "        elif 89>=cc>=80:\n",
    "            print(\"A\")\n",
    "        elif 79>=cc>=70:\n",
    "            print(\"B\")\n",
    "        elif 69>=cc>=60:\n",
    "            print(\"C\")\n",
    "        elif 59>=cc>=50:\n",
    "            print(\"gress\")\n",
    "        else:\n",
    "            print(\"fail\")\n",
    "            def sum(self,dd):\n",
    "                dd=[32,3,4,5,76,66,7,8]\n",
    "                \n",
    "\n",
    "\n",
    "        \n",
    "      \n",
    "num=Number()\n",
    "# num.even_odd(a=9)\n",
    "# num.two_tables()\n",
    "# num.lst_even_odd()\n",
    "# num.discount(bb=1000)\n",
    "num.grading_system(90)"
   ]
  },
  {
   "cell_type": "code",
   "execution_count": 2,
   "metadata": {},
   "outputs": [
    {
     "name": "stdout",
     "output_type": "stream",
     "text": [
      "110\n",
      "90\n",
      "1000\n",
      "10.0\n",
      "10\n",
      "0\n",
      "ayiarsahboS\n",
      "SOBHASRAIYA\n",
      "saur\n",
      "a\n",
      "even number\n",
      "314.0\n",
      "cow\n",
      "20\n",
      "jarman\n",
      "5\n"
     ]
    }
   ],
   "source": [
    "class Sobhasraiya:\n",
    "    #Write a Python program to demonstrate the use of variables, assignment, and basic arithmetic \n",
    "# operations.\n",
    "    def arthimatic_operation(self , a ,b):\n",
    "        print(a+b)\n",
    "        print(a-b)\n",
    "        print(a*b)\n",
    "        print(a/b)\n",
    "        print(a//b)\n",
    "        print(a%b)\n",
    "\n",
    "  #Create a Python script to count the number of vowels, reverse a string, and convert the string \n",
    "    # to uppercase.\n",
    "    def string_count(self,name):\n",
    "        print(name[::-1])\n",
    "        print(name.upper())\n",
    "\n",
    "#3. Implement a Python program to demonstrate string slicing, indexing, and using string \n",
    "    # operators like concatenation and repetition. \n",
    "\n",
    "    def indexing_slicing(self,ind):\n",
    "        print(ind[0:4]) # slicing\n",
    "        print(ind[4])  # indexing\n",
    "\n",
    "\n",
    "#4. Write a Python program that checks if a given integer is even or odd using an if-else \n",
    "     # statement. \n",
    "    def even_odd(self, xx):\n",
    "        if xx%2==0:\n",
    "            print(\"even number\")\n",
    "        else:\n",
    "            print(\"odd number\")\n",
    "    \n",
    "#5. Create a Python script to print the Fibonacci sequence up to a given number n using a while \n",
    "    # loop. \n",
    "\n",
    "    def Fibonacci_sequence(self,n):\n",
    "        lst=[0,1]\n",
    "        while len(lst)<n:\n",
    "            lst.append(lst[-1]+lst[-2])\n",
    "        return lst[:n]\n",
    "    \n",
    "\n",
    "#6.   Define a class Circle with attributes radius and methods to calculate area and circumference.\n",
    "\n",
    "    def circle(self ,radius):\n",
    "        self.radius = radius\n",
    "        print(3.14 * radius**2)\n",
    "sob=Sobhasraiya()\n",
    "sob.arthimatic_operation(a = 100, b=10)\n",
    "sob.string_count(\"Sobhasraiya\")\n",
    "sob.indexing_slicing(\"saurabh\")\n",
    "sob.even_odd(4)\n",
    "sob.Fibonacci_sequence( n=10)\n",
    "sob.circle(10)\n",
    "\n",
    "\n",
    "###7. Write a Python program to demonstrate single inheritance by creating a base class Animal and \n",
    "# a derived class Dog. Implement methods to show polymorphism.\n",
    "\n",
    "\n",
    "class animal:\n",
    "    animals_name=\"cow\"\n",
    "    animal_age=20\n",
    "class dog(animal):\n",
    "    dog_name=\"jarman\"    \n",
    "    dog_age=5\n",
    "\n",
    "obj=dog()\n",
    "print(obj.animals_name)\n",
    "print(obj.animal_age)\n",
    "print(obj.dog_name)\n",
    "print(obj.dog_age)\n",
    "\n",
    "##8. Create a Python script to remove duplicates from a list of numbers and sort it in ascending \n",
    "# order. \n",
    "\n",
    "\n",
    "\n",
    "\n",
    "\n",
    "\n",
    "\n"
   ]
  },
  {
   "cell_type": "code",
   "execution_count": null,
   "metadata": {},
   "outputs": [],
   "source": []
  },
  {
   "cell_type": "code",
   "execution_count": null,
   "metadata": {},
   "outputs": [],
   "source": []
  }
 ],
 "metadata": {
  "kernelspec": {
   "display_name": "Python 3",
   "language": "python",
   "name": "python3"
  },
  "language_info": {
   "codemirror_mode": {
    "name": "ipython",
    "version": 3
   },
   "file_extension": ".py",
   "mimetype": "text/x-python",
   "name": "python",
   "nbconvert_exporter": "python",
   "pygments_lexer": "ipython3",
   "version": "3.12.3"
  }
 },
 "nbformat": 4,
 "nbformat_minor": 2
}
