{
 "cells": [
  {
   "cell_type": "markdown",
   "metadata": {},
   "source": [
    "## Python Classes/Objects\n",
    "* Python is an object oriented programming language.\n",
    "\n",
    "* Almost everything in Python is an object, with its properties and methods.\n",
    "\n",
    " * A Class is like an object constructor, or a \"blueprint\" for creating objects."
   ]
  },
  {
   "cell_type": "code",
   "execution_count": 1,
   "metadata": {},
   "outputs": [],
   "source": [
    "# create a class you the keyword class\n",
    "class my_class:\n",
    "    x=6\n",
    "    y=8\n",
    "    "
   ]
  },
  {
   "cell_type": "code",
   "execution_count": null,
   "metadata": {},
   "outputs": [],
   "source": [
    "# how to create a class object\n"
   ]
  },
  {
   "cell_type": "code",
   "execution_count": 5,
   "metadata": {},
   "outputs": [],
   "source": [
    "class my_class:\n",
    "    x=7\n",
    "    y=9\n",
    "obj=my_class()    # obj each class object\n"
   ]
  },
  {
   "cell_type": "code",
   "execution_count": 6,
   "metadata": {},
   "outputs": [
    {
     "name": "stdout",
     "output_type": "stream",
     "text": [
      "7\n"
     ]
    }
   ],
   "source": [
    "print(obj.x)"
   ]
  },
  {
   "cell_type": "code",
   "execution_count": 1,
   "metadata": {},
   "outputs": [
    {
     "name": "stdout",
     "output_type": "stream",
     "text": [
      "evan\n"
     ]
    }
   ],
   "source": [
    "class my_class:\n",
    "    def even(b):\n",
    "        if b%2==0:\n",
    "            print(\"evan\")\n",
    "        else:\n",
    "            print(\"odd\")\n",
    "\n",
    "\n",
    "\n",
    "\n",
    "    a=int(input(\"check the number\"))\n",
    "        \n",
    "    even(b=a)\n",
    "\n",
    "  \n",
    "obj=my_class()    \n"
   ]
  },
  {
   "cell_type": "code",
   "execution_count": 27,
   "metadata": {},
   "outputs": [
    {
     "name": "stdout",
     "output_type": "stream",
     "text": [
      "2\n",
      "4\n",
      "6\n",
      "8\n",
      "10\n",
      "12\n",
      "14\n",
      "16\n",
      "18\n",
      "20\n"
     ]
    },
    {
     "data": {
      "text/plain": [
       "<__main__.my_class at 0x22945e17080>"
      ]
     },
     "execution_count": 27,
     "metadata": {},
     "output_type": "execute_result"
    }
   ],
   "source": [
    "class my_class():\n",
    "\n",
    "\n",
    "    def table():\n",
    "\n",
    "\n",
    "        for x in range (1,11):\n",
    "            x*=2\n",
    "            print(x)\n",
    "    table()\n",
    "my_class()"
   ]
  },
  {
   "cell_type": "code",
   "execution_count": null,
   "metadata": {},
   "outputs": [],
   "source": [
    "class Discout:\n",
    "    def grade():\n",
    "        pass\n",
    "    grade\n",
    "\n",
    "\n",
    "\n",
    "\n",
    "\n",
    "\n",
    "\n",
    "\n",
    "\n",
    "obj1=Discout()"
   ]
  }
 ],
 "metadata": {
  "kernelspec": {
   "display_name": "Python 3",
   "language": "python",
   "name": "python3"
  },
  "language_info": {
   "codemirror_mode": {
    "name": "ipython",
    "version": 3
   },
   "file_extension": ".py",
   "mimetype": "text/x-python",
   "name": "python",
   "nbconvert_exporter": "python",
   "pygments_lexer": "ipython3",
   "version": "3.12.3"
  }
 },
 "nbformat": 4,
 "nbformat_minor": 2
}
